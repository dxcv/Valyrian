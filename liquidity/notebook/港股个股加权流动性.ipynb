{
 "cells": [
  {
   "cell_type": "markdown",
   "metadata": {},
   "source": [
    "# 港股个股加权流动性\n",
    "\n",
    "用聚源数据库港股行情数据计算港股各只股票Amihud流动性，再以一定权重加权得到港股流动性指标"
   ]
  },
  {
   "cell_type": "code",
   "execution_count": 81,
   "metadata": {},
   "outputs": [],
   "source": [
    "import pyodbc\n",
    "import numpy as np\n",
    "import pandas as pd\n",
    "import matplotlib.pyplot as plt\n",
    "%matplotlib inline"
   ]
  },
  {
   "cell_type": "markdown",
   "metadata": {},
   "source": [
    "## 读取成分股"
   ]
  },
  {
   "cell_type": "code",
   "execution_count": 96,
   "metadata": {},
   "outputs": [],
   "source": [
    "INDEX_CODE = 'HSI'"
   ]
  },
  {
   "cell_type": "code",
   "execution_count": 97,
   "metadata": {},
   "outputs": [],
   "source": [
    "comp_df = pd.read_excel('../data/components/%s.xlsx'%(INDEX_CODE), index_col=0)"
   ]
  },
  {
   "cell_type": "code",
   "execution_count": 98,
   "metadata": {},
   "outputs": [
    {
     "data": {
      "text/html": [
       "<div>\n",
       "<style scoped>\n",
       "    .dataframe tbody tr th:only-of-type {\n",
       "        vertical-align: middle;\n",
       "    }\n",
       "\n",
       "    .dataframe tbody tr th {\n",
       "        vertical-align: top;\n",
       "    }\n",
       "\n",
       "    .dataframe thead th {\n",
       "        text-align: right;\n",
       "    }\n",
       "</style>\n",
       "<table border=\"1\" class=\"dataframe\">\n",
       "  <thead>\n",
       "    <tr style=\"text-align: right;\">\n",
       "      <th></th>\n",
       "      <th>代码</th>\n",
       "      <th>简称</th>\n",
       "      <th>收盘(元)</th>\n",
       "      <th>权重（%）↓</th>\n",
       "      <th>涨跌</th>\n",
       "      <th>涨跌幅(%)</th>\n",
       "      <th>指数贡献点</th>\n",
       "      <th>成交量(万股)</th>\n",
       "      <th>成交额(万元)</th>\n",
       "      <th>总股本(亿股)</th>\n",
       "      <th>自由流通股本(亿股)</th>\n",
       "      <th>总市值(亿元)</th>\n",
       "      <th>自由流通市值(亿元)</th>\n",
       "      <th>证监会行业</th>\n",
       "      <th>Wind行业</th>\n",
       "    </tr>\n",
       "    <tr>\n",
       "      <th>排名</th>\n",
       "      <th></th>\n",
       "      <th></th>\n",
       "      <th></th>\n",
       "      <th></th>\n",
       "      <th></th>\n",
       "      <th></th>\n",
       "      <th></th>\n",
       "      <th></th>\n",
       "      <th></th>\n",
       "      <th></th>\n",
       "      <th></th>\n",
       "      <th></th>\n",
       "      <th></th>\n",
       "      <th></th>\n",
       "      <th></th>\n",
       "    </tr>\n",
       "  </thead>\n",
       "  <tbody>\n",
       "    <tr>\n",
       "      <th>1</th>\n",
       "      <td>0002.HK</td>\n",
       "      <td>中电控股</td>\n",
       "      <td>87.10</td>\n",
       "      <td>0.0</td>\n",
       "      <td>0.00</td>\n",
       "      <td>0.00</td>\n",
       "      <td>0.0</td>\n",
       "      <td>830.19</td>\n",
       "      <td>71,964.80</td>\n",
       "      <td>--</td>\n",
       "      <td>15.86</td>\n",
       "      <td>2,200.54</td>\n",
       "      <td>--</td>\n",
       "      <td>NaN</td>\n",
       "      <td>公用事业</td>\n",
       "    </tr>\n",
       "    <tr>\n",
       "      <th>2</th>\n",
       "      <td>0003.HK</td>\n",
       "      <td>香港中华煤气</td>\n",
       "      <td>14.92</td>\n",
       "      <td>0.0</td>\n",
       "      <td>0.00</td>\n",
       "      <td>0.00</td>\n",
       "      <td>0.0</td>\n",
       "      <td>1,828.27</td>\n",
       "      <td>27,178.53</td>\n",
       "      <td>--</td>\n",
       "      <td>89.97</td>\n",
       "      <td>2,295.65</td>\n",
       "      <td>--</td>\n",
       "      <td>NaN</td>\n",
       "      <td>公用事业</td>\n",
       "    </tr>\n",
       "    <tr>\n",
       "      <th>3</th>\n",
       "      <td>0005.HK</td>\n",
       "      <td>汇丰控股</td>\n",
       "      <td>68.45</td>\n",
       "      <td>0.0</td>\n",
       "      <td>0.00</td>\n",
       "      <td>0.00</td>\n",
       "      <td>0.0</td>\n",
       "      <td>1,606.82</td>\n",
       "      <td>110,435.78</td>\n",
       "      <td>--</td>\n",
       "      <td>175.96</td>\n",
       "      <td>13,863.22</td>\n",
       "      <td>--</td>\n",
       "      <td>NaN</td>\n",
       "      <td>金融</td>\n",
       "    </tr>\n",
       "    <tr>\n",
       "      <th>4</th>\n",
       "      <td>0006.HK</td>\n",
       "      <td>电能实业</td>\n",
       "      <td>53.50</td>\n",
       "      <td>0.0</td>\n",
       "      <td>--</td>\n",
       "      <td>--</td>\n",
       "      <td>0.0</td>\n",
       "      <td>342.10</td>\n",
       "      <td>18,292.89</td>\n",
       "      <td>--</td>\n",
       "      <td>13.05</td>\n",
       "      <td>1,141.83</td>\n",
       "      <td>--</td>\n",
       "      <td>NaN</td>\n",
       "      <td>公用事业</td>\n",
       "    </tr>\n",
       "    <tr>\n",
       "      <th>5</th>\n",
       "      <td>1997.HK</td>\n",
       "      <td>九龙仓置业</td>\n",
       "      <td>51.35</td>\n",
       "      <td>0.0</td>\n",
       "      <td>0.00</td>\n",
       "      <td>0.00</td>\n",
       "      <td>0.0</td>\n",
       "      <td>234.91</td>\n",
       "      <td>12,012.84</td>\n",
       "      <td>--</td>\n",
       "      <td>11.66</td>\n",
       "      <td>1,559.10</td>\n",
       "      <td>--</td>\n",
       "      <td>NaN</td>\n",
       "      <td>房地产</td>\n",
       "    </tr>\n",
       "  </tbody>\n",
       "</table>\n",
       "</div>"
      ],
      "text/plain": [
       "         代码      简称  收盘(元)  权重（%）↓    涨跌 涨跌幅(%)  指数贡献点   成交量(万股)     成交额(万元)  \\\n",
       "排名                                                                             \n",
       "1   0002.HK    中电控股  87.10     0.0  0.00   0.00    0.0    830.19   71,964.80   \n",
       "2   0003.HK  香港中华煤气  14.92     0.0  0.00   0.00    0.0  1,828.27   27,178.53   \n",
       "3   0005.HK    汇丰控股  68.45     0.0  0.00   0.00    0.0  1,606.82  110,435.78   \n",
       "4   0006.HK    电能实业  53.50     0.0    --     --    0.0    342.10   18,292.89   \n",
       "5   1997.HK   九龙仓置业  51.35     0.0  0.00   0.00    0.0    234.91   12,012.84   \n",
       "\n",
       "   总股本(亿股)  自由流通股本(亿股)    总市值(亿元) 自由流通市值(亿元) 证监会行业 Wind行业  \n",
       "排名                                                         \n",
       "1       --       15.86   2,200.54         --   NaN   公用事业  \n",
       "2       --       89.97   2,295.65         --   NaN   公用事业  \n",
       "3       --      175.96  13,863.22         --   NaN     金融  \n",
       "4       --       13.05   1,141.83         --   NaN   公用事业  \n",
       "5       --       11.66   1,559.10         --   NaN    房地产  "
      ]
     },
     "execution_count": 98,
     "metadata": {},
     "output_type": "execute_result"
    }
   ],
   "source": [
    "comp_df.head()"
   ]
  },
  {
   "cell_type": "markdown",
   "metadata": {},
   "source": [
    "## 逐个访问数据库并提取历史行情"
   ]
  },
  {
   "cell_type": "code",
   "execution_count": 99,
   "metadata": {},
   "outputs": [],
   "source": [
    "conn = pyodbc.connect('DRIVER={SQL Server};SERVER=10.0.185.138;DATABASE=JYDB;UID=js_dev;PWD=js_dev')"
   ]
  },
  {
   "cell_type": "code",
   "execution_count": 100,
   "metadata": {},
   "outputs": [],
   "source": [
    "dic = {}\n",
    "for code in comp_df[u'代码']:\n",
    "    jycode = '0' + code.rstrip('.HK')\n",
    "    query = 'SELECT qt.TradingDay, qt.ClosePrice, qt.ChangePCT, qt.TurnoverVolume, t.SecuCode, t.SecuAbbr \\\n",
    "             FROM QT_HKDailyQuote as qt, HK_SecuMain as t \\\n",
    "             WHERE qt.InnerCode = t.InnerCode \\\n",
    "                AND t.SecuCode = \\'%s\\' \\\n",
    "                ORDER BY qt.TradingDay DESC'%(jycode)\n",
    "    cur_df = pd.read_sql_query(query, con=conn)\n",
    "    cur_df.set_index('TradingDay', inplace=True)\n",
    "    dic[code] = cur_df['ChangePCT'].abs() * 1e8 / cur_df['TurnoverVolume']"
   ]
  },
  {
   "cell_type": "code",
   "execution_count": 101,
   "metadata": {},
   "outputs": [],
   "source": [
    "df = pd.DataFrame(dic)"
   ]
  },
  {
   "cell_type": "code",
   "execution_count": 102,
   "metadata": {},
   "outputs": [],
   "source": [
    "df = df.replace([-np.inf, np.inf], 0)"
   ]
  },
  {
   "cell_type": "code",
   "execution_count": 103,
   "metadata": {},
   "outputs": [],
   "source": [
    "liquidity = df.mean(axis=1)\n",
    "liquidity.to_excel('../data/liquidity/%s.xlsx'%(INDEX_CODE))"
   ]
  },
  {
   "cell_type": "code",
   "execution_count": 104,
   "metadata": {},
   "outputs": [],
   "source": [
    "liquidity = liquidity[liquidity.index >= '2010-01-01']"
   ]
  },
  {
   "cell_type": "code",
   "execution_count": 105,
   "metadata": {},
   "outputs": [
    {
     "data": {
      "text/plain": [
       "TradingDay\n",
       "2018-10-05    13.811445\n",
       "2018-10-08    17.374618\n",
       "2018-10-09    13.252301\n",
       "2018-10-10    17.237835\n",
       "2018-10-11    29.279976\n",
       "dtype: float64"
      ]
     },
     "execution_count": 105,
     "metadata": {},
     "output_type": "execute_result"
    }
   ],
   "source": [
    "liquidity.tail()"
   ]
  },
  {
   "cell_type": "code",
   "execution_count": 106,
   "metadata": {},
   "outputs": [
    {
     "data": {
      "text/plain": [
       "<BarContainer object of 2163 artists>"
      ]
     },
     "execution_count": 106,
     "metadata": {},
     "output_type": "execute_result"
    },
    {
     "data": {
      "image/png": "[encoded data removed]",
      "text/plain": [
       "<Figure size 1152x648 with 1 Axes>"
      ]
     },
     "metadata": {},
     "output_type": "display_data"
    }
   ],
   "source": [
    "fig, ax = plt.subplots(figsize=(16, 9))\n",
    "ax.bar(liquidity.index, liquidity, width=2)"
   ]
  },
  {
   "cell_type": "code",
   "execution_count": 107,
   "metadata": {},
   "outputs": [],
   "source": [
    "z = liquidity.rolling(243).apply(lambda x: (x[-1] - x.mean()) / x.std())"
   ]
  },
  {
   "cell_type": "code",
   "execution_count": 108,
   "metadata": {},
   "outputs": [],
   "source": [
    "z[z < 2] = 0"
   ]
  },
  {
   "cell_type": "code",
   "execution_count": 109,
   "metadata": {},
   "outputs": [
    {
     "data": {
      "text/plain": [
       "<BarContainer object of 2163 artists>"
      ]
     },
     "execution_count": 109,
     "metadata": {},
     "output_type": "execute_result"
    },
    {
     "data": {
      "image/png": "[encoded data removed]",
      "text/plain": [
       "<Figure size 1152x648 with 1 Axes>"
      ]
     },
     "metadata": {},
     "output_type": "display_data"
    }
   ],
   "source": [
    "fig, ax = plt.subplots(figsize=(16, 9))\n",
    "ax.bar(z.index, z, width=2)"
   ]
  },
  {
   "cell_type": "code",
   "execution_count": null,
   "metadata": {},
   "outputs": [],
   "source": []
  }
 ],
 "metadata": {
  "kernelspec": {
   "display_name": "Python 2",
   "language": "python",
   "name": "python2"
  },
  "language_info": {
   "codemirror_mode": {
    "name": "ipython",
    "version": 2
   },
   "file_extension": ".py",
   "mimetype": "text/x-python",
   "name": "python",
   "nbconvert_exporter": "python",
   "pygments_lexer": "ipython2",
   "version": "2.7.14"
  }
 },
 "nbformat": 4,
 "nbformat_minor": 2
}
