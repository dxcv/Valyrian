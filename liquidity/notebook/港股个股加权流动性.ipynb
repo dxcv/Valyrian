{
 "cells": [
  {
   "cell_type": "markdown",
   "metadata": {},
   "source": [
    "# 港股个股加权流动性\n",
    "\n",
    "用聚源数据库港股行情数据计算港股各只股票Amihud流动性，再以一定权重加权得到港股流动性指标"
   ]
  },
  {
   "cell_type": "code",
   "execution_count": 32,
   "metadata": {},
   "outputs": [],
   "source": [
    "import pyodbc\n",
    "import numpy as np\n",
    "import pandas as pd\n",
    "import matplotlib.pyplot as plt\n",
    "%matplotlib inline"
   ]
  },
  {
   "cell_type": "markdown",
   "metadata": {},
   "source": [
    "## 读取成分股"
   ]
  },
  {
   "cell_type": "code",
   "execution_count": 68,
   "metadata": {},
   "outputs": [],
   "source": [
    "INDEX_CODE = 'HSCEI'"
   ]
  },
  {
   "cell_type": "code",
   "execution_count": 69,
   "metadata": {},
   "outputs": [],
   "source": [
    "comp_df = pd.read_excel('../data/components/%s.xlsx'%(INDEX_CODE), index_col=0)"
   ]
  },
  {
   "cell_type": "code",
   "execution_count": 70,
   "metadata": {},
   "outputs": [
    {
     "data": {
      "text/html": [
       "<div>\n",
       "<style scoped>\n",
       "    .dataframe tbody tr th:only-of-type {\n",
       "        vertical-align: middle;\n",
       "    }\n",
       "\n",
       "    .dataframe tbody tr th {\n",
       "        vertical-align: top;\n",
       "    }\n",
       "\n",
       "    .dataframe thead th {\n",
       "        text-align: right;\n",
       "    }\n",
       "</style>\n",
       "<table border=\"1\" class=\"dataframe\">\n",
       "  <thead>\n",
       "    <tr style=\"text-align: right;\">\n",
       "      <th></th>\n",
       "      <th>代码</th>\n",
       "      <th>简称</th>\n",
       "      <th>收盘(元)</th>\n",
       "      <th>权重（%）↓</th>\n",
       "      <th>涨跌</th>\n",
       "      <th>涨跌幅(%)</th>\n",
       "      <th>指数贡献点</th>\n",
       "      <th>成交量(万股)</th>\n",
       "      <th>成交额(万元)</th>\n",
       "      <th>总股本(亿股)</th>\n",
       "      <th>自由流通股本(亿股)</th>\n",
       "      <th>总市值(亿元)</th>\n",
       "      <th>自由流通市值(亿元)</th>\n",
       "      <th>证监会行业</th>\n",
       "      <th>Wind行业</th>\n",
       "    </tr>\n",
       "    <tr>\n",
       "      <th>排名</th>\n",
       "      <th></th>\n",
       "      <th></th>\n",
       "      <th></th>\n",
       "      <th></th>\n",
       "      <th></th>\n",
       "      <th></th>\n",
       "      <th></th>\n",
       "      <th></th>\n",
       "      <th></th>\n",
       "      <th></th>\n",
       "      <th></th>\n",
       "      <th></th>\n",
       "      <th></th>\n",
       "      <th></th>\n",
       "      <th></th>\n",
       "    </tr>\n",
       "  </thead>\n",
       "  <tbody>\n",
       "    <tr>\n",
       "      <th>1</th>\n",
       "      <td>6060.HK</td>\n",
       "      <td>众安在线</td>\n",
       "      <td>26.45</td>\n",
       "      <td>0.0</td>\n",
       "      <td>-0.45</td>\n",
       "      <td>-1.67</td>\n",
       "      <td>0.0</td>\n",
       "      <td>212.80</td>\n",
       "      <td>5,657.39</td>\n",
       "      <td>--</td>\n",
       "      <td>4.40</td>\n",
       "      <td>388.77</td>\n",
       "      <td>--</td>\n",
       "      <td>NaN</td>\n",
       "      <td>金融</td>\n",
       "    </tr>\n",
       "    <tr>\n",
       "      <th>2</th>\n",
       "      <td>1109.HK</td>\n",
       "      <td>华润置地</td>\n",
       "      <td>25.15</td>\n",
       "      <td>0.0</td>\n",
       "      <td>-0.60</td>\n",
       "      <td>-2.33</td>\n",
       "      <td>0.0</td>\n",
       "      <td>1,379.29</td>\n",
       "      <td>35,034.55</td>\n",
       "      <td>--</td>\n",
       "      <td>26.84</td>\n",
       "      <td>1,743.13</td>\n",
       "      <td>--</td>\n",
       "      <td>房地产业</td>\n",
       "      <td>房地产</td>\n",
       "    </tr>\n",
       "    <tr>\n",
       "      <th>3</th>\n",
       "      <td>1093.HK</td>\n",
       "      <td>石药集团</td>\n",
       "      <td>15.18</td>\n",
       "      <td>0.0</td>\n",
       "      <td>-0.48</td>\n",
       "      <td>-3.07</td>\n",
       "      <td>0.0</td>\n",
       "      <td>2,258.96</td>\n",
       "      <td>34,558.73</td>\n",
       "      <td>--</td>\n",
       "      <td>42.02</td>\n",
       "      <td>947.69</td>\n",
       "      <td>--</td>\n",
       "      <td>医药制造业</td>\n",
       "      <td>医疗保健</td>\n",
       "    </tr>\n",
       "    <tr>\n",
       "      <th>4</th>\n",
       "      <td>1044.HK</td>\n",
       "      <td>恒安国际</td>\n",
       "      <td>68.90</td>\n",
       "      <td>0.0</td>\n",
       "      <td>-2.10</td>\n",
       "      <td>-2.96</td>\n",
       "      <td>0.0</td>\n",
       "      <td>320.34</td>\n",
       "      <td>22,330.82</td>\n",
       "      <td>--</td>\n",
       "      <td>7.30</td>\n",
       "      <td>830.98</td>\n",
       "      <td>--</td>\n",
       "      <td>综合</td>\n",
       "      <td>日常消费</td>\n",
       "    </tr>\n",
       "    <tr>\n",
       "      <th>5</th>\n",
       "      <td>0384.HK</td>\n",
       "      <td>中国燃气</td>\n",
       "      <td>21.70</td>\n",
       "      <td>0.0</td>\n",
       "      <td>-0.25</td>\n",
       "      <td>-1.14</td>\n",
       "      <td>0.0</td>\n",
       "      <td>1,440.37</td>\n",
       "      <td>31,578.00</td>\n",
       "      <td>--</td>\n",
       "      <td>14.06</td>\n",
       "      <td>1,102.65</td>\n",
       "      <td>--</td>\n",
       "      <td>燃气生产和供应业</td>\n",
       "      <td>公用事业</td>\n",
       "    </tr>\n",
       "  </tbody>\n",
       "</table>\n",
       "</div>"
      ],
      "text/plain": [
       "         代码    简称  收盘(元)  权重（%）↓    涨跌  涨跌幅(%)  指数贡献点   成交量(万股)    成交额(万元)  \\\n",
       "排名                                                                           \n",
       "1   6060.HK  众安在线  26.45     0.0 -0.45   -1.67    0.0    212.80   5,657.39   \n",
       "2   1109.HK  华润置地  25.15     0.0 -0.60   -2.33    0.0  1,379.29  35,034.55   \n",
       "3   1093.HK  石药集团  15.18     0.0 -0.48   -3.07    0.0  2,258.96  34,558.73   \n",
       "4   1044.HK  恒安国际  68.90     0.0 -2.10   -2.96    0.0    320.34  22,330.82   \n",
       "5   0384.HK  中国燃气  21.70     0.0 -0.25   -1.14    0.0  1,440.37  31,578.00   \n",
       "\n",
       "   总股本(亿股)  自由流通股本(亿股)   总市值(亿元) 自由流通市值(亿元)     证监会行业 Wind行业  \n",
       "排名                                                            \n",
       "1       --        4.40    388.77         --       NaN     金融  \n",
       "2       --       26.84  1,743.13         --      房地产业    房地产  \n",
       "3       --       42.02    947.69         --     医药制造业   医疗保健  \n",
       "4       --        7.30    830.98         --        综合   日常消费  \n",
       "5       --       14.06  1,102.65         --  燃气生产和供应业   公用事业  "
      ]
     },
     "execution_count": 70,
     "metadata": {},
     "output_type": "execute_result"
    }
   ],
   "source": [
    "comp_df.head()"
   ]
  },
  {
   "cell_type": "markdown",
   "metadata": {},
   "source": [
    "## 逐个访问数据库并提取历史行情"
   ]
  },
  {
   "cell_type": "code",
   "execution_count": 71,
   "metadata": {},
   "outputs": [],
   "source": [
    "conn = pyodbc.connect('DRIVER={SQL Server};SERVER=10.0.185.138;DATABASE=JYDB;UID=js_dev;PWD=js_dev')"
   ]
  },
  {
   "cell_type": "code",
   "execution_count": 72,
   "metadata": {},
   "outputs": [],
   "source": [
    "dic = {}\n",
    "for code in comp_df[u'代码']:\n",
    "    jycode = '0' + code.rstrip('.HK')\n",
    "    query = 'SELECT qt.TradingDay, qt.ClosePrice, qt.ChangePCT, qt.TurnoverVolume, t.SecuCode, t.SecuAbbr \\\n",
    "             FROM QT_HKDailyQuote as qt, HK_SecuMain as t \\\n",
    "             WHERE qt.InnerCode = t.InnerCode \\\n",
    "                AND t.SecuCode = \\'%s\\' \\\n",
    "                ORDER BY qt.TradingDay DESC'%(jycode)\n",
    "    cur_df = pd.read_sql_query(query, con=conn)\n",
    "    cur_df.set_index('TradingDay', inplace=True)\n",
    "    dic[code] = cur_df['ChangePCT'].abs() * 1e8 / cur_df['TurnoverVolume']"
   ]
  },
  {
   "cell_type": "code",
   "execution_count": 73,
   "metadata": {},
   "outputs": [],
   "source": [
    "df = pd.DataFrame(dic)"
   ]
  },
  {
   "cell_type": "code",
   "execution_count": 74,
   "metadata": {},
   "outputs": [],
   "source": [
    "df = df.replace([-np.inf, np.inf], 0)"
   ]
  },
  {
   "cell_type": "code",
   "execution_count": 75,
   "metadata": {},
   "outputs": [],
   "source": [
    "liquidity = df.mean(axis=1)\n",
    "liquidity.to_excel('../data/liquidity/%s.xlsx'%(INDEX_CODE))"
   ]
  },
  {
   "cell_type": "code",
   "execution_count": 76,
   "metadata": {},
   "outputs": [],
   "source": [
    "liquidity = liquidity[liquidity.index >= '2010-01-01']"
   ]
  },
  {
   "cell_type": "code",
   "execution_count": 77,
   "metadata": {},
   "outputs": [
    {
     "data": {
      "text/plain": [
       "<BarContainer object of 2160 artists>"
      ]
     },
     "execution_count": 77,
     "metadata": {},
     "output_type": "execute_result"
    },
    {
     "data": {
      "image/png": "[encoded data removed]",
      "text/plain": [
       "<Figure size 1152x648 with 1 Axes>"
      ]
     },
     "metadata": {},
     "output_type": "display_data"
    }
   ],
   "source": [
    "fig, ax = plt.subplots(figsize=(16, 9))\n",
    "ax.bar(liquidity.index, liquidity, width=2)"
   ]
  },
  {
   "cell_type": "code",
   "execution_count": 78,
   "metadata": {},
   "outputs": [],
   "source": [
    "z = liquidity.rolling(243).apply(lambda x: (x[-1] - x.mean()) / x.std())"
   ]
  },
  {
   "cell_type": "code",
   "execution_count": 79,
   "metadata": {},
   "outputs": [],
   "source": [
    "z[z < 2] = 0"
   ]
  },
  {
   "cell_type": "code",
   "execution_count": 80,
   "metadata": {},
   "outputs": [
    {
     "data": {
      "text/plain": [
       "<BarContainer object of 2160 artists>"
      ]
     },
     "execution_count": 80,
     "metadata": {},
     "output_type": "execute_result"
    },
    {
     "data": {
      "image/png": "[encoded data removed]",
      "text/plain": [
       "<Figure size 1152x648 with 1 Axes>"
      ]
     },
     "metadata": {},
     "output_type": "display_data"
    }
   ],
   "source": [
    "fig, ax = plt.subplots(figsize=(16, 9))\n",
    "ax.bar(z.index, z, width=2)"
   ]
  },
  {
   "cell_type": "code",
   "execution_count": null,
   "metadata": {},
   "outputs": [],
   "source": []
  }
 ],
 "metadata": {
  "kernelspec": {
   "display_name": "Python 2",
   "language": "python",
   "name": "python2"
  },
  "language_info": {
   "codemirror_mode": {
    "name": "ipython",
    "version": 2
   },
   "file_extension": ".py",
   "mimetype": "text/x-python",
   "name": "python",
   "nbconvert_exporter": "python",
   "pygments_lexer": "ipython2",
   "version": "2.7.14"
  }
 },
 "nbformat": 4,
 "nbformat_minor": 2
}
