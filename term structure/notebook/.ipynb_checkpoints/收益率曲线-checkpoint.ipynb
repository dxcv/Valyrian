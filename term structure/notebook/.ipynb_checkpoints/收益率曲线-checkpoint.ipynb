{
 "cells": [
  {
   "cell_type": "code",
   "execution_count": 1,
   "metadata": {
    "collapsed": true
   },
   "outputs": [],
   "source": [
    "import pandas as pd\n",
    "import matplotlib.pyplot as plt\n",
    "%matplotlib inline"
   ]
  },
  {
   "cell_type": "code",
   "execution_count": 2,
   "metadata": {
    "collapsed": true
   },
   "outputs": [],
   "source": [
    "df = pd.read_excel('../data/CGB.xlsx')"
   ]
  },
  {
   "cell_type": "code",
   "execution_count": 3,
   "metadata": {},
   "outputs": [
    {
     "data": {
      "text/html": [
       "<div>\n",
       "<style scoped>\n",
       "    .dataframe tbody tr th:only-of-type {\n",
       "        vertical-align: middle;\n",
       "    }\n",
       "\n",
       "    .dataframe tbody tr th {\n",
       "        vertical-align: top;\n",
       "    }\n",
       "\n",
       "    .dataframe thead th {\n",
       "        text-align: right;\n",
       "    }\n",
       "</style>\n",
       "<table border=\"1\" class=\"dataframe\">\n",
       "  <thead>\n",
       "    <tr style=\"text-align: right;\">\n",
       "      <th></th>\n",
       "      <th>CGB1Y.WI</th>\n",
       "      <th>CGB2Y.WI</th>\n",
       "      <th>CGB3Y.WI</th>\n",
       "      <th>CGB4Y.WI</th>\n",
       "      <th>CGB5Y.WI</th>\n",
       "      <th>CGB6Y.WI</th>\n",
       "      <th>CGB7Y.WI</th>\n",
       "      <th>CGB10Y.WI</th>\n",
       "    </tr>\n",
       "  </thead>\n",
       "  <tbody>\n",
       "    <tr>\n",
       "      <th>2008-07-01</th>\n",
       "      <td>3.5650</td>\n",
       "      <td>3.8732</td>\n",
       "      <td>3.9168</td>\n",
       "      <td>4.0789</td>\n",
       "      <td>4.2664</td>\n",
       "      <td>4.3678</td>\n",
       "      <td>4.3828</td>\n",
       "      <td>4.5310</td>\n",
       "    </tr>\n",
       "    <tr>\n",
       "      <th>2008-07-02</th>\n",
       "      <td>3.5892</td>\n",
       "      <td>3.8590</td>\n",
       "      <td>3.9160</td>\n",
       "      <td>4.0878</td>\n",
       "      <td>4.2544</td>\n",
       "      <td>4.3497</td>\n",
       "      <td>4.3856</td>\n",
       "      <td>4.5227</td>\n",
       "    </tr>\n",
       "    <tr>\n",
       "      <th>2008-07-03</th>\n",
       "      <td>3.5571</td>\n",
       "      <td>3.9021</td>\n",
       "      <td>3.9780</td>\n",
       "      <td>4.1042</td>\n",
       "      <td>4.2543</td>\n",
       "      <td>4.3603</td>\n",
       "      <td>4.4175</td>\n",
       "      <td>4.5270</td>\n",
       "    </tr>\n",
       "    <tr>\n",
       "      <th>2008-07-04</th>\n",
       "      <td>3.5546</td>\n",
       "      <td>3.9190</td>\n",
       "      <td>3.9920</td>\n",
       "      <td>4.1274</td>\n",
       "      <td>4.2679</td>\n",
       "      <td>4.3594</td>\n",
       "      <td>4.4120</td>\n",
       "      <td>4.5319</td>\n",
       "    </tr>\n",
       "    <tr>\n",
       "      <th>2008-07-07</th>\n",
       "      <td>3.4940</td>\n",
       "      <td>3.7747</td>\n",
       "      <td>3.9831</td>\n",
       "      <td>4.1170</td>\n",
       "      <td>4.2650</td>\n",
       "      <td>4.3553</td>\n",
       "      <td>4.3775</td>\n",
       "      <td>4.5035</td>\n",
       "    </tr>\n",
       "  </tbody>\n",
       "</table>\n",
       "</div>"
      ],
      "text/plain": [
       "            CGB1Y.WI  CGB2Y.WI  CGB3Y.WI  CGB4Y.WI  CGB5Y.WI  CGB6Y.WI  \\\n",
       "2008-07-01    3.5650    3.8732    3.9168    4.0789    4.2664    4.3678   \n",
       "2008-07-02    3.5892    3.8590    3.9160    4.0878    4.2544    4.3497   \n",
       "2008-07-03    3.5571    3.9021    3.9780    4.1042    4.2543    4.3603   \n",
       "2008-07-04    3.5546    3.9190    3.9920    4.1274    4.2679    4.3594   \n",
       "2008-07-07    3.4940    3.7747    3.9831    4.1170    4.2650    4.3553   \n",
       "\n",
       "            CGB7Y.WI  CGB10Y.WI  \n",
       "2008-07-01    4.3828     4.5310  \n",
       "2008-07-02    4.3856     4.5227  \n",
       "2008-07-03    4.4175     4.5270  \n",
       "2008-07-04    4.4120     4.5319  \n",
       "2008-07-07    4.3775     4.5035  "
      ]
     },
     "execution_count": 3,
     "metadata": {},
     "output_type": "execute_result"
    }
   ],
   "source": [
    "df.head()"
   ]
  },
  {
   "cell_type": "code",
   "execution_count": 27,
   "metadata": {
    "collapsed": true
   },
   "outputs": [],
   "source": [
    "dates = ['2018-01-29', '2018-02-14', '2018-02-28']\n",
    "dates = pd.to_datetime(dates)"
   ]
  },
  {
   "cell_type": "code",
   "execution_count": 28,
   "metadata": {},
   "outputs": [],
   "source": [
    "tdf = df.loc[dates]"
   ]
  },
  {
   "cell_type": "code",
   "execution_count": 29,
   "metadata": {},
   "outputs": [
    {
     "data": {
      "text/html": [
       "<div>\n",
       "<style scoped>\n",
       "    .dataframe tbody tr th:only-of-type {\n",
       "        vertical-align: middle;\n",
       "    }\n",
       "\n",
       "    .dataframe tbody tr th {\n",
       "        vertical-align: top;\n",
       "    }\n",
       "\n",
       "    .dataframe thead th {\n",
       "        text-align: right;\n",
       "    }\n",
       "</style>\n",
       "<table border=\"1\" class=\"dataframe\">\n",
       "  <thead>\n",
       "    <tr style=\"text-align: right;\">\n",
       "      <th></th>\n",
       "      <th>CGB1Y.WI</th>\n",
       "      <th>CGB2Y.WI</th>\n",
       "      <th>CGB3Y.WI</th>\n",
       "      <th>CGB4Y.WI</th>\n",
       "      <th>CGB5Y.WI</th>\n",
       "      <th>CGB6Y.WI</th>\n",
       "      <th>CGB7Y.WI</th>\n",
       "      <th>CGB10Y.WI</th>\n",
       "    </tr>\n",
       "  </thead>\n",
       "  <tbody>\n",
       "    <tr>\n",
       "      <th>2018-01-29</th>\n",
       "      <td>3.5100</td>\n",
       "      <td>3.5915</td>\n",
       "      <td>3.6423</td>\n",
       "      <td>3.8461</td>\n",
       "      <td>3.8549</td>\n",
       "      <td>3.9196</td>\n",
       "      <td>3.9831</td>\n",
       "      <td>3.7876</td>\n",
       "    </tr>\n",
       "    <tr>\n",
       "      <th>2018-02-14</th>\n",
       "      <td>3.3750</td>\n",
       "      <td>3.4377</td>\n",
       "      <td>3.3993</td>\n",
       "      <td>4.3114</td>\n",
       "      <td>3.8154</td>\n",
       "      <td>3.8820</td>\n",
       "      <td>3.5865</td>\n",
       "      <td>3.8771</td>\n",
       "    </tr>\n",
       "    <tr>\n",
       "      <th>2018-02-28</th>\n",
       "      <td>3.2547</td>\n",
       "      <td>3.3504</td>\n",
       "      <td>3.6036</td>\n",
       "      <td>3.7748</td>\n",
       "      <td>3.7345</td>\n",
       "      <td>3.8326</td>\n",
       "      <td>3.8784</td>\n",
       "      <td>3.8328</td>\n",
       "    </tr>\n",
       "  </tbody>\n",
       "</table>\n",
       "</div>"
      ],
      "text/plain": [
       "            CGB1Y.WI  CGB2Y.WI  CGB3Y.WI  CGB4Y.WI  CGB5Y.WI  CGB6Y.WI  \\\n",
       "2018-01-29    3.5100    3.5915    3.6423    3.8461    3.8549    3.9196   \n",
       "2018-02-14    3.3750    3.4377    3.3993    4.3114    3.8154    3.8820   \n",
       "2018-02-28    3.2547    3.3504    3.6036    3.7748    3.7345    3.8326   \n",
       "\n",
       "            CGB7Y.WI  CGB10Y.WI  \n",
       "2018-01-29    3.9831     3.7876  \n",
       "2018-02-14    3.5865     3.8771  \n",
       "2018-02-28    3.8784     3.8328  "
      ]
     },
     "execution_count": 29,
     "metadata": {},
     "output_type": "execute_result"
    }
   ],
   "source": [
    "tdf"
   ]
  },
  {
   "cell_type": "code",
   "execution_count": 30,
   "metadata": {},
   "outputs": [],
   "source": [
    "tdf = tdf.T"
   ]
  },
  {
   "cell_type": "code",
   "execution_count": 31,
   "metadata": {
    "collapsed": true
   },
   "outputs": [],
   "source": [
    "tdf.index = [1, 2, 3, 4, 5, 6, 7, 10]"
   ]
  },
  {
   "cell_type": "code",
   "execution_count": 32,
   "metadata": {},
   "outputs": [
    {
     "data": {
      "text/plain": [
       "<matplotlib.axes._subplots.AxesSubplot at 0xa87ff60>"
      ]
     },
     "execution_count": 32,
     "metadata": {},
     "output_type": "execute_result"
    },
    {
     "data": {
      "image/png": "[encoded data removed]",
      "text/plain": [
       "<matplotlib.figure.Figure at 0xa874b00>"
      ]
     },
     "metadata": {},
     "output_type": "display_data"
    }
   ],
   "source": [
    "tdf.plot(figsize=(16, 9))"
   ]
  },
  {
   "cell_type": "code",
   "execution_count": null,
   "metadata": {
    "collapsed": true
   },
   "outputs": [],
   "source": []
  }
 ],
 "metadata": {
  "kernelspec": {
   "display_name": "Python 2",
   "language": "python",
   "name": "python2"
  },
  "language_info": {
   "codemirror_mode": {
    "name": "ipython",
    "version": 2
   },
   "file_extension": ".py",
   "mimetype": "text/x-python",
   "name": "python",
   "nbconvert_exporter": "python",
   "pygments_lexer": "ipython2",
   "version": "2.7.14"
  }
 },
 "nbformat": 4,
 "nbformat_minor": 2
}
