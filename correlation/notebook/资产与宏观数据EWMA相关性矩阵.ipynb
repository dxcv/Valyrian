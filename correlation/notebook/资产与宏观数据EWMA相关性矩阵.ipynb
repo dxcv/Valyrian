{
 "cells": [
  {
   "cell_type": "code",
   "execution_count": 1,
   "metadata": {},
   "outputs": [],
   "source": [
    "import pandas as pd\n",
    "import numpy as np\n",
    "import matplotlib.pyplot as plt\n",
    "import datetime\n",
    "from WindPy import w\n",
    "%matplotlib inline"
   ]
  },
  {
   "cell_type": "code",
   "execution_count": 2,
   "metadata": {},
   "outputs": [
    {
     "name": "stdout",
     "output_type": "stream",
     "text": [
      "Welcome to use Wind Quant API for Python (WindPy)!\n",
      "\n",
      "COPYRIGHT (C) 2017 WIND INFORMATION CO., LTD. ALL RIGHTS RESERVED.\n",
      "IN NO CIRCUMSTANCE SHALL WIND BE RESPONSIBLE FOR ANY DAMAGES OR LOSSES CAUSED BY USING WIND QUANT API FOR Python.\n"
     ]
    },
    {
     "data": {
      "text/plain": [
       ".ErrorCode=0\n",
       ".Data=[OK!]"
      ]
     },
     "execution_count": 2,
     "metadata": {},
     "output_type": "execute_result"
    }
   ],
   "source": [
    "w.start()"
   ]
  },
  {
   "cell_type": "markdown",
   "metadata": {},
   "source": [
    "## 获取起始日期"
   ]
  },
  {
   "cell_type": "code",
   "execution_count": 3,
   "metadata": {},
   "outputs": [],
   "source": [
    "today = datetime.datetime.today()"
   ]
  },
  {
   "cell_type": "code",
   "execution_count": 4,
   "metadata": {},
   "outputs": [
    {
     "data": {
      "text/plain": [
       "'2019-02-25'"
      ]
     },
     "execution_count": 4,
     "metadata": {},
     "output_type": "execute_result"
    }
   ],
   "source": [
    "today.strftime('%Y-%m-%d')"
   ]
  },
  {
   "cell_type": "code",
   "execution_count": 5,
   "metadata": {},
   "outputs": [],
   "source": [
    "start_date = today - datetime.timedelta(365) # 最近1年"
   ]
  },
  {
   "cell_type": "code",
   "execution_count": 6,
   "metadata": {},
   "outputs": [
    {
     "data": {
      "text/plain": [
       "'2018-02-25'"
      ]
     },
     "execution_count": 6,
     "metadata": {},
     "output_type": "execute_result"
    }
   ],
   "source": [
    "start_date.strftime('%Y-%m-%d')"
   ]
  },
  {
   "cell_type": "markdown",
   "metadata": {},
   "source": [
    "## 获取数据"
   ]
  },
  {
   "cell_type": "code",
   "execution_count": 7,
   "metadata": {},
   "outputs": [],
   "source": [
    "df = pd.read_excel(u'../data/资产与宏观数据.xlsx')"
   ]
  },
  {
   "cell_type": "code",
   "execution_count": 8,
   "metadata": {},
   "outputs": [
    {
     "data": {
      "text/html": [
       "<div>\n",
       "<style scoped>\n",
       "    .dataframe tbody tr th:only-of-type {\n",
       "        vertical-align: middle;\n",
       "    }\n",
       "\n",
       "    .dataframe tbody tr th {\n",
       "        vertical-align: top;\n",
       "    }\n",
       "\n",
       "    .dataframe thead th {\n",
       "        text-align: right;\n",
       "    }\n",
       "</style>\n",
       "<table border=\"1\" class=\"dataframe\">\n",
       "  <thead>\n",
       "    <tr style=\"text-align: right;\">\n",
       "      <th></th>\n",
       "      <th>Variables</th>\n",
       "      <th>Name</th>\n",
       "      <th>Assets</th>\n",
       "    </tr>\n",
       "  </thead>\n",
       "  <tbody>\n",
       "    <tr>\n",
       "      <th>0</th>\n",
       "      <td>M0001385</td>\n",
       "      <td>M2同比</td>\n",
       "      <td>000300.SH</td>\n",
       "    </tr>\n",
       "    <tr>\n",
       "      <th>1</th>\n",
       "      <td>M0001383</td>\n",
       "      <td>M1同比</td>\n",
       "      <td>000905.SH</td>\n",
       "    </tr>\n",
       "    <tr>\n",
       "      <th>2</th>\n",
       "      <td>M0000545</td>\n",
       "      <td>工业增加值同比</td>\n",
       "      <td>881001.WI</td>\n",
       "    </tr>\n",
       "    <tr>\n",
       "      <th>3</th>\n",
       "      <td>M5525763</td>\n",
       "      <td>社融同比</td>\n",
       "      <td>CBA00602.CS</td>\n",
       "    </tr>\n",
       "    <tr>\n",
       "      <th>4</th>\n",
       "      <td>M0017128</td>\n",
       "      <td>PMI新订单</td>\n",
       "      <td>CBA02002.CS</td>\n",
       "    </tr>\n",
       "    <tr>\n",
       "      <th>5</th>\n",
       "      <td>M0000605</td>\n",
       "      <td>进出口同比</td>\n",
       "      <td>AU9999.SGE</td>\n",
       "    </tr>\n",
       "    <tr>\n",
       "      <th>6</th>\n",
       "      <td>M0001428</td>\n",
       "      <td>社消同比</td>\n",
       "      <td>HSI.HI</td>\n",
       "    </tr>\n",
       "  </tbody>\n",
       "</table>\n",
       "</div>"
      ],
      "text/plain": [
       "  Variables     Name       Assets\n",
       "0  M0001385     M2同比    000300.SH\n",
       "1  M0001383     M1同比    000905.SH\n",
       "2  M0000545  工业增加值同比    881001.WI\n",
       "3  M5525763     社融同比  CBA00602.CS\n",
       "4  M0017128   PMI新订单  CBA02002.CS\n",
       "5  M0000605    进出口同比   AU9999.SGE\n",
       "6  M0001428     社消同比       HSI.HI"
      ]
     },
     "execution_count": 8,
     "metadata": {},
     "output_type": "execute_result"
    }
   ],
   "source": [
    "df"
   ]
  },
  {
   "cell_type": "code",
   "execution_count": 9,
   "metadata": {},
   "outputs": [],
   "source": [
    "var2name = {k: v for k, v in zip(df['Variables'], df['Name'])}"
   ]
  },
  {
   "cell_type": "code",
   "execution_count": 10,
   "metadata": {},
   "outputs": [],
   "source": [
    "data = w.wsd(df['Assets'].tolist()[:7], 'close', start_date, today)"
   ]
  },
  {
   "cell_type": "code",
   "execution_count": 11,
   "metadata": {},
   "outputs": [],
   "source": [
    "price = pd.DataFrame(np.array(data.Data).T, index=data.Times, columns=data.Codes)\n",
    "price.index = pd.to_datetime(price.index)"
   ]
  },
  {
   "cell_type": "code",
   "execution_count": 12,
   "metadata": {},
   "outputs": [
    {
     "data": {
      "text/html": [
       "<div>\n",
       "<style scoped>\n",
       "    .dataframe tbody tr th:only-of-type {\n",
       "        vertical-align: middle;\n",
       "    }\n",
       "\n",
       "    .dataframe tbody tr th {\n",
       "        vertical-align: top;\n",
       "    }\n",
       "\n",
       "    .dataframe thead th {\n",
       "        text-align: right;\n",
       "    }\n",
       "</style>\n",
       "<table border=\"1\" class=\"dataframe\">\n",
       "  <thead>\n",
       "    <tr style=\"text-align: right;\">\n",
       "      <th></th>\n",
       "      <th>000300.SH</th>\n",
       "      <th>000905.SH</th>\n",
       "      <th>881001.WI</th>\n",
       "      <th>CBA00602.CS</th>\n",
       "      <th>CBA02002.CS</th>\n",
       "      <th>AU9999.SGE</th>\n",
       "      <th>HSI.HI</th>\n",
       "    </tr>\n",
       "  </thead>\n",
       "  <tbody>\n",
       "    <tr>\n",
       "      <th>2019-02-19</th>\n",
       "      <td>3439.6078</td>\n",
       "      <td>4667.2836</td>\n",
       "      <td>3667.6786</td>\n",
       "      <td>118.7323</td>\n",
       "      <td>80.0985</td>\n",
       "      <td>290.67</td>\n",
       "      <td>28228.13</td>\n",
       "    </tr>\n",
       "    <tr>\n",
       "      <th>2019-02-20</th>\n",
       "      <td>3451.9273</td>\n",
       "      <td>4667.6243</td>\n",
       "      <td>3677.8153</td>\n",
       "      <td>118.7381</td>\n",
       "      <td>80.1186</td>\n",
       "      <td>292.33</td>\n",
       "      <td>28514.05</td>\n",
       "    </tr>\n",
       "    <tr>\n",
       "      <th>2019-02-21</th>\n",
       "      <td>3442.7056</td>\n",
       "      <td>4659.1431</td>\n",
       "      <td>3668.3837</td>\n",
       "      <td>118.7031</td>\n",
       "      <td>80.1213</td>\n",
       "      <td>290.71</td>\n",
       "      <td>28629.92</td>\n",
       "    </tr>\n",
       "    <tr>\n",
       "      <th>2019-02-22</th>\n",
       "      <td>3520.1182</td>\n",
       "      <td>4777.2977</td>\n",
       "      <td>3751.6944</td>\n",
       "      <td>118.7450</td>\n",
       "      <td>80.1055</td>\n",
       "      <td>288.91</td>\n",
       "      <td>28816.30</td>\n",
       "    </tr>\n",
       "    <tr>\n",
       "      <th>2019-02-25</th>\n",
       "      <td>3520.1182</td>\n",
       "      <td>4777.2977</td>\n",
       "      <td>3751.6944</td>\n",
       "      <td>118.7450</td>\n",
       "      <td>80.1055</td>\n",
       "      <td>288.91</td>\n",
       "      <td>28816.30</td>\n",
       "    </tr>\n",
       "  </tbody>\n",
       "</table>\n",
       "</div>"
      ],
      "text/plain": [
       "            000300.SH  000905.SH  881001.WI  CBA00602.CS  CBA02002.CS  \\\n",
       "2019-02-19  3439.6078  4667.2836  3667.6786     118.7323      80.0985   \n",
       "2019-02-20  3451.9273  4667.6243  3677.8153     118.7381      80.1186   \n",
       "2019-02-21  3442.7056  4659.1431  3668.3837     118.7031      80.1213   \n",
       "2019-02-22  3520.1182  4777.2977  3751.6944     118.7450      80.1055   \n",
       "2019-02-25  3520.1182  4777.2977  3751.6944     118.7450      80.1055   \n",
       "\n",
       "            AU9999.SGE    HSI.HI  \n",
       "2019-02-19      290.67  28228.13  \n",
       "2019-02-20      292.33  28514.05  \n",
       "2019-02-21      290.71  28629.92  \n",
       "2019-02-22      288.91  28816.30  \n",
       "2019-02-25      288.91  28816.30  "
      ]
     },
     "execution_count": 12,
     "metadata": {},
     "output_type": "execute_result"
    }
   ],
   "source": [
    "price.tail()"
   ]
  },
  {
   "cell_type": "code",
   "execution_count": 13,
   "metadata": {},
   "outputs": [
    {
     "data": {
      "text/plain": [
       "<matplotlib.axes._subplots.AxesSubplot at 0x9469588>"
      ]
     },
     "execution_count": 13,
     "metadata": {},
     "output_type": "execute_result"
    },
    {
     "data": {
      "image/png": "[encoded data removed]",
      "text/plain": [
       "<Figure size 1152x648 with 1 Axes>"
      ]
     },
     "metadata": {},
     "output_type": "display_data"
    }
   ],
   "source": [
    "price.plot(figsize=(16, 9))"
   ]
  },
  {
   "cell_type": "code",
   "execution_count": 14,
   "metadata": {},
   "outputs": [],
   "source": [
    "macro_variables = [x for x in df['Variables'] if str(x).find('.') == -1 and str(x) != 'nan']"
   ]
  },
  {
   "cell_type": "code",
   "execution_count": 15,
   "metadata": {},
   "outputs": [
    {
     "data": {
      "text/plain": [
       "[u'M0001385',\n",
       " u'M0001383',\n",
       " u'M0000545',\n",
       " u'M5525763',\n",
       " u'M0017128',\n",
       " u'M0000605',\n",
       " u'M0001428']"
      ]
     },
     "execution_count": 15,
     "metadata": {},
     "output_type": "execute_result"
    }
   ],
   "source": [
    "macro_variables"
   ]
  },
  {
   "cell_type": "code",
   "execution_count": 16,
   "metadata": {},
   "outputs": [],
   "source": [
    "data = w.edb(macro_variables, start_date, today)"
   ]
  },
  {
   "cell_type": "code",
   "execution_count": 17,
   "metadata": {},
   "outputs": [],
   "source": [
    "macro_df = pd.DataFrame(np.array(data.Data).T, index=data.Times, columns=[var2name[x] for x in macro_variables])"
   ]
  },
  {
   "cell_type": "code",
   "execution_count": 18,
   "metadata": {},
   "outputs": [
    {
     "data": {
      "text/html": [
       "<div>\n",
       "<style scoped>\n",
       "    .dataframe tbody tr th:only-of-type {\n",
       "        vertical-align: middle;\n",
       "    }\n",
       "\n",
       "    .dataframe tbody tr th {\n",
       "        vertical-align: top;\n",
       "    }\n",
       "\n",
       "    .dataframe thead th {\n",
       "        text-align: right;\n",
       "    }\n",
       "</style>\n",
       "<table border=\"1\" class=\"dataframe\">\n",
       "  <thead>\n",
       "    <tr style=\"text-align: right;\">\n",
       "      <th></th>\n",
       "      <th>M2同比</th>\n",
       "      <th>M1同比</th>\n",
       "      <th>工业增加值同比</th>\n",
       "      <th>社融同比</th>\n",
       "      <th>PMI新订单</th>\n",
       "      <th>进出口同比</th>\n",
       "      <th>社消同比</th>\n",
       "    </tr>\n",
       "  </thead>\n",
       "  <tbody>\n",
       "    <tr>\n",
       "      <th>2018-02-28</th>\n",
       "      <td>8.8</td>\n",
       "      <td>8.5</td>\n",
       "      <td>-2.119883</td>\n",
       "      <td>12.653160</td>\n",
       "      <td>51.0</td>\n",
       "      <td>24.3</td>\n",
       "      <td>9.700000</td>\n",
       "    </tr>\n",
       "    <tr>\n",
       "      <th>2018-03-31</th>\n",
       "      <td>8.2</td>\n",
       "      <td>7.1</td>\n",
       "      <td>6.000000</td>\n",
       "      <td>11.917040</td>\n",
       "      <td>53.3</td>\n",
       "      <td>5.3</td>\n",
       "      <td>10.100000</td>\n",
       "    </tr>\n",
       "    <tr>\n",
       "      <th>2018-04-30</th>\n",
       "      <td>8.3</td>\n",
       "      <td>7.2</td>\n",
       "      <td>7.000000</td>\n",
       "      <td>11.886410</td>\n",
       "      <td>52.9</td>\n",
       "      <td>16.5</td>\n",
       "      <td>9.400000</td>\n",
       "    </tr>\n",
       "    <tr>\n",
       "      <th>2018-05-31</th>\n",
       "      <td>8.3</td>\n",
       "      <td>6.0</td>\n",
       "      <td>6.800000</td>\n",
       "      <td>11.591320</td>\n",
       "      <td>53.8</td>\n",
       "      <td>18.2</td>\n",
       "      <td>8.500000</td>\n",
       "    </tr>\n",
       "    <tr>\n",
       "      <th>2018-06-30</th>\n",
       "      <td>8.0</td>\n",
       "      <td>6.6</td>\n",
       "      <td>6.000000</td>\n",
       "      <td>11.101210</td>\n",
       "      <td>53.2</td>\n",
       "      <td>12.1</td>\n",
       "      <td>9.000000</td>\n",
       "    </tr>\n",
       "    <tr>\n",
       "      <th>2018-07-31</th>\n",
       "      <td>8.5</td>\n",
       "      <td>5.1</td>\n",
       "      <td>6.000000</td>\n",
       "      <td>10.840980</td>\n",
       "      <td>52.3</td>\n",
       "      <td>18.3</td>\n",
       "      <td>8.800000</td>\n",
       "    </tr>\n",
       "    <tr>\n",
       "      <th>2018-08-31</th>\n",
       "      <td>8.2</td>\n",
       "      <td>3.9</td>\n",
       "      <td>6.100000</td>\n",
       "      <td>10.802550</td>\n",
       "      <td>52.2</td>\n",
       "      <td>14.5</td>\n",
       "      <td>9.000000</td>\n",
       "    </tr>\n",
       "    <tr>\n",
       "      <th>2018-09-30</th>\n",
       "      <td>8.3</td>\n",
       "      <td>4.0</td>\n",
       "      <td>5.800000</td>\n",
       "      <td>10.575280</td>\n",
       "      <td>52.0</td>\n",
       "      <td>14.1</td>\n",
       "      <td>9.200000</td>\n",
       "    </tr>\n",
       "    <tr>\n",
       "      <th>2018-10-31</th>\n",
       "      <td>8.0</td>\n",
       "      <td>2.7</td>\n",
       "      <td>5.900000</td>\n",
       "      <td>10.224710</td>\n",
       "      <td>50.8</td>\n",
       "      <td>17.0</td>\n",
       "      <td>8.600000</td>\n",
       "    </tr>\n",
       "    <tr>\n",
       "      <th>2018-11-30</th>\n",
       "      <td>8.0</td>\n",
       "      <td>1.5</td>\n",
       "      <td>5.400000</td>\n",
       "      <td>9.873883</td>\n",
       "      <td>50.4</td>\n",
       "      <td>3.4</td>\n",
       "      <td>8.100000</td>\n",
       "    </tr>\n",
       "    <tr>\n",
       "      <th>2018-12-31</th>\n",
       "      <td>8.1</td>\n",
       "      <td>1.5</td>\n",
       "      <td>5.700000</td>\n",
       "      <td>9.776316</td>\n",
       "      <td>49.7</td>\n",
       "      <td>-5.8</td>\n",
       "      <td>8.160814</td>\n",
       "    </tr>\n",
       "    <tr>\n",
       "      <th>2019-01-31</th>\n",
       "      <td>8.4</td>\n",
       "      <td>0.4</td>\n",
       "      <td>NaN</td>\n",
       "      <td>10.416816</td>\n",
       "      <td>49.6</td>\n",
       "      <td>4.0</td>\n",
       "      <td>NaN</td>\n",
       "    </tr>\n",
       "  </tbody>\n",
       "</table>\n",
       "</div>"
      ],
      "text/plain": [
       "            M2同比  M1同比   工业增加值同比       社融同比  PMI新订单  进出口同比       社消同比\n",
       "2018-02-28   8.8   8.5 -2.119883  12.653160    51.0   24.3   9.700000\n",
       "2018-03-31   8.2   7.1  6.000000  11.917040    53.3    5.3  10.100000\n",
       "2018-04-30   8.3   7.2  7.000000  11.886410    52.9   16.5   9.400000\n",
       "2018-05-31   8.3   6.0  6.800000  11.591320    53.8   18.2   8.500000\n",
       "2018-06-30   8.0   6.6  6.000000  11.101210    53.2   12.1   9.000000\n",
       "2018-07-31   8.5   5.1  6.000000  10.840980    52.3   18.3   8.800000\n",
       "2018-08-31   8.2   3.9  6.100000  10.802550    52.2   14.5   9.000000\n",
       "2018-09-30   8.3   4.0  5.800000  10.575280    52.0   14.1   9.200000\n",
       "2018-10-31   8.0   2.7  5.900000  10.224710    50.8   17.0   8.600000\n",
       "2018-11-30   8.0   1.5  5.400000   9.873883    50.4    3.4   8.100000\n",
       "2018-12-31   8.1   1.5  5.700000   9.776316    49.7   -5.8   8.160814\n",
       "2019-01-31   8.4   0.4       NaN  10.416816    49.6    4.0        NaN"
      ]
     },
     "execution_count": 18,
     "metadata": {},
     "output_type": "execute_result"
    }
   ],
   "source": [
    "macro_df"
   ]
  },
  {
   "cell_type": "code",
   "execution_count": 19,
   "metadata": {},
   "outputs": [],
   "source": [
    "macro_nav = (1+macro_df.pct_change()).cumprod()\n",
    "macro_nav.iloc[0] = 1"
   ]
  },
  {
   "cell_type": "code",
   "execution_count": 20,
   "metadata": {},
   "outputs": [
    {
     "data": {
      "text/plain": [
       "<matplotlib.axes._subplots.AxesSubplot at 0x9d686d8>"
      ]
     },
     "execution_count": 20,
     "metadata": {},
     "output_type": "execute_result"
    },
    {
     "data": {
      "image/png": "[encoded data removed]",
      "text/plain": [
       "<Figure size 1152x648 with 1 Axes>"
      ]
     },
     "metadata": {},
     "output_type": "display_data"
    }
   ],
   "source": [
    "macro_nav.plot(figsize=(16, 9))"
   ]
  },
  {
   "cell_type": "code",
   "execution_count": 21,
   "metadata": {},
   "outputs": [],
   "source": [
    "macro_df.to_excel('../data/macro_nav.xlsx')"
   ]
  },
  {
   "cell_type": "code",
   "execution_count": 22,
   "metadata": {},
   "outputs": [],
   "source": [
    "ret_df = pd.DataFrame()"
   ]
  },
  {
   "cell_type": "code",
   "execution_count": 23,
   "metadata": {},
   "outputs": [],
   "source": [
    "ret_df[u'成长股'] = price['000905.SH'].pct_change()\n",
    "ret_df[u'价值股'] = price['000300.SH'].pct_change()\n",
    "ret_df[u'港股'] = price['HSI.HI'].pct_change()\n",
    "ret_df[u'黄金'] = price['AU9999.SGE'].pct_change()\n",
    "ret_df[u'国债'] = price['CBA00602.CS'].pct_change()\n",
    "ret_df[u'信用债'] = price['CBA02002.CS'].pct_change()"
   ]
  },
  {
   "cell_type": "markdown",
   "metadata": {},
   "source": [
    "## 生成EWMA相关性矩阵"
   ]
  },
  {
   "cell_type": "code",
   "execution_count": 24,
   "metadata": {},
   "outputs": [],
   "source": [
    "cor_df = pd.DataFrame(index= ret_df.columns, columns=macro_df.columns.tolist())"
   ]
  },
  {
   "cell_type": "code",
   "execution_count": 25,
   "metadata": {},
   "outputs": [],
   "source": [
    "for asset in cor_df.index:\n",
    "    for var in cor_df.columns:\n",
    "        if var in macro_df.columns:\n",
    "            s, t = (1+ret_df[asset]).cumprod().resample('M').last(), (1+macro_df[var].pct_change()).cumprod()\n",
    "            corr = s.ewm(alpha=0.02, ignore_na=True, adjust=True).corr(t)\n",
    "            cor_df.loc[asset, var] = corr[-1]"
   ]
  },
  {
   "cell_type": "code",
   "execution_count": 26,
   "metadata": {},
   "outputs": [
    {
     "data": {
      "text/html": [
       "<div>\n",
       "<style scoped>\n",
       "    .dataframe tbody tr th:only-of-type {\n",
       "        vertical-align: middle;\n",
       "    }\n",
       "\n",
       "    .dataframe tbody tr th {\n",
       "        vertical-align: top;\n",
       "    }\n",
       "\n",
       "    .dataframe thead th {\n",
       "        text-align: right;\n",
       "    }\n",
       "</style>\n",
       "<table border=\"1\" class=\"dataframe\">\n",
       "  <thead>\n",
       "    <tr style=\"text-align: right;\">\n",
       "      <th></th>\n",
       "      <th>M2同比</th>\n",
       "      <th>M1同比</th>\n",
       "      <th>工业增加值同比</th>\n",
       "      <th>社融同比</th>\n",
       "      <th>PMI新订单</th>\n",
       "      <th>进出口同比</th>\n",
       "      <th>社消同比</th>\n",
       "    </tr>\n",
       "  </thead>\n",
       "  <tbody>\n",
       "    <tr>\n",
       "      <th>成长股</th>\n",
       "      <td>0.283626</td>\n",
       "      <td>0.941891</td>\n",
       "      <td>-0.722839</td>\n",
       "      <td>0.95643</td>\n",
       "      <td>0.915516</td>\n",
       "      <td>0.458428</td>\n",
       "      <td>0.73458</td>\n",
       "    </tr>\n",
       "    <tr>\n",
       "      <th>价值股</th>\n",
       "      <td>0.369206</td>\n",
       "      <td>0.903436</td>\n",
       "      <td>-0.703596</td>\n",
       "      <td>0.964289</td>\n",
       "      <td>0.907044</td>\n",
       "      <td>0.510792</td>\n",
       "      <td>0.733676</td>\n",
       "    </tr>\n",
       "    <tr>\n",
       "      <th>港股</th>\n",
       "      <td>0.507348</td>\n",
       "      <td>0.783564</td>\n",
       "      <td>-0.724752</td>\n",
       "      <td>0.920879</td>\n",
       "      <td>0.808232</td>\n",
       "      <td>0.410217</td>\n",
       "      <td>0.630485</td>\n",
       "    </tr>\n",
       "    <tr>\n",
       "      <th>黄金</th>\n",
       "      <td>-0.0319951</td>\n",
       "      <td>-0.723509</td>\n",
       "      <td>0.313137</td>\n",
       "      <td>-0.514728</td>\n",
       "      <td>-0.806339</td>\n",
       "      <td>-0.741698</td>\n",
       "      <td>-0.565109</td>\n",
       "    </tr>\n",
       "    <tr>\n",
       "      <th>国债</th>\n",
       "      <td>-0.0158702</td>\n",
       "      <td>-0.829102</td>\n",
       "      <td>0.495521</td>\n",
       "      <td>-0.729734</td>\n",
       "      <td>-0.864246</td>\n",
       "      <td>-0.637514</td>\n",
       "      <td>-0.84849</td>\n",
       "    </tr>\n",
       "    <tr>\n",
       "      <th>信用债</th>\n",
       "      <td>0.0476756</td>\n",
       "      <td>-0.902431</td>\n",
       "      <td>0.496451</td>\n",
       "      <td>-0.709238</td>\n",
       "      <td>-0.943959</td>\n",
       "      <td>-0.603776</td>\n",
       "      <td>-0.649843</td>\n",
       "    </tr>\n",
       "  </tbody>\n",
       "</table>\n",
       "</div>"
      ],
      "text/plain": [
       "          M2同比      M1同比   工业增加值同比      社融同比    PMI新订单     进出口同比      社消同比\n",
       "成长股   0.283626  0.941891 -0.722839   0.95643  0.915516  0.458428   0.73458\n",
       "价值股   0.369206  0.903436 -0.703596  0.964289  0.907044  0.510792  0.733676\n",
       "港股    0.507348  0.783564 -0.724752  0.920879  0.808232  0.410217  0.630485\n",
       "黄金  -0.0319951 -0.723509  0.313137 -0.514728 -0.806339 -0.741698 -0.565109\n",
       "国债  -0.0158702 -0.829102  0.495521 -0.729734 -0.864246 -0.637514  -0.84849\n",
       "信用债  0.0476756 -0.902431  0.496451 -0.709238 -0.943959 -0.603776 -0.649843"
      ]
     },
     "execution_count": 26,
     "metadata": {},
     "output_type": "execute_result"
    }
   ],
   "source": [
    "cor_df"
   ]
  },
  {
   "cell_type": "code",
   "execution_count": 27,
   "metadata": {},
   "outputs": [],
   "source": [
    "cor_df.to_excel('../data/macro_ewma_cor.xlsx')"
   ]
  },
  {
   "cell_type": "code",
   "execution_count": 28,
   "metadata": {},
   "outputs": [],
   "source": [
    "trend = {}\n",
    "for var in cor_df.columns:\n",
    "    if var in macro_df.columns:\n",
    "        t = macro_df[var]\n",
    "    ret = t.pct_change()\n",
    "    up, down = ret[ret > 0].sum(), -ret[ret < 0].sum()\n",
    "    smooth = 1e-2\n",
    "    if up > down:\n",
    "        trend[var] = (up + smooth) / (down + smooth)\n",
    "    else:\n",
    "        trend[var] = -(down + smooth) / (up + smooth)"
   ]
  },
  {
   "cell_type": "code",
   "execution_count": 29,
   "metadata": {},
   "outputs": [
    {
     "name": "stdout",
     "output_type": "stream",
     "text": [
      "PMI新订单 -1.3613650311328187\n",
      "M2同比 -1.268650836534802\n",
      "工业增加值同比 -15.482979399893297\n",
      "社融同比 -3.4856874302948455\n",
      "进出口同比 -2.227291156109427\n",
      "M1同比 -15.406304658783014\n",
      "社消同比 -1.9728933596016855\n"
     ]
    }
   ],
   "source": [
    "for k, v in trend.iteritems():\n",
    "    print k, v"
   ]
  },
  {
   "cell_type": "code",
   "execution_count": 30,
   "metadata": {},
   "outputs": [],
   "source": [
    "def sigmoid(x):\n",
    "    return 1. / (1 + np.exp(-x))"
   ]
  },
  {
   "cell_type": "code",
   "execution_count": 31,
   "metadata": {},
   "outputs": [],
   "source": [
    "board = pd.DataFrame(index=cor_df.index, columns=cor_df.columns)\n",
    "for var in cor_df.columns:\n",
    "#     print var\n",
    "    x = cor_df[var] * trend[var]\n",
    "    board[var] = sigmoid(x.astype(np.float32))"
   ]
  },
  {
   "cell_type": "code",
   "execution_count": 32,
   "metadata": {},
   "outputs": [],
   "source": [
    "trend_df = pd.DataFrame(trend, index=[u'变量趋势'])"
   ]
  },
  {
   "cell_type": "code",
   "execution_count": 33,
   "metadata": {},
   "outputs": [],
   "source": [
    "board = trend_df.append(board)"
   ]
  },
  {
   "cell_type": "code",
   "execution_count": 34,
   "metadata": {},
   "outputs": [],
   "source": [
    "board = board[cor_df.columns]"
   ]
  },
  {
   "cell_type": "code",
   "execution_count": 35,
   "metadata": {},
   "outputs": [
    {
     "data": {
      "text/html": [
       "<div>\n",
       "<style scoped>\n",
       "    .dataframe tbody tr th:only-of-type {\n",
       "        vertical-align: middle;\n",
       "    }\n",
       "\n",
       "    .dataframe tbody tr th {\n",
       "        vertical-align: top;\n",
       "    }\n",
       "\n",
       "    .dataframe thead th {\n",
       "        text-align: right;\n",
       "    }\n",
       "</style>\n",
       "<table border=\"1\" class=\"dataframe\">\n",
       "  <thead>\n",
       "    <tr style=\"text-align: right;\">\n",
       "      <th></th>\n",
       "      <th>M2同比</th>\n",
       "      <th>M1同比</th>\n",
       "      <th>工业增加值同比</th>\n",
       "      <th>社融同比</th>\n",
       "      <th>PMI新订单</th>\n",
       "      <th>进出口同比</th>\n",
       "      <th>社消同比</th>\n",
       "    </tr>\n",
       "  </thead>\n",
       "  <tbody>\n",
       "    <tr>\n",
       "      <th>变量趋势</th>\n",
       "      <td>-1.268651</td>\n",
       "      <td>-1.540630e+01</td>\n",
       "      <td>-15.482979</td>\n",
       "      <td>-3.485687</td>\n",
       "      <td>-1.361365</td>\n",
       "      <td>-2.227291</td>\n",
       "      <td>-1.972893</td>\n",
       "    </tr>\n",
       "    <tr>\n",
       "      <th>成长股</th>\n",
       "      <td>0.411003</td>\n",
       "      <td>4.988021e-07</td>\n",
       "      <td>0.999986</td>\n",
       "      <td>0.034429</td>\n",
       "      <td>0.223332</td>\n",
       "      <td>0.264822</td>\n",
       "      <td>0.190117</td>\n",
       "    </tr>\n",
       "    <tr>\n",
       "      <th>价值股</th>\n",
       "      <td>0.384997</td>\n",
       "      <td>9.020420e-07</td>\n",
       "      <td>0.999981</td>\n",
       "      <td>0.033530</td>\n",
       "      <td>0.225339</td>\n",
       "      <td>0.242746</td>\n",
       "      <td>0.190392</td>\n",
       "    </tr>\n",
       "    <tr>\n",
       "      <th>港股</th>\n",
       "      <td>0.344423</td>\n",
       "      <td>5.718342e-06</td>\n",
       "      <td>0.999987</td>\n",
       "      <td>0.038795</td>\n",
       "      <td>0.249684</td>\n",
       "      <td>0.286249</td>\n",
       "      <td>0.223761</td>\n",
       "    </tr>\n",
       "    <tr>\n",
       "      <th>黄金</th>\n",
       "      <td>0.510146</td>\n",
       "      <td>9.999856e-01</td>\n",
       "      <td>0.007781</td>\n",
       "      <td>0.857439</td>\n",
       "      <td>0.749833</td>\n",
       "      <td>0.839158</td>\n",
       "      <td>0.753042</td>\n",
       "    </tr>\n",
       "    <tr>\n",
       "      <th>国债</th>\n",
       "      <td>0.505033</td>\n",
       "      <td>9.999971e-01</td>\n",
       "      <td>0.000465</td>\n",
       "      <td>0.927144</td>\n",
       "      <td>0.764328</td>\n",
       "      <td>0.805327</td>\n",
       "      <td>0.842106</td>\n",
       "    </tr>\n",
       "    <tr>\n",
       "      <th>信用债</th>\n",
       "      <td>0.484884</td>\n",
       "      <td>9.999990e-01</td>\n",
       "      <td>0.000459</td>\n",
       "      <td>0.922169</td>\n",
       "      <td>0.783312</td>\n",
       "      <td>0.793276</td>\n",
       "      <td>0.782802</td>\n",
       "    </tr>\n",
       "  </tbody>\n",
       "</table>\n",
       "</div>"
      ],
      "text/plain": [
       "          M2同比          M1同比    工业增加值同比      社融同比    PMI新订单     进出口同比  \\\n",
       "变量趋势 -1.268651 -1.540630e+01 -15.482979 -3.485687 -1.361365 -2.227291   \n",
       "成长股   0.411003  4.988021e-07   0.999986  0.034429  0.223332  0.264822   \n",
       "价值股   0.384997  9.020420e-07   0.999981  0.033530  0.225339  0.242746   \n",
       "港股    0.344423  5.718342e-06   0.999987  0.038795  0.249684  0.286249   \n",
       "黄金    0.510146  9.999856e-01   0.007781  0.857439  0.749833  0.839158   \n",
       "国债    0.505033  9.999971e-01   0.000465  0.927144  0.764328  0.805327   \n",
       "信用债   0.484884  9.999990e-01   0.000459  0.922169  0.783312  0.793276   \n",
       "\n",
       "          社消同比  \n",
       "变量趋势 -1.972893  \n",
       "成长股   0.190117  \n",
       "价值股   0.190392  \n",
       "港股    0.223761  \n",
       "黄金    0.753042  \n",
       "国债    0.842106  \n",
       "信用债   0.782802  "
      ]
     },
     "execution_count": 35,
     "metadata": {},
     "output_type": "execute_result"
    }
   ],
   "source": [
    "board"
   ]
  },
  {
   "cell_type": "code",
   "execution_count": 36,
   "metadata": {},
   "outputs": [],
   "source": [
    "board.to_excel('../data/macro_dashboard.xlsx')"
   ]
  },
  {
   "cell_type": "code",
   "execution_count": null,
   "metadata": {},
   "outputs": [],
   "source": []
  }
 ],
 "metadata": {
  "kernelspec": {
   "display_name": "Python 2",
   "language": "python",
   "name": "python2"
  },
  "language_info": {
   "codemirror_mode": {
    "name": "ipython",
    "version": 2
   },
   "file_extension": ".py",
   "mimetype": "text/x-python",
   "name": "python",
   "nbconvert_exporter": "python",
   "pygments_lexer": "ipython2",
   "version": "2.7.14"
  }
 },
 "nbformat": 4,
 "nbformat_minor": 2
}
