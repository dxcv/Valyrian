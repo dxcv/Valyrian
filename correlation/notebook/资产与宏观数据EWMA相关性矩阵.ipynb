{
 "cells": [
  {
   "cell_type": "code",
   "execution_count": 37,
   "metadata": {},
   "outputs": [],
   "source": [
    "import pandas as pd\n",
    "import numpy as np\n",
    "import matplotlib.pyplot as plt\n",
    "import datetime\n",
    "from WindPy import w\n",
    "%matplotlib inline"
   ]
  },
  {
   "cell_type": "code",
   "execution_count": 38,
   "metadata": {},
   "outputs": [
    {
     "data": {
      "text/plain": [
       ".ErrorCode=0\n",
       ".Data=[Already conntected!]"
      ]
     },
     "execution_count": 38,
     "metadata": {},
     "output_type": "execute_result"
    }
   ],
   "source": [
    "w.start()"
   ]
  },
  {
   "cell_type": "markdown",
   "metadata": {},
   "source": [
    "## 获取起始日期"
   ]
  },
  {
   "cell_type": "code",
   "execution_count": 39,
   "metadata": {},
   "outputs": [],
   "source": [
    "today = datetime.datetime.today()"
   ]
  },
  {
   "cell_type": "code",
   "execution_count": 40,
   "metadata": {},
   "outputs": [
    {
     "data": {
      "text/plain": [
       "'2019-03-25'"
      ]
     },
     "execution_count": 40,
     "metadata": {},
     "output_type": "execute_result"
    }
   ],
   "source": [
    "today.strftime('%Y-%m-%d')"
   ]
  },
  {
   "cell_type": "code",
   "execution_count": 41,
   "metadata": {},
   "outputs": [],
   "source": [
    "start_date = today - datetime.timedelta(365) # 最近1年"
   ]
  },
  {
   "cell_type": "code",
   "execution_count": 42,
   "metadata": {},
   "outputs": [
    {
     "data": {
      "text/plain": [
       "'2018-03-25'"
      ]
     },
     "execution_count": 42,
     "metadata": {},
     "output_type": "execute_result"
    }
   ],
   "source": [
    "start_date.strftime('%Y-%m-%d')"
   ]
  },
  {
   "cell_type": "markdown",
   "metadata": {},
   "source": [
    "## 获取数据"
   ]
  },
  {
   "cell_type": "code",
   "execution_count": 43,
   "metadata": {},
   "outputs": [],
   "source": [
    "df = pd.read_excel(u'../data/资产与宏观数据.xlsx')"
   ]
  },
  {
   "cell_type": "code",
   "execution_count": 44,
   "metadata": {},
   "outputs": [
    {
     "data": {
      "text/html": [
       "<div>\n",
       "<style scoped>\n",
       "    .dataframe tbody tr th:only-of-type {\n",
       "        vertical-align: middle;\n",
       "    }\n",
       "\n",
       "    .dataframe tbody tr th {\n",
       "        vertical-align: top;\n",
       "    }\n",
       "\n",
       "    .dataframe thead th {\n",
       "        text-align: right;\n",
       "    }\n",
       "</style>\n",
       "<table border=\"1\" class=\"dataframe\">\n",
       "  <thead>\n",
       "    <tr style=\"text-align: right;\">\n",
       "      <th></th>\n",
       "      <th>Variables</th>\n",
       "      <th>Name</th>\n",
       "      <th>Assets</th>\n",
       "    </tr>\n",
       "  </thead>\n",
       "  <tbody>\n",
       "    <tr>\n",
       "      <th>0</th>\n",
       "      <td>M0001385</td>\n",
       "      <td>M2同比</td>\n",
       "      <td>000300.SH</td>\n",
       "    </tr>\n",
       "    <tr>\n",
       "      <th>1</th>\n",
       "      <td>M0001383</td>\n",
       "      <td>M1同比</td>\n",
       "      <td>000905.SH</td>\n",
       "    </tr>\n",
       "    <tr>\n",
       "      <th>2</th>\n",
       "      <td>M0000545</td>\n",
       "      <td>工业增加值同比</td>\n",
       "      <td>881001.WI</td>\n",
       "    </tr>\n",
       "    <tr>\n",
       "      <th>3</th>\n",
       "      <td>M5525763</td>\n",
       "      <td>社融同比</td>\n",
       "      <td>CBA00602.CS</td>\n",
       "    </tr>\n",
       "    <tr>\n",
       "      <th>4</th>\n",
       "      <td>M0017128</td>\n",
       "      <td>PMI新订单</td>\n",
       "      <td>CBA02002.CS</td>\n",
       "    </tr>\n",
       "    <tr>\n",
       "      <th>5</th>\n",
       "      <td>M0000605</td>\n",
       "      <td>进出口同比</td>\n",
       "      <td>AU9999.SGE</td>\n",
       "    </tr>\n",
       "    <tr>\n",
       "      <th>6</th>\n",
       "      <td>M0001428</td>\n",
       "      <td>社消同比</td>\n",
       "      <td>HSI.HI</td>\n",
       "    </tr>\n",
       "  </tbody>\n",
       "</table>\n",
       "</div>"
      ],
      "text/plain": [
       "  Variables     Name       Assets\n",
       "0  M0001385     M2同比    000300.SH\n",
       "1  M0001383     M1同比    000905.SH\n",
       "2  M0000545  工业增加值同比    881001.WI\n",
       "3  M5525763     社融同比  CBA00602.CS\n",
       "4  M0017128   PMI新订单  CBA02002.CS\n",
       "5  M0000605    进出口同比   AU9999.SGE\n",
       "6  M0001428     社消同比       HSI.HI"
      ]
     },
     "execution_count": 44,
     "metadata": {},
     "output_type": "execute_result"
    }
   ],
   "source": [
    "df"
   ]
  },
  {
   "cell_type": "code",
   "execution_count": 45,
   "metadata": {},
   "outputs": [],
   "source": [
    "var2name = {k: v for k, v in zip(df['Variables'], df['Name'])}"
   ]
  },
  {
   "cell_type": "code",
   "execution_count": 46,
   "metadata": {},
   "outputs": [],
   "source": [
    "data = w.wsd(df['Assets'].tolist()[:7], 'close', start_date, today)"
   ]
  },
  {
   "cell_type": "code",
   "execution_count": 47,
   "metadata": {},
   "outputs": [],
   "source": [
    "price = pd.DataFrame(np.array(data.Data).T, index=data.Times, columns=data.Codes)\n",
    "price.index = pd.to_datetime(price.index)"
   ]
  },
  {
   "cell_type": "code",
   "execution_count": 48,
   "metadata": {},
   "outputs": [
    {
     "data": {
      "text/html": [
       "<div>\n",
       "<style scoped>\n",
       "    .dataframe tbody tr th:only-of-type {\n",
       "        vertical-align: middle;\n",
       "    }\n",
       "\n",
       "    .dataframe tbody tr th {\n",
       "        vertical-align: top;\n",
       "    }\n",
       "\n",
       "    .dataframe thead th {\n",
       "        text-align: right;\n",
       "    }\n",
       "</style>\n",
       "<table border=\"1\" class=\"dataframe\">\n",
       "  <thead>\n",
       "    <tr style=\"text-align: right;\">\n",
       "      <th></th>\n",
       "      <th>000300.SH</th>\n",
       "      <th>000905.SH</th>\n",
       "      <th>881001.WI</th>\n",
       "      <th>CBA00602.CS</th>\n",
       "      <th>CBA02002.CS</th>\n",
       "      <th>AU9999.SGE</th>\n",
       "      <th>HSI.HI</th>\n",
       "    </tr>\n",
       "  </thead>\n",
       "  <tbody>\n",
       "    <tr>\n",
       "      <th>2019-03-19</th>\n",
       "      <td>3833.9626</td>\n",
       "      <td>5522.1801</td>\n",
       "      <td>4221.8907</td>\n",
       "      <td>118.3324</td>\n",
       "      <td>79.7530</td>\n",
       "      <td>285.20</td>\n",
       "      <td>29466.28</td>\n",
       "    </tr>\n",
       "    <tr>\n",
       "      <th>2019-03-20</th>\n",
       "      <td>3835.4397</td>\n",
       "      <td>5515.7856</td>\n",
       "      <td>4221.3026</td>\n",
       "      <td>118.2893</td>\n",
       "      <td>79.7427</td>\n",
       "      <td>284.59</td>\n",
       "      <td>29320.97</td>\n",
       "    </tr>\n",
       "    <tr>\n",
       "      <th>2019-03-21</th>\n",
       "      <td>3836.8913</td>\n",
       "      <td>5589.4780</td>\n",
       "      <td>4246.9516</td>\n",
       "      <td>118.3613</td>\n",
       "      <td>79.7518</td>\n",
       "      <td>286.50</td>\n",
       "      <td>29071.56</td>\n",
       "    </tr>\n",
       "    <tr>\n",
       "      <th>2019-03-22</th>\n",
       "      <td>3833.8013</td>\n",
       "      <td>5622.1402</td>\n",
       "      <td>4254.6575</td>\n",
       "      <td>118.5079</td>\n",
       "      <td>79.7608</td>\n",
       "      <td>286.50</td>\n",
       "      <td>29113.36</td>\n",
       "    </tr>\n",
       "    <tr>\n",
       "      <th>2019-03-25</th>\n",
       "      <td>3833.8013</td>\n",
       "      <td>5622.1402</td>\n",
       "      <td>4254.6575</td>\n",
       "      <td>118.5079</td>\n",
       "      <td>79.7608</td>\n",
       "      <td>286.50</td>\n",
       "      <td>29113.36</td>\n",
       "    </tr>\n",
       "  </tbody>\n",
       "</table>\n",
       "</div>"
      ],
      "text/plain": [
       "            000300.SH  000905.SH  881001.WI  CBA00602.CS  CBA02002.CS  \\\n",
       "2019-03-19  3833.9626  5522.1801  4221.8907     118.3324      79.7530   \n",
       "2019-03-20  3835.4397  5515.7856  4221.3026     118.2893      79.7427   \n",
       "2019-03-21  3836.8913  5589.4780  4246.9516     118.3613      79.7518   \n",
       "2019-03-22  3833.8013  5622.1402  4254.6575     118.5079      79.7608   \n",
       "2019-03-25  3833.8013  5622.1402  4254.6575     118.5079      79.7608   \n",
       "\n",
       "            AU9999.SGE    HSI.HI  \n",
       "2019-03-19      285.20  29466.28  \n",
       "2019-03-20      284.59  29320.97  \n",
       "2019-03-21      286.50  29071.56  \n",
       "2019-03-22      286.50  29113.36  \n",
       "2019-03-25      286.50  29113.36  "
      ]
     },
     "execution_count": 48,
     "metadata": {},
     "output_type": "execute_result"
    }
   ],
   "source": [
    "price.tail()"
   ]
  },
  {
   "cell_type": "code",
   "execution_count": 49,
   "metadata": {},
   "outputs": [
    {
     "data": {
      "text/plain": [
       "<matplotlib.axes._subplots.AxesSubplot at 0x1f3245f8>"
      ]
     },
     "execution_count": 49,
     "metadata": {},
     "output_type": "execute_result"
    },
    {
     "data": {
      "image/png": "[encoded data removed]",
      "text/plain": [
       "<Figure size 1152x648 with 1 Axes>"
      ]
     },
     "metadata": {},
     "output_type": "display_data"
    }
   ],
   "source": [
    "price.plot(figsize=(16, 9))"
   ]
  },
  {
   "cell_type": "code",
   "execution_count": 50,
   "metadata": {},
   "outputs": [],
   "source": [
    "macro_variables = [x for x in df['Variables'] if str(x).find('.') == -1 and str(x) != 'nan']"
   ]
  },
  {
   "cell_type": "code",
   "execution_count": 51,
   "metadata": {},
   "outputs": [
    {
     "data": {
      "text/plain": [
       "[u'M0001385',\n",
       " u'M0001383',\n",
       " u'M0000545',\n",
       " u'M5525763',\n",
       " u'M0017128',\n",
       " u'M0000605',\n",
       " u'M0001428']"
      ]
     },
     "execution_count": 51,
     "metadata": {},
     "output_type": "execute_result"
    }
   ],
   "source": [
    "macro_variables"
   ]
  },
  {
   "cell_type": "code",
   "execution_count": 52,
   "metadata": {},
   "outputs": [],
   "source": [
    "data = w.edb(macro_variables, start_date, today)"
   ]
  },
  {
   "cell_type": "code",
   "execution_count": 53,
   "metadata": {},
   "outputs": [],
   "source": [
    "macro_df = pd.DataFrame(np.array(data.Data).T, index=data.Times, columns=[var2name[x] for x in macro_variables])"
   ]
  },
  {
   "cell_type": "code",
   "execution_count": 54,
   "metadata": {},
   "outputs": [
    {
     "data": {
      "text/html": [
       "<div>\n",
       "<style scoped>\n",
       "    .dataframe tbody tr th:only-of-type {\n",
       "        vertical-align: middle;\n",
       "    }\n",
       "\n",
       "    .dataframe tbody tr th {\n",
       "        vertical-align: top;\n",
       "    }\n",
       "\n",
       "    .dataframe thead th {\n",
       "        text-align: right;\n",
       "    }\n",
       "</style>\n",
       "<table border=\"1\" class=\"dataframe\">\n",
       "  <thead>\n",
       "    <tr style=\"text-align: right;\">\n",
       "      <th></th>\n",
       "      <th>M2同比</th>\n",
       "      <th>M1同比</th>\n",
       "      <th>工业增加值同比</th>\n",
       "      <th>社融同比</th>\n",
       "      <th>PMI新订单</th>\n",
       "      <th>进出口同比</th>\n",
       "      <th>社消同比</th>\n",
       "    </tr>\n",
       "  </thead>\n",
       "  <tbody>\n",
       "    <tr>\n",
       "      <th>2018-03-31</th>\n",
       "      <td>8.2</td>\n",
       "      <td>7.1</td>\n",
       "      <td>6.000000</td>\n",
       "      <td>11.917040</td>\n",
       "      <td>53.3</td>\n",
       "      <td>5.30</td>\n",
       "      <td>10.100000</td>\n",
       "    </tr>\n",
       "    <tr>\n",
       "      <th>2018-04-30</th>\n",
       "      <td>8.3</td>\n",
       "      <td>7.2</td>\n",
       "      <td>7.000000</td>\n",
       "      <td>11.886410</td>\n",
       "      <td>52.9</td>\n",
       "      <td>16.50</td>\n",
       "      <td>9.400000</td>\n",
       "    </tr>\n",
       "    <tr>\n",
       "      <th>2018-05-31</th>\n",
       "      <td>8.3</td>\n",
       "      <td>6.0</td>\n",
       "      <td>6.800000</td>\n",
       "      <td>11.591320</td>\n",
       "      <td>53.8</td>\n",
       "      <td>18.19</td>\n",
       "      <td>8.500000</td>\n",
       "    </tr>\n",
       "    <tr>\n",
       "      <th>2018-06-30</th>\n",
       "      <td>8.0</td>\n",
       "      <td>6.6</td>\n",
       "      <td>6.000000</td>\n",
       "      <td>11.101210</td>\n",
       "      <td>53.2</td>\n",
       "      <td>12.07</td>\n",
       "      <td>9.000000</td>\n",
       "    </tr>\n",
       "    <tr>\n",
       "      <th>2018-07-31</th>\n",
       "      <td>8.5</td>\n",
       "      <td>5.1</td>\n",
       "      <td>6.000000</td>\n",
       "      <td>10.840980</td>\n",
       "      <td>52.3</td>\n",
       "      <td>18.27</td>\n",
       "      <td>8.800000</td>\n",
       "    </tr>\n",
       "    <tr>\n",
       "      <th>2018-08-31</th>\n",
       "      <td>8.2</td>\n",
       "      <td>3.9</td>\n",
       "      <td>6.100000</td>\n",
       "      <td>10.802550</td>\n",
       "      <td>52.2</td>\n",
       "      <td>14.51</td>\n",
       "      <td>9.000000</td>\n",
       "    </tr>\n",
       "    <tr>\n",
       "      <th>2018-09-30</th>\n",
       "      <td>8.3</td>\n",
       "      <td>4.0</td>\n",
       "      <td>5.800000</td>\n",
       "      <td>10.575280</td>\n",
       "      <td>52.0</td>\n",
       "      <td>14.11</td>\n",
       "      <td>9.200000</td>\n",
       "    </tr>\n",
       "    <tr>\n",
       "      <th>2018-10-31</th>\n",
       "      <td>8.0</td>\n",
       "      <td>2.7</td>\n",
       "      <td>5.900000</td>\n",
       "      <td>10.224710</td>\n",
       "      <td>50.8</td>\n",
       "      <td>17.00</td>\n",
       "      <td>8.600000</td>\n",
       "    </tr>\n",
       "    <tr>\n",
       "      <th>2018-11-30</th>\n",
       "      <td>8.0</td>\n",
       "      <td>1.5</td>\n",
       "      <td>5.400000</td>\n",
       "      <td>9.873883</td>\n",
       "      <td>50.4</td>\n",
       "      <td>3.44</td>\n",
       "      <td>8.100000</td>\n",
       "    </tr>\n",
       "    <tr>\n",
       "      <th>2018-12-31</th>\n",
       "      <td>8.1</td>\n",
       "      <td>1.5</td>\n",
       "      <td>5.700000</td>\n",
       "      <td>9.776316</td>\n",
       "      <td>49.7</td>\n",
       "      <td>-5.90</td>\n",
       "      <td>8.160814</td>\n",
       "    </tr>\n",
       "    <tr>\n",
       "      <th>2019-01-31</th>\n",
       "      <td>8.4</td>\n",
       "      <td>0.4</td>\n",
       "      <td>6.797753</td>\n",
       "      <td>10.416816</td>\n",
       "      <td>49.6</td>\n",
       "      <td>4.10</td>\n",
       "      <td>NaN</td>\n",
       "    </tr>\n",
       "    <tr>\n",
       "      <th>2019-02-28</th>\n",
       "      <td>8.0</td>\n",
       "      <td>2.0</td>\n",
       "      <td>3.360717</td>\n",
       "      <td>10.081992</td>\n",
       "      <td>50.6</td>\n",
       "      <td>-13.80</td>\n",
       "      <td>8.200000</td>\n",
       "    </tr>\n",
       "  </tbody>\n",
       "</table>\n",
       "</div>"
      ],
      "text/plain": [
       "            M2同比  M1同比   工业增加值同比       社融同比  PMI新订单  进出口同比       社消同比\n",
       "2018-03-31   8.2   7.1  6.000000  11.917040    53.3   5.30  10.100000\n",
       "2018-04-30   8.3   7.2  7.000000  11.886410    52.9  16.50   9.400000\n",
       "2018-05-31   8.3   6.0  6.800000  11.591320    53.8  18.19   8.500000\n",
       "2018-06-30   8.0   6.6  6.000000  11.101210    53.2  12.07   9.000000\n",
       "2018-07-31   8.5   5.1  6.000000  10.840980    52.3  18.27   8.800000\n",
       "2018-08-31   8.2   3.9  6.100000  10.802550    52.2  14.51   9.000000\n",
       "2018-09-30   8.3   4.0  5.800000  10.575280    52.0  14.11   9.200000\n",
       "2018-10-31   8.0   2.7  5.900000  10.224710    50.8  17.00   8.600000\n",
       "2018-11-30   8.0   1.5  5.400000   9.873883    50.4   3.44   8.100000\n",
       "2018-12-31   8.1   1.5  5.700000   9.776316    49.7  -5.90   8.160814\n",
       "2019-01-31   8.4   0.4  6.797753  10.416816    49.6   4.10        NaN\n",
       "2019-02-28   8.0   2.0  3.360717  10.081992    50.6 -13.80   8.200000"
      ]
     },
     "execution_count": 54,
     "metadata": {},
     "output_type": "execute_result"
    }
   ],
   "source": [
    "macro_df"
   ]
  },
  {
   "cell_type": "code",
   "execution_count": 55,
   "metadata": {},
   "outputs": [],
   "source": [
    "macro_nav = (1+macro_df.pct_change()).cumprod()\n",
    "macro_nav.iloc[0] = 1"
   ]
  },
  {
   "cell_type": "code",
   "execution_count": 56,
   "metadata": {},
   "outputs": [
    {
     "data": {
      "text/plain": [
       "<matplotlib.axes._subplots.AxesSubplot at 0x1f5a1400>"
      ]
     },
     "execution_count": 56,
     "metadata": {},
     "output_type": "execute_result"
    },
    {
     "data": {
      "image/png": "[encoded data removed]",
      "text/plain": [
       "<Figure size 1152x648 with 1 Axes>"
      ]
     },
     "metadata": {},
     "output_type": "display_data"
    }
   ],
   "source": [
    "macro_nav.plot(figsize=(16, 9))"
   ]
  },
  {
   "cell_type": "code",
   "execution_count": 57,
   "metadata": {},
   "outputs": [],
   "source": [
    "macro_df.to_excel('../data/macro_nav.xlsx')"
   ]
  },
  {
   "cell_type": "code",
   "execution_count": 58,
   "metadata": {},
   "outputs": [],
   "source": [
    "ret_df = pd.DataFrame()"
   ]
  },
  {
   "cell_type": "code",
   "execution_count": 59,
   "metadata": {},
   "outputs": [],
   "source": [
    "ret_df[u'成长股'] = price['000905.SH'].pct_change()\n",
    "ret_df[u'价值股'] = price['000300.SH'].pct_change()\n",
    "ret_df[u'港股'] = price['HSI.HI'].pct_change()\n",
    "ret_df[u'黄金'] = price['AU9999.SGE'].pct_change()\n",
    "ret_df[u'国债'] = price['CBA00602.CS'].pct_change()\n",
    "ret_df[u'信用债'] = price['CBA02002.CS'].pct_change()"
   ]
  },
  {
   "cell_type": "markdown",
   "metadata": {},
   "source": [
    "## 生成EWMA相关性矩阵"
   ]
  },
  {
   "cell_type": "code",
   "execution_count": 60,
   "metadata": {},
   "outputs": [],
   "source": [
    "cor_df = pd.DataFrame(index= ret_df.columns, columns=macro_df.columns.tolist())"
   ]
  },
  {
   "cell_type": "code",
   "execution_count": 61,
   "metadata": {},
   "outputs": [],
   "source": [
    "for asset in cor_df.index:\n",
    "    for var in cor_df.columns:\n",
    "        if var in macro_df.columns:\n",
    "            s, t = (1+ret_df[asset]).cumprod().resample('M').last(), (1+macro_df[var].pct_change()).cumprod()\n",
    "            corr = s.ewm(alpha=0.02, ignore_na=True, adjust=True).corr(t)\n",
    "            cor_df.loc[asset, var] = corr[-1]"
   ]
  },
  {
   "cell_type": "code",
   "execution_count": 62,
   "metadata": {},
   "outputs": [
    {
     "data": {
      "text/html": [
       "<div>\n",
       "<style scoped>\n",
       "    .dataframe tbody tr th:only-of-type {\n",
       "        vertical-align: middle;\n",
       "    }\n",
       "\n",
       "    .dataframe tbody tr th {\n",
       "        vertical-align: top;\n",
       "    }\n",
       "\n",
       "    .dataframe thead th {\n",
       "        text-align: right;\n",
       "    }\n",
       "</style>\n",
       "<table border=\"1\" class=\"dataframe\">\n",
       "  <thead>\n",
       "    <tr style=\"text-align: right;\">\n",
       "      <th></th>\n",
       "      <th>M2同比</th>\n",
       "      <th>M1同比</th>\n",
       "      <th>工业增加值同比</th>\n",
       "      <th>社融同比</th>\n",
       "      <th>PMI新订单</th>\n",
       "      <th>进出口同比</th>\n",
       "      <th>社消同比</th>\n",
       "    </tr>\n",
       "  </thead>\n",
       "  <tbody>\n",
       "    <tr>\n",
       "      <th>成长股</th>\n",
       "      <td>0.280138</td>\n",
       "      <td>0.881046</td>\n",
       "      <td>0.177799</td>\n",
       "      <td>0.87169</td>\n",
       "      <td>0.875393</td>\n",
       "      <td>0.401351</td>\n",
       "      <td>0.526215</td>\n",
       "    </tr>\n",
       "    <tr>\n",
       "      <th>价值股</th>\n",
       "      <td>0.257425</td>\n",
       "      <td>0.721919</td>\n",
       "      <td>-0.0195475</td>\n",
       "      <td>0.759489</td>\n",
       "      <td>0.756098</td>\n",
       "      <td>0.235339</td>\n",
       "      <td>0.405387</td>\n",
       "    </tr>\n",
       "    <tr>\n",
       "      <th>港股</th>\n",
       "      <td>0.451296</td>\n",
       "      <td>0.681832</td>\n",
       "      <td>0.221671</td>\n",
       "      <td>0.827476</td>\n",
       "      <td>0.722548</td>\n",
       "      <td>0.261167</td>\n",
       "      <td>0.463057</td>\n",
       "    </tr>\n",
       "    <tr>\n",
       "      <th>黄金</th>\n",
       "      <td>-0.204273</td>\n",
       "      <td>-0.754635</td>\n",
       "      <td>-0.387053</td>\n",
       "      <td>-0.588443</td>\n",
       "      <td>-0.809228</td>\n",
       "      <td>-0.826051</td>\n",
       "      <td>-0.781235</td>\n",
       "    </tr>\n",
       "    <tr>\n",
       "      <th>国债</th>\n",
       "      <td>-0.176018</td>\n",
       "      <td>-0.799784</td>\n",
       "      <td>-0.4199</td>\n",
       "      <td>-0.685569</td>\n",
       "      <td>-0.845169</td>\n",
       "      <td>-0.839474</td>\n",
       "      <td>-0.82266</td>\n",
       "    </tr>\n",
       "    <tr>\n",
       "      <th>信用债</th>\n",
       "      <td>-0.144839</td>\n",
       "      <td>-0.870385</td>\n",
       "      <td>-0.465202</td>\n",
       "      <td>-0.696418</td>\n",
       "      <td>-0.901543</td>\n",
       "      <td>-0.792976</td>\n",
       "      <td>-0.684663</td>\n",
       "    </tr>\n",
       "  </tbody>\n",
       "</table>\n",
       "</div>"
      ],
      "text/plain": [
       "         M2同比      M1同比    工业增加值同比      社融同比    PMI新订单     进出口同比      社消同比\n",
       "成长股  0.280138  0.881046   0.177799   0.87169  0.875393  0.401351  0.526215\n",
       "价值股  0.257425  0.721919 -0.0195475  0.759489  0.756098  0.235339  0.405387\n",
       "港股   0.451296  0.681832   0.221671  0.827476  0.722548  0.261167  0.463057\n",
       "黄金  -0.204273 -0.754635  -0.387053 -0.588443 -0.809228 -0.826051 -0.781235\n",
       "国债  -0.176018 -0.799784    -0.4199 -0.685569 -0.845169 -0.839474  -0.82266\n",
       "信用债 -0.144839 -0.870385  -0.465202 -0.696418 -0.901543 -0.792976 -0.684663"
      ]
     },
     "execution_count": 62,
     "metadata": {},
     "output_type": "execute_result"
    }
   ],
   "source": [
    "cor_df"
   ]
  },
  {
   "cell_type": "code",
   "execution_count": 63,
   "metadata": {},
   "outputs": [],
   "source": [
    "cor_df.to_excel('../data/macro_ewma_cor.xlsx')"
   ]
  },
  {
   "cell_type": "code",
   "execution_count": 64,
   "metadata": {},
   "outputs": [],
   "source": [
    "trend = {}\n",
    "for var in cor_df.columns:\n",
    "    if var in macro_df.columns:\n",
    "        t = macro_df[var]\n",
    "    ret = t.pct_change()\n",
    "    up, down = ret[ret > 0].sum(), -ret[ret < 0].sum()\n",
    "    smooth = 1e-2\n",
    "    if up > down:\n",
    "        trend[var] = (up + smooth) / (down + smooth)\n",
    "    else:\n",
    "        trend[var] = -(down + smooth) / (up + smooth)"
   ]
  },
  {
   "cell_type": "code",
   "execution_count": 65,
   "metadata": {},
   "outputs": [
    {
     "name": "stdout",
     "output_type": "stream",
     "text": [
      "PMI新订单 -2.0809911320832537\n",
      "M2同比 -1.1282209218984034\n",
      "工业增加值同比 -1.7347416773827022\n",
      "社融同比 -3.14093520602799\n",
      "进出口同比 -3.4486859707975848\n",
      "M1同比 1.9373032968070665\n",
      "社消同比 -2.5430204206658606\n"
     ]
    }
   ],
   "source": [
    "for k, v in trend.iteritems():\n",
    "    print k, v"
   ]
  },
  {
   "cell_type": "code",
   "execution_count": 66,
   "metadata": {},
   "outputs": [],
   "source": [
    "def sigmoid(x):\n",
    "    return 1. / (1 + np.exp(-x))"
   ]
  },
  {
   "cell_type": "code",
   "execution_count": 67,
   "metadata": {},
   "outputs": [],
   "source": [
    "board = pd.DataFrame(index=cor_df.index, columns=cor_df.columns)\n",
    "for var in cor_df.columns:\n",
    "#     print var\n",
    "    x = cor_df[var] * trend[var]\n",
    "    board[var] = sigmoid(x.astype(np.float32))"
   ]
  },
  {
   "cell_type": "code",
   "execution_count": 68,
   "metadata": {},
   "outputs": [],
   "source": [
    "trend_df = pd.DataFrame(trend, index=[u'变量趋势'])"
   ]
  },
  {
   "cell_type": "code",
   "execution_count": 69,
   "metadata": {},
   "outputs": [],
   "source": [
    "board = trend_df.append(board)"
   ]
  },
  {
   "cell_type": "code",
   "execution_count": 70,
   "metadata": {},
   "outputs": [],
   "source": [
    "board = board[cor_df.columns]"
   ]
  },
  {
   "cell_type": "code",
   "execution_count": 71,
   "metadata": {},
   "outputs": [
    {
     "data": {
      "text/html": [
       "<div>\n",
       "<style scoped>\n",
       "    .dataframe tbody tr th:only-of-type {\n",
       "        vertical-align: middle;\n",
       "    }\n",
       "\n",
       "    .dataframe tbody tr th {\n",
       "        vertical-align: top;\n",
       "    }\n",
       "\n",
       "    .dataframe thead th {\n",
       "        text-align: right;\n",
       "    }\n",
       "</style>\n",
       "<table border=\"1\" class=\"dataframe\">\n",
       "  <thead>\n",
       "    <tr style=\"text-align: right;\">\n",
       "      <th></th>\n",
       "      <th>M2同比</th>\n",
       "      <th>M1同比</th>\n",
       "      <th>工业增加值同比</th>\n",
       "      <th>社融同比</th>\n",
       "      <th>PMI新订单</th>\n",
       "      <th>进出口同比</th>\n",
       "      <th>社消同比</th>\n",
       "    </tr>\n",
       "  </thead>\n",
       "  <tbody>\n",
       "    <tr>\n",
       "      <th>变量趋势</th>\n",
       "      <td>-1.128221</td>\n",
       "      <td>1.937303</td>\n",
       "      <td>-1.734742</td>\n",
       "      <td>-3.140935</td>\n",
       "      <td>-2.080991</td>\n",
       "      <td>-3.448686</td>\n",
       "      <td>-2.543020</td>\n",
       "    </tr>\n",
       "    <tr>\n",
       "      <th>成长股</th>\n",
       "      <td>0.421637</td>\n",
       "      <td>0.846428</td>\n",
       "      <td>0.423497</td>\n",
       "      <td>0.060772</td>\n",
       "      <td>0.139232</td>\n",
       "      <td>0.200346</td>\n",
       "      <td>0.207810</td>\n",
       "    </tr>\n",
       "    <tr>\n",
       "      <th>价值股</th>\n",
       "      <td>0.427898</td>\n",
       "      <td>0.801958</td>\n",
       "      <td>0.508477</td>\n",
       "      <td>0.084285</td>\n",
       "      <td>0.171728</td>\n",
       "      <td>0.307548</td>\n",
       "      <td>0.262908</td>\n",
       "    </tr>\n",
       "    <tr>\n",
       "      <th>港股</th>\n",
       "      <td>0.375390</td>\n",
       "      <td>0.789334</td>\n",
       "      <td>0.405032</td>\n",
       "      <td>0.069200</td>\n",
       "      <td>0.181887</td>\n",
       "      <td>0.288910</td>\n",
       "      <td>0.235491</td>\n",
       "    </tr>\n",
       "    <tr>\n",
       "      <th>黄金</th>\n",
       "      <td>0.557363</td>\n",
       "      <td>0.188168</td>\n",
       "      <td>0.661825</td>\n",
       "      <td>0.863923</td>\n",
       "      <td>0.843433</td>\n",
       "      <td>0.945256</td>\n",
       "      <td>0.879393</td>\n",
       "    </tr>\n",
       "    <tr>\n",
       "      <th>国债</th>\n",
       "      <td>0.549484</td>\n",
       "      <td>0.175170</td>\n",
       "      <td>0.674458</td>\n",
       "      <td>0.895979</td>\n",
       "      <td>0.853058</td>\n",
       "      <td>0.947603</td>\n",
       "      <td>0.890127</td>\n",
       "    </tr>\n",
       "    <tr>\n",
       "      <th>信用债</th>\n",
       "      <td>0.540762</td>\n",
       "      <td>0.156276</td>\n",
       "      <td>0.691471</td>\n",
       "      <td>0.899113</td>\n",
       "      <td>0.867163</td>\n",
       "      <td>0.939045</td>\n",
       "      <td>0.850828</td>\n",
       "    </tr>\n",
       "  </tbody>\n",
       "</table>\n",
       "</div>"
      ],
      "text/plain": [
       "          M2同比      M1同比   工业增加值同比      社融同比    PMI新订单     进出口同比      社消同比\n",
       "变量趋势 -1.128221  1.937303 -1.734742 -3.140935 -2.080991 -3.448686 -2.543020\n",
       "成长股   0.421637  0.846428  0.423497  0.060772  0.139232  0.200346  0.207810\n",
       "价值股   0.427898  0.801958  0.508477  0.084285  0.171728  0.307548  0.262908\n",
       "港股    0.375390  0.789334  0.405032  0.069200  0.181887  0.288910  0.235491\n",
       "黄金    0.557363  0.188168  0.661825  0.863923  0.843433  0.945256  0.879393\n",
       "国债    0.549484  0.175170  0.674458  0.895979  0.853058  0.947603  0.890127\n",
       "信用债   0.540762  0.156276  0.691471  0.899113  0.867163  0.939045  0.850828"
      ]
     },
     "execution_count": 71,
     "metadata": {},
     "output_type": "execute_result"
    }
   ],
   "source": [
    "board"
   ]
  },
  {
   "cell_type": "code",
   "execution_count": 72,
   "metadata": {},
   "outputs": [],
   "source": [
    "board.to_excel('../data/macro_dashboard.xlsx')"
   ]
  },
  {
   "cell_type": "code",
   "execution_count": null,
   "metadata": {},
   "outputs": [],
   "source": []
  }
 ],
 "metadata": {
  "kernelspec": {
   "display_name": "Python 2",
   "language": "python",
   "name": "python2"
  },
  "language_info": {
   "codemirror_mode": {
    "name": "ipython",
    "version": 2
   },
   "file_extension": ".py",
   "mimetype": "text/x-python",
   "name": "python",
   "nbconvert_exporter": "python",
   "pygments_lexer": "ipython2",
   "version": "2.7.14"
  }
 },
 "nbformat": 4,
 "nbformat_minor": 2
}
