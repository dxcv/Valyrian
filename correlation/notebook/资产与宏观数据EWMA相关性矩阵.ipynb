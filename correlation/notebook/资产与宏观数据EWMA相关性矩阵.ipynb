{
 "cells": [
  {
   "cell_type": "code",
   "execution_count": 73,
   "metadata": {},
   "outputs": [],
   "source": [
    "import pandas as pd\n",
    "import numpy as np\n",
    "import matplotlib.pyplot as plt\n",
    "import datetime\n",
    "from WindPy import w\n",
    "%matplotlib inline"
   ]
  },
  {
   "cell_type": "code",
   "execution_count": 74,
   "metadata": {},
   "outputs": [
    {
     "data": {
      "text/plain": [
       ".ErrorCode=0\n",
       ".Data=[Already conntected!]"
      ]
     },
     "execution_count": 74,
     "metadata": {},
     "output_type": "execute_result"
    }
   ],
   "source": [
    "w.start()"
   ]
  },
  {
   "cell_type": "markdown",
   "metadata": {},
   "source": [
    "## 获取起始日期"
   ]
  },
  {
   "cell_type": "code",
   "execution_count": 75,
   "metadata": {},
   "outputs": [],
   "source": [
    "today = datetime.datetime.today()"
   ]
  },
  {
   "cell_type": "code",
   "execution_count": 76,
   "metadata": {},
   "outputs": [
    {
     "data": {
      "text/plain": [
       "'2019-04-01'"
      ]
     },
     "execution_count": 76,
     "metadata": {},
     "output_type": "execute_result"
    }
   ],
   "source": [
    "today.strftime('%Y-%m-%d')"
   ]
  },
  {
   "cell_type": "code",
   "execution_count": 77,
   "metadata": {},
   "outputs": [],
   "source": [
    "start_date = today - datetime.timedelta(365) # 最近1年"
   ]
  },
  {
   "cell_type": "code",
   "execution_count": 78,
   "metadata": {},
   "outputs": [
    {
     "data": {
      "text/plain": [
       "'2018-04-01'"
      ]
     },
     "execution_count": 78,
     "metadata": {},
     "output_type": "execute_result"
    }
   ],
   "source": [
    "start_date.strftime('%Y-%m-%d')"
   ]
  },
  {
   "cell_type": "markdown",
   "metadata": {},
   "source": [
    "## 获取数据"
   ]
  },
  {
   "cell_type": "code",
   "execution_count": 79,
   "metadata": {},
   "outputs": [],
   "source": [
    "df = pd.read_excel(u'../data/资产与宏观数据.xlsx')"
   ]
  },
  {
   "cell_type": "code",
   "execution_count": 80,
   "metadata": {},
   "outputs": [
    {
     "data": {
      "text/html": [
       "<div>\n",
       "<style scoped>\n",
       "    .dataframe tbody tr th:only-of-type {\n",
       "        vertical-align: middle;\n",
       "    }\n",
       "\n",
       "    .dataframe tbody tr th {\n",
       "        vertical-align: top;\n",
       "    }\n",
       "\n",
       "    .dataframe thead th {\n",
       "        text-align: right;\n",
       "    }\n",
       "</style>\n",
       "<table border=\"1\" class=\"dataframe\">\n",
       "  <thead>\n",
       "    <tr style=\"text-align: right;\">\n",
       "      <th></th>\n",
       "      <th>Variables</th>\n",
       "      <th>Name</th>\n",
       "      <th>Assets</th>\n",
       "    </tr>\n",
       "  </thead>\n",
       "  <tbody>\n",
       "    <tr>\n",
       "      <th>0</th>\n",
       "      <td>M0001385</td>\n",
       "      <td>M2同比</td>\n",
       "      <td>000300.SH</td>\n",
       "    </tr>\n",
       "    <tr>\n",
       "      <th>1</th>\n",
       "      <td>M0001383</td>\n",
       "      <td>M1同比</td>\n",
       "      <td>000905.SH</td>\n",
       "    </tr>\n",
       "    <tr>\n",
       "      <th>2</th>\n",
       "      <td>M0000545</td>\n",
       "      <td>工业增加值同比</td>\n",
       "      <td>881001.WI</td>\n",
       "    </tr>\n",
       "    <tr>\n",
       "      <th>3</th>\n",
       "      <td>M5525763</td>\n",
       "      <td>社融同比</td>\n",
       "      <td>CBA00602.CS</td>\n",
       "    </tr>\n",
       "    <tr>\n",
       "      <th>4</th>\n",
       "      <td>M0017128</td>\n",
       "      <td>PMI新订单</td>\n",
       "      <td>CBA02002.CS</td>\n",
       "    </tr>\n",
       "    <tr>\n",
       "      <th>5</th>\n",
       "      <td>M0000605</td>\n",
       "      <td>进出口同比</td>\n",
       "      <td>AU9999.SGE</td>\n",
       "    </tr>\n",
       "    <tr>\n",
       "      <th>6</th>\n",
       "      <td>M0001428</td>\n",
       "      <td>社消同比</td>\n",
       "      <td>HSI.HI</td>\n",
       "    </tr>\n",
       "  </tbody>\n",
       "</table>\n",
       "</div>"
      ],
      "text/plain": [
       "  Variables     Name       Assets\n",
       "0  M0001385     M2同比    000300.SH\n",
       "1  M0001383     M1同比    000905.SH\n",
       "2  M0000545  工业增加值同比    881001.WI\n",
       "3  M5525763     社融同比  CBA00602.CS\n",
       "4  M0017128   PMI新订单  CBA02002.CS\n",
       "5  M0000605    进出口同比   AU9999.SGE\n",
       "6  M0001428     社消同比       HSI.HI"
      ]
     },
     "execution_count": 80,
     "metadata": {},
     "output_type": "execute_result"
    }
   ],
   "source": [
    "df"
   ]
  },
  {
   "cell_type": "code",
   "execution_count": 81,
   "metadata": {},
   "outputs": [],
   "source": [
    "var2name = {k: v for k, v in zip(df['Variables'], df['Name'])}"
   ]
  },
  {
   "cell_type": "code",
   "execution_count": 82,
   "metadata": {},
   "outputs": [],
   "source": [
    "data = w.wsd(df['Assets'].tolist()[:7], 'close', start_date, today)"
   ]
  },
  {
   "cell_type": "code",
   "execution_count": 83,
   "metadata": {},
   "outputs": [],
   "source": [
    "price = pd.DataFrame(np.array(data.Data).T, index=data.Times, columns=data.Codes)\n",
    "price.index = pd.to_datetime(price.index)"
   ]
  },
  {
   "cell_type": "code",
   "execution_count": 84,
   "metadata": {},
   "outputs": [
    {
     "data": {
      "text/html": [
       "<div>\n",
       "<style scoped>\n",
       "    .dataframe tbody tr th:only-of-type {\n",
       "        vertical-align: middle;\n",
       "    }\n",
       "\n",
       "    .dataframe tbody tr th {\n",
       "        vertical-align: top;\n",
       "    }\n",
       "\n",
       "    .dataframe thead th {\n",
       "        text-align: right;\n",
       "    }\n",
       "</style>\n",
       "<table border=\"1\" class=\"dataframe\">\n",
       "  <thead>\n",
       "    <tr style=\"text-align: right;\">\n",
       "      <th></th>\n",
       "      <th>000300.SH</th>\n",
       "      <th>000905.SH</th>\n",
       "      <th>881001.WI</th>\n",
       "      <th>CBA00602.CS</th>\n",
       "      <th>CBA02002.CS</th>\n",
       "      <th>AU9999.SGE</th>\n",
       "      <th>HSI.HI</th>\n",
       "    </tr>\n",
       "  </thead>\n",
       "  <tbody>\n",
       "    <tr>\n",
       "      <th>2019-03-26</th>\n",
       "      <td>3700.4388</td>\n",
       "      <td>5394.8787</td>\n",
       "      <td>4102.6560</td>\n",
       "      <td>118.7094</td>\n",
       "      <td>79.8132</td>\n",
       "      <td>287.65</td>\n",
       "      <td>28566.91</td>\n",
       "    </tr>\n",
       "    <tr>\n",
       "      <th>2019-03-27</th>\n",
       "      <td>3743.3878</td>\n",
       "      <td>5447.8795</td>\n",
       "      <td>4139.7307</td>\n",
       "      <td>118.6702</td>\n",
       "      <td>79.8391</td>\n",
       "      <td>287.10</td>\n",
       "      <td>28728.25</td>\n",
       "    </tr>\n",
       "    <tr>\n",
       "      <th>2019-03-28</th>\n",
       "      <td>3728.3953</td>\n",
       "      <td>5370.1234</td>\n",
       "      <td>4102.1660</td>\n",
       "      <td>118.7307</td>\n",
       "      <td>79.8407</td>\n",
       "      <td>286.49</td>\n",
       "      <td>28775.21</td>\n",
       "    </tr>\n",
       "    <tr>\n",
       "      <th>2019-03-29</th>\n",
       "      <td>3872.3412</td>\n",
       "      <td>5547.6561</td>\n",
       "      <td>4241.5262</td>\n",
       "      <td>118.8044</td>\n",
       "      <td>79.8696</td>\n",
       "      <td>281.00</td>\n",
       "      <td>29051.36</td>\n",
       "    </tr>\n",
       "    <tr>\n",
       "      <th>2019-04-01</th>\n",
       "      <td>3872.3412</td>\n",
       "      <td>5547.6561</td>\n",
       "      <td>4241.5262</td>\n",
       "      <td>118.8044</td>\n",
       "      <td>79.8696</td>\n",
       "      <td>281.00</td>\n",
       "      <td>29051.36</td>\n",
       "    </tr>\n",
       "  </tbody>\n",
       "</table>\n",
       "</div>"
      ],
      "text/plain": [
       "            000300.SH  000905.SH  881001.WI  CBA00602.CS  CBA02002.CS  \\\n",
       "2019-03-26  3700.4388  5394.8787  4102.6560     118.7094      79.8132   \n",
       "2019-03-27  3743.3878  5447.8795  4139.7307     118.6702      79.8391   \n",
       "2019-03-28  3728.3953  5370.1234  4102.1660     118.7307      79.8407   \n",
       "2019-03-29  3872.3412  5547.6561  4241.5262     118.8044      79.8696   \n",
       "2019-04-01  3872.3412  5547.6561  4241.5262     118.8044      79.8696   \n",
       "\n",
       "            AU9999.SGE    HSI.HI  \n",
       "2019-03-26      287.65  28566.91  \n",
       "2019-03-27      287.10  28728.25  \n",
       "2019-03-28      286.49  28775.21  \n",
       "2019-03-29      281.00  29051.36  \n",
       "2019-04-01      281.00  29051.36  "
      ]
     },
     "execution_count": 84,
     "metadata": {},
     "output_type": "execute_result"
    }
   ],
   "source": [
    "price.tail()"
   ]
  },
  {
   "cell_type": "code",
   "execution_count": 85,
   "metadata": {},
   "outputs": [
    {
     "data": {
      "text/plain": [
       "<matplotlib.axes._subplots.AxesSubplot at 0x1f759588>"
      ]
     },
     "execution_count": 85,
     "metadata": {},
     "output_type": "execute_result"
    },
    {
     "data": {
      "image/png": "[encoded data removed]",
      "text/plain": [
       "<Figure size 1152x648 with 1 Axes>"
      ]
     },
     "metadata": {},
     "output_type": "display_data"
    }
   ],
   "source": [
    "price.plot(figsize=(16, 9))"
   ]
  },
  {
   "cell_type": "code",
   "execution_count": 86,
   "metadata": {},
   "outputs": [],
   "source": [
    "macro_variables = [x for x in df['Variables'] if str(x).find('.') == -1 and str(x) != 'nan']"
   ]
  },
  {
   "cell_type": "code",
   "execution_count": 87,
   "metadata": {},
   "outputs": [
    {
     "data": {
      "text/plain": [
       "[u'M0001385',\n",
       " u'M0001383',\n",
       " u'M0000545',\n",
       " u'M5525763',\n",
       " u'M0017128',\n",
       " u'M0000605',\n",
       " u'M0001428']"
      ]
     },
     "execution_count": 87,
     "metadata": {},
     "output_type": "execute_result"
    }
   ],
   "source": [
    "macro_variables"
   ]
  },
  {
   "cell_type": "code",
   "execution_count": 88,
   "metadata": {},
   "outputs": [],
   "source": [
    "data = w.edb(macro_variables, start_date, today)"
   ]
  },
  {
   "cell_type": "code",
   "execution_count": 89,
   "metadata": {},
   "outputs": [],
   "source": [
    "macro_df = pd.DataFrame(np.array(data.Data).T, index=data.Times, columns=[var2name[x] for x in macro_variables])"
   ]
  },
  {
   "cell_type": "code",
   "execution_count": 90,
   "metadata": {},
   "outputs": [
    {
     "data": {
      "text/html": [
       "<div>\n",
       "<style scoped>\n",
       "    .dataframe tbody tr th:only-of-type {\n",
       "        vertical-align: middle;\n",
       "    }\n",
       "\n",
       "    .dataframe tbody tr th {\n",
       "        vertical-align: top;\n",
       "    }\n",
       "\n",
       "    .dataframe thead th {\n",
       "        text-align: right;\n",
       "    }\n",
       "</style>\n",
       "<table border=\"1\" class=\"dataframe\">\n",
       "  <thead>\n",
       "    <tr style=\"text-align: right;\">\n",
       "      <th></th>\n",
       "      <th>M2同比</th>\n",
       "      <th>M1同比</th>\n",
       "      <th>工业增加值同比</th>\n",
       "      <th>社融同比</th>\n",
       "      <th>PMI新订单</th>\n",
       "      <th>进出口同比</th>\n",
       "      <th>社消同比</th>\n",
       "    </tr>\n",
       "  </thead>\n",
       "  <tbody>\n",
       "    <tr>\n",
       "      <th>2018-04-30</th>\n",
       "      <td>8.3</td>\n",
       "      <td>7.2</td>\n",
       "      <td>7.000000</td>\n",
       "      <td>11.886410</td>\n",
       "      <td>52.9</td>\n",
       "      <td>16.50</td>\n",
       "      <td>9.400000</td>\n",
       "    </tr>\n",
       "    <tr>\n",
       "      <th>2018-05-31</th>\n",
       "      <td>8.3</td>\n",
       "      <td>6.0</td>\n",
       "      <td>6.800000</td>\n",
       "      <td>11.591320</td>\n",
       "      <td>53.8</td>\n",
       "      <td>18.19</td>\n",
       "      <td>8.500000</td>\n",
       "    </tr>\n",
       "    <tr>\n",
       "      <th>2018-06-30</th>\n",
       "      <td>8.0</td>\n",
       "      <td>6.6</td>\n",
       "      <td>6.000000</td>\n",
       "      <td>11.101210</td>\n",
       "      <td>53.2</td>\n",
       "      <td>12.06</td>\n",
       "      <td>9.000000</td>\n",
       "    </tr>\n",
       "    <tr>\n",
       "      <th>2018-07-31</th>\n",
       "      <td>8.5</td>\n",
       "      <td>5.1</td>\n",
       "      <td>6.000000</td>\n",
       "      <td>10.840980</td>\n",
       "      <td>52.3</td>\n",
       "      <td>18.26</td>\n",
       "      <td>8.800000</td>\n",
       "    </tr>\n",
       "    <tr>\n",
       "      <th>2018-08-31</th>\n",
       "      <td>8.2</td>\n",
       "      <td>3.9</td>\n",
       "      <td>6.100000</td>\n",
       "      <td>10.802550</td>\n",
       "      <td>52.2</td>\n",
       "      <td>14.50</td>\n",
       "      <td>9.000000</td>\n",
       "    </tr>\n",
       "    <tr>\n",
       "      <th>2018-09-30</th>\n",
       "      <td>8.3</td>\n",
       "      <td>4.0</td>\n",
       "      <td>5.800000</td>\n",
       "      <td>10.575280</td>\n",
       "      <td>52.0</td>\n",
       "      <td>14.12</td>\n",
       "      <td>9.200000</td>\n",
       "    </tr>\n",
       "    <tr>\n",
       "      <th>2018-10-31</th>\n",
       "      <td>8.0</td>\n",
       "      <td>2.7</td>\n",
       "      <td>5.900000</td>\n",
       "      <td>10.224710</td>\n",
       "      <td>50.8</td>\n",
       "      <td>17.00</td>\n",
       "      <td>8.600000</td>\n",
       "    </tr>\n",
       "    <tr>\n",
       "      <th>2018-11-30</th>\n",
       "      <td>8.0</td>\n",
       "      <td>1.5</td>\n",
       "      <td>5.400000</td>\n",
       "      <td>9.873883</td>\n",
       "      <td>50.4</td>\n",
       "      <td>3.44</td>\n",
       "      <td>8.100000</td>\n",
       "    </tr>\n",
       "    <tr>\n",
       "      <th>2018-12-31</th>\n",
       "      <td>8.1</td>\n",
       "      <td>1.5</td>\n",
       "      <td>5.700000</td>\n",
       "      <td>9.776316</td>\n",
       "      <td>49.7</td>\n",
       "      <td>-5.91</td>\n",
       "      <td>8.160814</td>\n",
       "    </tr>\n",
       "    <tr>\n",
       "      <th>2019-01-31</th>\n",
       "      <td>8.4</td>\n",
       "      <td>0.4</td>\n",
       "      <td>6.797753</td>\n",
       "      <td>10.416816</td>\n",
       "      <td>49.6</td>\n",
       "      <td>4.10</td>\n",
       "      <td>NaN</td>\n",
       "    </tr>\n",
       "    <tr>\n",
       "      <th>2019-02-28</th>\n",
       "      <td>8.0</td>\n",
       "      <td>2.0</td>\n",
       "      <td>3.360717</td>\n",
       "      <td>10.081992</td>\n",
       "      <td>50.6</td>\n",
       "      <td>-13.80</td>\n",
       "      <td>8.200000</td>\n",
       "    </tr>\n",
       "    <tr>\n",
       "      <th>2019-03-31</th>\n",
       "      <td>NaN</td>\n",
       "      <td>NaN</td>\n",
       "      <td>NaN</td>\n",
       "      <td>NaN</td>\n",
       "      <td>51.6</td>\n",
       "      <td>NaN</td>\n",
       "      <td>NaN</td>\n",
       "    </tr>\n",
       "  </tbody>\n",
       "</table>\n",
       "</div>"
      ],
      "text/plain": [
       "            M2同比  M1同比   工业增加值同比       社融同比  PMI新订单  进出口同比      社消同比\n",
       "2018-04-30   8.3   7.2  7.000000  11.886410    52.9  16.50  9.400000\n",
       "2018-05-31   8.3   6.0  6.800000  11.591320    53.8  18.19  8.500000\n",
       "2018-06-30   8.0   6.6  6.000000  11.101210    53.2  12.06  9.000000\n",
       "2018-07-31   8.5   5.1  6.000000  10.840980    52.3  18.26  8.800000\n",
       "2018-08-31   8.2   3.9  6.100000  10.802550    52.2  14.50  9.000000\n",
       "2018-09-30   8.3   4.0  5.800000  10.575280    52.0  14.12  9.200000\n",
       "2018-10-31   8.0   2.7  5.900000  10.224710    50.8  17.00  8.600000\n",
       "2018-11-30   8.0   1.5  5.400000   9.873883    50.4   3.44  8.100000\n",
       "2018-12-31   8.1   1.5  5.700000   9.776316    49.7  -5.91  8.160814\n",
       "2019-01-31   8.4   0.4  6.797753  10.416816    49.6   4.10       NaN\n",
       "2019-02-28   8.0   2.0  3.360717  10.081992    50.6 -13.80  8.200000\n",
       "2019-03-31   NaN   NaN       NaN        NaN    51.6    NaN       NaN"
      ]
     },
     "execution_count": 90,
     "metadata": {},
     "output_type": "execute_result"
    }
   ],
   "source": [
    "macro_df"
   ]
  },
  {
   "cell_type": "code",
   "execution_count": 91,
   "metadata": {},
   "outputs": [],
   "source": [
    "macro_nav = (1+macro_df.pct_change()).cumprod()\n",
    "macro_nav.iloc[0] = 1"
   ]
  },
  {
   "cell_type": "code",
   "execution_count": 92,
   "metadata": {},
   "outputs": [
    {
     "data": {
      "text/plain": [
       "<matplotlib.axes._subplots.AxesSubplot at 0x1f965748>"
      ]
     },
     "execution_count": 92,
     "metadata": {},
     "output_type": "execute_result"
    },
    {
     "data": {
      "image/png": "[encoded data removed]",
      "text/plain": [
       "<Figure size 1152x648 with 1 Axes>"
      ]
     },
     "metadata": {},
     "output_type": "display_data"
    }
   ],
   "source": [
    "macro_nav.plot(figsize=(16, 9))"
   ]
  },
  {
   "cell_type": "code",
   "execution_count": 93,
   "metadata": {},
   "outputs": [],
   "source": [
    "macro_df.to_excel('../data/macro_nav.xlsx')"
   ]
  },
  {
   "cell_type": "code",
   "execution_count": 94,
   "metadata": {},
   "outputs": [],
   "source": [
    "ret_df = pd.DataFrame()"
   ]
  },
  {
   "cell_type": "code",
   "execution_count": 95,
   "metadata": {},
   "outputs": [],
   "source": [
    "ret_df[u'成长股'] = price['000905.SH'].pct_change()\n",
    "ret_df[u'价值股'] = price['000300.SH'].pct_change()\n",
    "ret_df[u'港股'] = price['HSI.HI'].pct_change()\n",
    "ret_df[u'黄金'] = price['AU9999.SGE'].pct_change()\n",
    "ret_df[u'国债'] = price['CBA00602.CS'].pct_change()\n",
    "ret_df[u'信用债'] = price['CBA02002.CS'].pct_change()"
   ]
  },
  {
   "cell_type": "markdown",
   "metadata": {},
   "source": [
    "## 生成EWMA相关性矩阵"
   ]
  },
  {
   "cell_type": "code",
   "execution_count": 96,
   "metadata": {},
   "outputs": [],
   "source": [
    "cor_df = pd.DataFrame(index= ret_df.columns, columns=macro_df.columns.tolist())"
   ]
  },
  {
   "cell_type": "code",
   "execution_count": 97,
   "metadata": {},
   "outputs": [],
   "source": [
    "for asset in cor_df.index:\n",
    "    for var in cor_df.columns:\n",
    "        if var in macro_df.columns:\n",
    "            s, t = (1+ret_df[asset]).cumprod().resample('M').last(), (1+macro_df[var].pct_change()).cumprod()\n",
    "            corr = s.ewm(alpha=0.02, ignore_na=True, adjust=True).corr(t)\n",
    "            cor_df.loc[asset, var] = corr[-1]"
   ]
  },
  {
   "cell_type": "code",
   "execution_count": 98,
   "metadata": {},
   "outputs": [
    {
     "data": {
      "text/html": [
       "<div>\n",
       "<style scoped>\n",
       "    .dataframe tbody tr th:only-of-type {\n",
       "        vertical-align: middle;\n",
       "    }\n",
       "\n",
       "    .dataframe tbody tr th {\n",
       "        vertical-align: top;\n",
       "    }\n",
       "\n",
       "    .dataframe thead th {\n",
       "        text-align: right;\n",
       "    }\n",
       "</style>\n",
       "<table border=\"1\" class=\"dataframe\">\n",
       "  <thead>\n",
       "    <tr style=\"text-align: right;\">\n",
       "      <th></th>\n",
       "      <th>M2同比</th>\n",
       "      <th>M1同比</th>\n",
       "      <th>工业增加值同比</th>\n",
       "      <th>社融同比</th>\n",
       "      <th>PMI新订单</th>\n",
       "      <th>进出口同比</th>\n",
       "      <th>社消同比</th>\n",
       "    </tr>\n",
       "  </thead>\n",
       "  <tbody>\n",
       "    <tr>\n",
       "      <th>成长股</th>\n",
       "      <td>0.2125</td>\n",
       "      <td>0.838965</td>\n",
       "      <td>-0.0154128</td>\n",
       "      <td>0.814745</td>\n",
       "      <td>0.813184</td>\n",
       "      <td>0.337904</td>\n",
       "      <td>0.336562</td>\n",
       "    </tr>\n",
       "    <tr>\n",
       "      <th>价值股</th>\n",
       "      <td>0.197729</td>\n",
       "      <td>0.652277</td>\n",
       "      <td>-0.197432</td>\n",
       "      <td>0.699752</td>\n",
       "      <td>0.632817</td>\n",
       "      <td>0.157186</td>\n",
       "      <td>0.244839</td>\n",
       "    </tr>\n",
       "    <tr>\n",
       "      <th>港股</th>\n",
       "      <td>0.415208</td>\n",
       "      <td>0.596964</td>\n",
       "      <td>0.0813507</td>\n",
       "      <td>0.787286</td>\n",
       "      <td>0.675596</td>\n",
       "      <td>0.184036</td>\n",
       "      <td>0.305705</td>\n",
       "    </tr>\n",
       "    <tr>\n",
       "      <th>黄金</th>\n",
       "      <td>-0.181084</td>\n",
       "      <td>-0.794268</td>\n",
       "      <td>-0.362138</td>\n",
       "      <td>-0.630554</td>\n",
       "      <td>-0.775049</td>\n",
       "      <td>-0.823059</td>\n",
       "      <td>-0.854936</td>\n",
       "    </tr>\n",
       "    <tr>\n",
       "      <th>国债</th>\n",
       "      <td>-0.127761</td>\n",
       "      <td>-0.79025</td>\n",
       "      <td>-0.354842</td>\n",
       "      <td>-0.668246</td>\n",
       "      <td>-0.722242</td>\n",
       "      <td>-0.829645</td>\n",
       "      <td>-0.827385</td>\n",
       "    </tr>\n",
       "    <tr>\n",
       "      <th>信用债</th>\n",
       "      <td>-0.123907</td>\n",
       "      <td>-0.939182</td>\n",
       "      <td>-0.453779</td>\n",
       "      <td>-0.780791</td>\n",
       "      <td>-0.822155</td>\n",
       "      <td>-0.791454</td>\n",
       "      <td>-0.754624</td>\n",
       "    </tr>\n",
       "  </tbody>\n",
       "</table>\n",
       "</div>"
      ],
      "text/plain": [
       "         M2同比      M1同比    工业增加值同比      社融同比    PMI新订单     进出口同比      社消同比\n",
       "成长股    0.2125  0.838965 -0.0154128  0.814745  0.813184  0.337904  0.336562\n",
       "价值股  0.197729  0.652277  -0.197432  0.699752  0.632817  0.157186  0.244839\n",
       "港股   0.415208  0.596964  0.0813507  0.787286  0.675596  0.184036  0.305705\n",
       "黄金  -0.181084 -0.794268  -0.362138 -0.630554 -0.775049 -0.823059 -0.854936\n",
       "国债  -0.127761  -0.79025  -0.354842 -0.668246 -0.722242 -0.829645 -0.827385\n",
       "信用债 -0.123907 -0.939182  -0.453779 -0.780791 -0.822155 -0.791454 -0.754624"
      ]
     },
     "execution_count": 98,
     "metadata": {},
     "output_type": "execute_result"
    }
   ],
   "source": [
    "cor_df"
   ]
  },
  {
   "cell_type": "code",
   "execution_count": 99,
   "metadata": {},
   "outputs": [],
   "source": [
    "cor_df.to_excel('../data/macro_ewma_cor.xlsx')"
   ]
  },
  {
   "cell_type": "code",
   "execution_count": 100,
   "metadata": {},
   "outputs": [],
   "source": [
    "trend = {}\n",
    "for var in cor_df.columns:\n",
    "    if var in macro_df.columns:\n",
    "        t = macro_df[var]\n",
    "    ret = t.pct_change()\n",
    "    up, down = ret[ret > 0].sum(), -ret[ret < 0].sum()\n",
    "    smooth = 1e-2\n",
    "    if up > down:\n",
    "        trend[var] = (up + smooth) / (down + smooth)\n",
    "    else:\n",
    "        trend[var] = -(down + smooth) / (up + smooth)"
   ]
  },
  {
   "cell_type": "code",
   "execution_count": 101,
   "metadata": {},
   "outputs": [
    {
     "name": "stdout",
     "output_type": "stream",
     "text": [
      "PMI新订单 -1.35447620710308\n",
      "M2同比 -1.230720887883993\n",
      "工业增加值同比 -2.724715258176337\n",
      "社融同比 -3.1068988832716515\n",
      "进出口同比 -12.227030808592307\n",
      "M1同比 1.9307279313492896\n",
      "社消同比 -1.9933259993595536\n"
     ]
    }
   ],
   "source": [
    "for k, v in trend.iteritems():\n",
    "    print k, v"
   ]
  },
  {
   "cell_type": "code",
   "execution_count": 102,
   "metadata": {},
   "outputs": [],
   "source": [
    "def sigmoid(x):\n",
    "    return 1. / (1 + np.exp(-x))"
   ]
  },
  {
   "cell_type": "code",
   "execution_count": 103,
   "metadata": {},
   "outputs": [],
   "source": [
    "board = pd.DataFrame(index=cor_df.index, columns=cor_df.columns)\n",
    "for var in cor_df.columns:\n",
    "#     print var\n",
    "    x = cor_df[var] * trend[var]\n",
    "    board[var] = sigmoid(x.astype(np.float32))"
   ]
  },
  {
   "cell_type": "code",
   "execution_count": 104,
   "metadata": {},
   "outputs": [],
   "source": [
    "trend_df = pd.DataFrame(trend, index=[u'变量趋势'])"
   ]
  },
  {
   "cell_type": "code",
   "execution_count": 105,
   "metadata": {},
   "outputs": [],
   "source": [
    "board = trend_df.append(board)"
   ]
  },
  {
   "cell_type": "code",
   "execution_count": 106,
   "metadata": {},
   "outputs": [],
   "source": [
    "board = board[cor_df.columns]"
   ]
  },
  {
   "cell_type": "code",
   "execution_count": 107,
   "metadata": {},
   "outputs": [
    {
     "data": {
      "text/html": [
       "<div>\n",
       "<style scoped>\n",
       "    .dataframe tbody tr th:only-of-type {\n",
       "        vertical-align: middle;\n",
       "    }\n",
       "\n",
       "    .dataframe tbody tr th {\n",
       "        vertical-align: top;\n",
       "    }\n",
       "\n",
       "    .dataframe thead th {\n",
       "        text-align: right;\n",
       "    }\n",
       "</style>\n",
       "<table border=\"1\" class=\"dataframe\">\n",
       "  <thead>\n",
       "    <tr style=\"text-align: right;\">\n",
       "      <th></th>\n",
       "      <th>M2同比</th>\n",
       "      <th>M1同比</th>\n",
       "      <th>工业增加值同比</th>\n",
       "      <th>社融同比</th>\n",
       "      <th>PMI新订单</th>\n",
       "      <th>进出口同比</th>\n",
       "      <th>社消同比</th>\n",
       "    </tr>\n",
       "  </thead>\n",
       "  <tbody>\n",
       "    <tr>\n",
       "      <th>变量趋势</th>\n",
       "      <td>-1.230721</td>\n",
       "      <td>1.930728</td>\n",
       "      <td>-2.724715</td>\n",
       "      <td>-3.106899</td>\n",
       "      <td>-1.354476</td>\n",
       "      <td>-12.227031</td>\n",
       "      <td>-1.993326</td>\n",
       "    </tr>\n",
       "    <tr>\n",
       "      <th>成长股</th>\n",
       "      <td>0.434988</td>\n",
       "      <td>0.834769</td>\n",
       "      <td>0.510497</td>\n",
       "      <td>0.073691</td>\n",
       "      <td>0.249470</td>\n",
       "      <td>0.015804</td>\n",
       "      <td>0.338300</td>\n",
       "    </tr>\n",
       "    <tr>\n",
       "      <th>价值股</th>\n",
       "      <td>0.439461</td>\n",
       "      <td>0.778918</td>\n",
       "      <td>0.631335</td>\n",
       "      <td>0.102104</td>\n",
       "      <td>0.297938</td>\n",
       "      <td>0.127647</td>\n",
       "      <td>0.380354</td>\n",
       "    </tr>\n",
       "    <tr>\n",
       "      <th>港股</th>\n",
       "      <td>0.374958</td>\n",
       "      <td>0.759981</td>\n",
       "      <td>0.444811</td>\n",
       "      <td>0.079730</td>\n",
       "      <td>0.285962</td>\n",
       "      <td>0.095331</td>\n",
       "      <td>0.352203</td>\n",
       "    </tr>\n",
       "    <tr>\n",
       "      <th>黄金</th>\n",
       "      <td>0.555487</td>\n",
       "      <td>0.177480</td>\n",
       "      <td>0.728440</td>\n",
       "      <td>0.876432</td>\n",
       "      <td>0.740734</td>\n",
       "      <td>0.999957</td>\n",
       "      <td>0.846078</td>\n",
       "    </tr>\n",
       "    <tr>\n",
       "      <th>国债</th>\n",
       "      <td>0.539229</td>\n",
       "      <td>0.178615</td>\n",
       "      <td>0.724490</td>\n",
       "      <td>0.888566</td>\n",
       "      <td>0.726763</td>\n",
       "      <td>0.999961</td>\n",
       "      <td>0.838789</td>\n",
       "    </tr>\n",
       "    <tr>\n",
       "      <th>信用债</th>\n",
       "      <td>0.538050</td>\n",
       "      <td>0.140239</td>\n",
       "      <td>0.774940</td>\n",
       "      <td>0.918776</td>\n",
       "      <td>0.752798</td>\n",
       "      <td>0.999937</td>\n",
       "      <td>0.818202</td>\n",
       "    </tr>\n",
       "  </tbody>\n",
       "</table>\n",
       "</div>"
      ],
      "text/plain": [
       "          M2同比      M1同比   工业增加值同比      社融同比    PMI新订单      进出口同比      社消同比\n",
       "变量趋势 -1.230721  1.930728 -2.724715 -3.106899 -1.354476 -12.227031 -1.993326\n",
       "成长股   0.434988  0.834769  0.510497  0.073691  0.249470   0.015804  0.338300\n",
       "价值股   0.439461  0.778918  0.631335  0.102104  0.297938   0.127647  0.380354\n",
       "港股    0.374958  0.759981  0.444811  0.079730  0.285962   0.095331  0.352203\n",
       "黄金    0.555487  0.177480  0.728440  0.876432  0.740734   0.999957  0.846078\n",
       "国债    0.539229  0.178615  0.724490  0.888566  0.726763   0.999961  0.838789\n",
       "信用债   0.538050  0.140239  0.774940  0.918776  0.752798   0.999937  0.818202"
      ]
     },
     "execution_count": 107,
     "metadata": {},
     "output_type": "execute_result"
    }
   ],
   "source": [
    "board"
   ]
  },
  {
   "cell_type": "code",
   "execution_count": 108,
   "metadata": {},
   "outputs": [],
   "source": [
    "board.to_excel('../data/macro_dashboard.xlsx')"
   ]
  },
  {
   "cell_type": "code",
   "execution_count": null,
   "metadata": {},
   "outputs": [],
   "source": []
  }
 ],
 "metadata": {
  "kernelspec": {
   "display_name": "Python 2",
   "language": "python",
   "name": "python2"
  },
  "language_info": {
   "codemirror_mode": {
    "name": "ipython",
    "version": 2
   },
   "file_extension": ".py",
   "mimetype": "text/x-python",
   "name": "python",
   "nbconvert_exporter": "python",
   "pygments_lexer": "ipython2",
   "version": "2.7.14"
  }
 },
 "nbformat": 4,
 "nbformat_minor": 2
}
