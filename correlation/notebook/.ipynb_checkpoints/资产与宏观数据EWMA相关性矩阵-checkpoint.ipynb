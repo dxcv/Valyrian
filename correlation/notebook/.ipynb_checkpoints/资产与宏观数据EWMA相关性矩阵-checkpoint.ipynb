{
 "cells": [
  {
   "cell_type": "code",
   "execution_count": 38,
   "metadata": {},
   "outputs": [],
   "source": [
    "import pandas as pd\n",
    "import numpy as np\n",
    "import matplotlib.pyplot as plt\n",
    "import datetime\n",
    "from WindPy import w\n",
    "%matplotlib inline"
   ]
  },
  {
   "cell_type": "code",
   "execution_count": 39,
   "metadata": {},
   "outputs": [
    {
     "data": {
      "text/plain": [
       ".ErrorCode=0\n",
       ".Data=[Already conntected!]"
      ]
     },
     "execution_count": 39,
     "metadata": {},
     "output_type": "execute_result"
    }
   ],
   "source": [
    "w.start()"
   ]
  },
  {
   "cell_type": "markdown",
   "metadata": {},
   "source": [
    "## 获取起始日期"
   ]
  },
  {
   "cell_type": "code",
   "execution_count": 40,
   "metadata": {},
   "outputs": [],
   "source": [
    "today = datetime.datetime.today()"
   ]
  },
  {
   "cell_type": "code",
   "execution_count": 41,
   "metadata": {},
   "outputs": [
    {
     "data": {
      "text/plain": [
       "'2019-02-11'"
      ]
     },
     "execution_count": 41,
     "metadata": {},
     "output_type": "execute_result"
    }
   ],
   "source": [
    "today.strftime('%Y-%m-%d')"
   ]
  },
  {
   "cell_type": "code",
   "execution_count": 42,
   "metadata": {},
   "outputs": [],
   "source": [
    "start_date = today - datetime.timedelta(365) # 最近1年"
   ]
  },
  {
   "cell_type": "code",
   "execution_count": 43,
   "metadata": {},
   "outputs": [
    {
     "data": {
      "text/plain": [
       "'2018-02-11'"
      ]
     },
     "execution_count": 43,
     "metadata": {},
     "output_type": "execute_result"
    }
   ],
   "source": [
    "start_date.strftime('%Y-%m-%d')"
   ]
  },
  {
   "cell_type": "markdown",
   "metadata": {},
   "source": [
    "## 获取数据"
   ]
  },
  {
   "cell_type": "code",
   "execution_count": 44,
   "metadata": {},
   "outputs": [],
   "source": [
    "df = pd.read_excel(u'../data/资产与宏观数据.xlsx')"
   ]
  },
  {
   "cell_type": "code",
   "execution_count": 45,
   "metadata": {},
   "outputs": [
    {
     "data": {
      "text/html": [
       "<div>\n",
       "<style scoped>\n",
       "    .dataframe tbody tr th:only-of-type {\n",
       "        vertical-align: middle;\n",
       "    }\n",
       "\n",
       "    .dataframe tbody tr th {\n",
       "        vertical-align: top;\n",
       "    }\n",
       "\n",
       "    .dataframe thead th {\n",
       "        text-align: right;\n",
       "    }\n",
       "</style>\n",
       "<table border=\"1\" class=\"dataframe\">\n",
       "  <thead>\n",
       "    <tr style=\"text-align: right;\">\n",
       "      <th></th>\n",
       "      <th>Variables</th>\n",
       "      <th>Name</th>\n",
       "      <th>Assets</th>\n",
       "    </tr>\n",
       "  </thead>\n",
       "  <tbody>\n",
       "    <tr>\n",
       "      <th>0</th>\n",
       "      <td>M0001385</td>\n",
       "      <td>M2同比</td>\n",
       "      <td>000300.SH</td>\n",
       "    </tr>\n",
       "    <tr>\n",
       "      <th>1</th>\n",
       "      <td>M0001383</td>\n",
       "      <td>M1同比</td>\n",
       "      <td>000905.SH</td>\n",
       "    </tr>\n",
       "    <tr>\n",
       "      <th>2</th>\n",
       "      <td>M0000545</td>\n",
       "      <td>工业增加值同比</td>\n",
       "      <td>881001.WI</td>\n",
       "    </tr>\n",
       "    <tr>\n",
       "      <th>3</th>\n",
       "      <td>M5525763</td>\n",
       "      <td>社融同比</td>\n",
       "      <td>CBA00602.CS</td>\n",
       "    </tr>\n",
       "    <tr>\n",
       "      <th>4</th>\n",
       "      <td>M0017128</td>\n",
       "      <td>PMI新订单</td>\n",
       "      <td>CBA02002.CS</td>\n",
       "    </tr>\n",
       "    <tr>\n",
       "      <th>5</th>\n",
       "      <td>M0000605</td>\n",
       "      <td>进出口同比</td>\n",
       "      <td>AU9999.SGE</td>\n",
       "    </tr>\n",
       "    <tr>\n",
       "      <th>6</th>\n",
       "      <td>M0001428</td>\n",
       "      <td>社消同比</td>\n",
       "      <td>HSI.HI</td>\n",
       "    </tr>\n",
       "  </tbody>\n",
       "</table>\n",
       "</div>"
      ],
      "text/plain": [
       "  Variables     Name       Assets\n",
       "0  M0001385     M2同比    000300.SH\n",
       "1  M0001383     M1同比    000905.SH\n",
       "2  M0000545  工业增加值同比    881001.WI\n",
       "3  M5525763     社融同比  CBA00602.CS\n",
       "4  M0017128   PMI新订单  CBA02002.CS\n",
       "5  M0000605    进出口同比   AU9999.SGE\n",
       "6  M0001428     社消同比       HSI.HI"
      ]
     },
     "execution_count": 45,
     "metadata": {},
     "output_type": "execute_result"
    }
   ],
   "source": [
    "df"
   ]
  },
  {
   "cell_type": "code",
   "execution_count": 46,
   "metadata": {},
   "outputs": [],
   "source": [
    "var2name = {k: v for k, v in zip(df['Variables'], df['Name'])}"
   ]
  },
  {
   "cell_type": "code",
   "execution_count": 47,
   "metadata": {},
   "outputs": [],
   "source": [
    "data = w.wsd(df['Assets'].tolist()[:7], 'close', start_date, today)"
   ]
  },
  {
   "cell_type": "code",
   "execution_count": 48,
   "metadata": {},
   "outputs": [],
   "source": [
    "price = pd.DataFrame(np.array(data.Data).T, index=data.Times, columns=data.Codes)\n",
    "price.index = pd.to_datetime(price.index)"
   ]
  },
  {
   "cell_type": "code",
   "execution_count": 49,
   "metadata": {},
   "outputs": [
    {
     "data": {
      "text/html": [
       "<div>\n",
       "<style scoped>\n",
       "    .dataframe tbody tr th:only-of-type {\n",
       "        vertical-align: middle;\n",
       "    }\n",
       "\n",
       "    .dataframe tbody tr th {\n",
       "        vertical-align: top;\n",
       "    }\n",
       "\n",
       "    .dataframe thead th {\n",
       "        text-align: right;\n",
       "    }\n",
       "</style>\n",
       "<table border=\"1\" class=\"dataframe\">\n",
       "  <thead>\n",
       "    <tr style=\"text-align: right;\">\n",
       "      <th></th>\n",
       "      <th>000300.SH</th>\n",
       "      <th>000905.SH</th>\n",
       "      <th>881001.WI</th>\n",
       "      <th>CBA00602.CS</th>\n",
       "      <th>CBA02002.CS</th>\n",
       "      <th>AU9999.SGE</th>\n",
       "      <th>HSI.HI</th>\n",
       "    </tr>\n",
       "  </thead>\n",
       "  <tbody>\n",
       "    <tr>\n",
       "      <th>2019-01-29</th>\n",
       "      <td>3193.9698</td>\n",
       "      <td>4254.2875</td>\n",
       "      <td>3372.3261</td>\n",
       "      <td>118.6373</td>\n",
       "      <td>79.8942</td>\n",
       "      <td>285.92</td>\n",
       "      <td>27531.68</td>\n",
       "    </tr>\n",
       "    <tr>\n",
       "      <th>2019-01-30</th>\n",
       "      <td>3168.4829</td>\n",
       "      <td>4211.6235</td>\n",
       "      <td>3337.2465</td>\n",
       "      <td>118.7280</td>\n",
       "      <td>79.9174</td>\n",
       "      <td>286.72</td>\n",
       "      <td>27642.85</td>\n",
       "    </tr>\n",
       "    <tr>\n",
       "      <th>2019-01-31</th>\n",
       "      <td>3201.6331</td>\n",
       "      <td>4176.4739</td>\n",
       "      <td>3333.4650</td>\n",
       "      <td>118.7857</td>\n",
       "      <td>79.9494</td>\n",
       "      <td>286.70</td>\n",
       "      <td>27942.47</td>\n",
       "    </tr>\n",
       "    <tr>\n",
       "      <th>2019-02-01</th>\n",
       "      <td>3247.3971</td>\n",
       "      <td>4294.2696</td>\n",
       "      <td>3400.7148</td>\n",
       "      <td>118.7946</td>\n",
       "      <td>79.9817</td>\n",
       "      <td>287.42</td>\n",
       "      <td>27930.74</td>\n",
       "    </tr>\n",
       "    <tr>\n",
       "      <th>2019-02-11</th>\n",
       "      <td>3247.3971</td>\n",
       "      <td>4294.2696</td>\n",
       "      <td>3400.7148</td>\n",
       "      <td>118.8785</td>\n",
       "      <td>79.9897</td>\n",
       "      <td>287.42</td>\n",
       "      <td>27946.32</td>\n",
       "    </tr>\n",
       "  </tbody>\n",
       "</table>\n",
       "</div>"
      ],
      "text/plain": [
       "            000300.SH  000905.SH  881001.WI  CBA00602.CS  CBA02002.CS  \\\n",
       "2019-01-29  3193.9698  4254.2875  3372.3261     118.6373      79.8942   \n",
       "2019-01-30  3168.4829  4211.6235  3337.2465     118.7280      79.9174   \n",
       "2019-01-31  3201.6331  4176.4739  3333.4650     118.7857      79.9494   \n",
       "2019-02-01  3247.3971  4294.2696  3400.7148     118.7946      79.9817   \n",
       "2019-02-11  3247.3971  4294.2696  3400.7148     118.8785      79.9897   \n",
       "\n",
       "            AU9999.SGE    HSI.HI  \n",
       "2019-01-29      285.92  27531.68  \n",
       "2019-01-30      286.72  27642.85  \n",
       "2019-01-31      286.70  27942.47  \n",
       "2019-02-01      287.42  27930.74  \n",
       "2019-02-11      287.42  27946.32  "
      ]
     },
     "execution_count": 49,
     "metadata": {},
     "output_type": "execute_result"
    }
   ],
   "source": [
    "price.tail()"
   ]
  },
  {
   "cell_type": "code",
   "execution_count": 50,
   "metadata": {},
   "outputs": [
    {
     "data": {
      "text/plain": [
       "<matplotlib.axes._subplots.AxesSubplot at 0x1e8f82e8>"
      ]
     },
     "execution_count": 50,
     "metadata": {},
     "output_type": "execute_result"
    },
    {
     "data": {
      "image/png": "[encoded data removed]",
      "text/plain": [
       "<Figure size 1152x648 with 1 Axes>"
      ]
     },
     "metadata": {},
     "output_type": "display_data"
    }
   ],
   "source": [
    "price.plot(figsize=(16, 9))"
   ]
  },
  {
   "cell_type": "code",
   "execution_count": 51,
   "metadata": {},
   "outputs": [],
   "source": [
    "macro_variables = [x for x in df['Variables'] if str(x).find('.') == -1 and str(x) != 'nan']"
   ]
  },
  {
   "cell_type": "code",
   "execution_count": 52,
   "metadata": {},
   "outputs": [
    {
     "data": {
      "text/plain": [
       "[u'M0001385',\n",
       " u'M0001383',\n",
       " u'M0000545',\n",
       " u'M5525763',\n",
       " u'M0017128',\n",
       " u'M0000605',\n",
       " u'M0001428']"
      ]
     },
     "execution_count": 52,
     "metadata": {},
     "output_type": "execute_result"
    }
   ],
   "source": [
    "macro_variables"
   ]
  },
  {
   "cell_type": "code",
   "execution_count": 53,
   "metadata": {},
   "outputs": [],
   "source": [
    "data = w.edb(macro_variables, start_date, today)"
   ]
  },
  {
   "cell_type": "code",
   "execution_count": 54,
   "metadata": {},
   "outputs": [],
   "source": [
    "macro_df = pd.DataFrame(np.array(data.Data).T, index=data.Times, columns=[var2name[x] for x in macro_variables])"
   ]
  },
  {
   "cell_type": "code",
   "execution_count": 55,
   "metadata": {},
   "outputs": [
    {
     "data": {
      "text/html": [
       "<div>\n",
       "<style scoped>\n",
       "    .dataframe tbody tr th:only-of-type {\n",
       "        vertical-align: middle;\n",
       "    }\n",
       "\n",
       "    .dataframe tbody tr th {\n",
       "        vertical-align: top;\n",
       "    }\n",
       "\n",
       "    .dataframe thead th {\n",
       "        text-align: right;\n",
       "    }\n",
       "</style>\n",
       "<table border=\"1\" class=\"dataframe\">\n",
       "  <thead>\n",
       "    <tr style=\"text-align: right;\">\n",
       "      <th></th>\n",
       "      <th>M2同比</th>\n",
       "      <th>M1同比</th>\n",
       "      <th>工业增加值同比</th>\n",
       "      <th>社融同比</th>\n",
       "      <th>PMI新订单</th>\n",
       "      <th>进出口同比</th>\n",
       "      <th>社消同比</th>\n",
       "    </tr>\n",
       "  </thead>\n",
       "  <tbody>\n",
       "    <tr>\n",
       "      <th>2018-02-28</th>\n",
       "      <td>8.8</td>\n",
       "      <td>8.5</td>\n",
       "      <td>-2.119883</td>\n",
       "      <td>12.653160</td>\n",
       "      <td>51.0</td>\n",
       "      <td>24.3</td>\n",
       "      <td>9.7</td>\n",
       "    </tr>\n",
       "    <tr>\n",
       "      <th>2018-03-31</th>\n",
       "      <td>8.2</td>\n",
       "      <td>7.1</td>\n",
       "      <td>6.000000</td>\n",
       "      <td>11.917040</td>\n",
       "      <td>53.3</td>\n",
       "      <td>5.3</td>\n",
       "      <td>10.1</td>\n",
       "    </tr>\n",
       "    <tr>\n",
       "      <th>2018-04-30</th>\n",
       "      <td>8.3</td>\n",
       "      <td>7.2</td>\n",
       "      <td>7.000000</td>\n",
       "      <td>11.886410</td>\n",
       "      <td>52.9</td>\n",
       "      <td>16.5</td>\n",
       "      <td>9.4</td>\n",
       "    </tr>\n",
       "    <tr>\n",
       "      <th>2018-05-31</th>\n",
       "      <td>8.3</td>\n",
       "      <td>6.0</td>\n",
       "      <td>6.800000</td>\n",
       "      <td>11.591320</td>\n",
       "      <td>53.8</td>\n",
       "      <td>18.2</td>\n",
       "      <td>8.5</td>\n",
       "    </tr>\n",
       "    <tr>\n",
       "      <th>2018-06-30</th>\n",
       "      <td>8.0</td>\n",
       "      <td>6.6</td>\n",
       "      <td>6.000000</td>\n",
       "      <td>11.101210</td>\n",
       "      <td>53.2</td>\n",
       "      <td>12.1</td>\n",
       "      <td>9.0</td>\n",
       "    </tr>\n",
       "    <tr>\n",
       "      <th>2018-07-31</th>\n",
       "      <td>8.5</td>\n",
       "      <td>5.1</td>\n",
       "      <td>6.000000</td>\n",
       "      <td>10.840980</td>\n",
       "      <td>52.3</td>\n",
       "      <td>18.3</td>\n",
       "      <td>8.8</td>\n",
       "    </tr>\n",
       "    <tr>\n",
       "      <th>2018-08-31</th>\n",
       "      <td>8.2</td>\n",
       "      <td>3.9</td>\n",
       "      <td>6.100000</td>\n",
       "      <td>10.802550</td>\n",
       "      <td>52.2</td>\n",
       "      <td>14.5</td>\n",
       "      <td>9.0</td>\n",
       "    </tr>\n",
       "    <tr>\n",
       "      <th>2018-09-30</th>\n",
       "      <td>8.3</td>\n",
       "      <td>4.0</td>\n",
       "      <td>5.800000</td>\n",
       "      <td>10.575280</td>\n",
       "      <td>52.0</td>\n",
       "      <td>14.1</td>\n",
       "      <td>9.2</td>\n",
       "    </tr>\n",
       "    <tr>\n",
       "      <th>2018-10-31</th>\n",
       "      <td>8.0</td>\n",
       "      <td>2.7</td>\n",
       "      <td>5.900000</td>\n",
       "      <td>10.224710</td>\n",
       "      <td>50.8</td>\n",
       "      <td>17.0</td>\n",
       "      <td>8.6</td>\n",
       "    </tr>\n",
       "    <tr>\n",
       "      <th>2018-11-30</th>\n",
       "      <td>8.0</td>\n",
       "      <td>1.5</td>\n",
       "      <td>5.400000</td>\n",
       "      <td>9.873883</td>\n",
       "      <td>50.4</td>\n",
       "      <td>3.4</td>\n",
       "      <td>8.1</td>\n",
       "    </tr>\n",
       "    <tr>\n",
       "      <th>2018-12-31</th>\n",
       "      <td>8.1</td>\n",
       "      <td>1.5</td>\n",
       "      <td>5.700000</td>\n",
       "      <td>9.776316</td>\n",
       "      <td>49.7</td>\n",
       "      <td>-5.8</td>\n",
       "      <td>8.2</td>\n",
       "    </tr>\n",
       "    <tr>\n",
       "      <th>2019-01-31</th>\n",
       "      <td>NaN</td>\n",
       "      <td>NaN</td>\n",
       "      <td>NaN</td>\n",
       "      <td>NaN</td>\n",
       "      <td>49.6</td>\n",
       "      <td>NaN</td>\n",
       "      <td>NaN</td>\n",
       "    </tr>\n",
       "  </tbody>\n",
       "</table>\n",
       "</div>"
      ],
      "text/plain": [
       "            M2同比  M1同比   工业增加值同比       社融同比  PMI新订单  进出口同比  社消同比\n",
       "2018-02-28   8.8   8.5 -2.119883  12.653160    51.0   24.3   9.7\n",
       "2018-03-31   8.2   7.1  6.000000  11.917040    53.3    5.3  10.1\n",
       "2018-04-30   8.3   7.2  7.000000  11.886410    52.9   16.5   9.4\n",
       "2018-05-31   8.3   6.0  6.800000  11.591320    53.8   18.2   8.5\n",
       "2018-06-30   8.0   6.6  6.000000  11.101210    53.2   12.1   9.0\n",
       "2018-07-31   8.5   5.1  6.000000  10.840980    52.3   18.3   8.8\n",
       "2018-08-31   8.2   3.9  6.100000  10.802550    52.2   14.5   9.0\n",
       "2018-09-30   8.3   4.0  5.800000  10.575280    52.0   14.1   9.2\n",
       "2018-10-31   8.0   2.7  5.900000  10.224710    50.8   17.0   8.6\n",
       "2018-11-30   8.0   1.5  5.400000   9.873883    50.4    3.4   8.1\n",
       "2018-12-31   8.1   1.5  5.700000   9.776316    49.7   -5.8   8.2\n",
       "2019-01-31   NaN   NaN       NaN        NaN    49.6    NaN   NaN"
      ]
     },
     "execution_count": 55,
     "metadata": {},
     "output_type": "execute_result"
    }
   ],
   "source": [
    "macro_df"
   ]
  },
  {
   "cell_type": "code",
   "execution_count": 56,
   "metadata": {},
   "outputs": [],
   "source": [
    "macro_nav = (1+macro_df.pct_change()).cumprod()\n",
    "macro_nav.iloc[0] = 1"
   ]
  },
  {
   "cell_type": "code",
   "execution_count": 57,
   "metadata": {},
   "outputs": [
    {
     "data": {
      "text/plain": [
       "<matplotlib.axes._subplots.AxesSubplot at 0x1ed35c50>"
      ]
     },
     "execution_count": 57,
     "metadata": {},
     "output_type": "execute_result"
    },
    {
     "data": {
      "image/png": "[encoded data removed]",
      "text/plain": [
       "<Figure size 1152x648 with 1 Axes>"
      ]
     },
     "metadata": {},
     "output_type": "display_data"
    }
   ],
   "source": [
    "macro_nav.plot(figsize=(16, 9))"
   ]
  },
  {
   "cell_type": "code",
   "execution_count": 58,
   "metadata": {},
   "outputs": [],
   "source": [
    "macro_df.to_excel('../data/macro_nav.xlsx')"
   ]
  },
  {
   "cell_type": "code",
   "execution_count": 59,
   "metadata": {},
   "outputs": [],
   "source": [
    "ret_df = pd.DataFrame()"
   ]
  },
  {
   "cell_type": "code",
   "execution_count": 60,
   "metadata": {},
   "outputs": [],
   "source": [
    "ret_df[u'成长股'] = price['000905.SH'].pct_change()\n",
    "ret_df[u'价值股'] = price['000300.SH'].pct_change()\n",
    "ret_df[u'港股'] = price['HSI.HI'].pct_change()\n",
    "ret_df[u'黄金'] = price['AU9999.SGE'].pct_change()\n",
    "ret_df[u'国债'] = price['CBA00602.CS'].pct_change()\n",
    "ret_df[u'信用债'] = price['CBA02002.CS'].pct_change()"
   ]
  },
  {
   "cell_type": "markdown",
   "metadata": {},
   "source": [
    "## 生成EWMA相关性矩阵"
   ]
  },
  {
   "cell_type": "code",
   "execution_count": 61,
   "metadata": {},
   "outputs": [],
   "source": [
    "cor_df = pd.DataFrame(index= ret_df.columns, columns=macro_df.columns.tolist())"
   ]
  },
  {
   "cell_type": "code",
   "execution_count": 62,
   "metadata": {},
   "outputs": [],
   "source": [
    "for asset in cor_df.index:\n",
    "    for var in cor_df.columns:\n",
    "        if var in macro_df.columns:\n",
    "            s, t = (1+ret_df[asset]).cumprod().resample('M').last(), (1+macro_df[var].pct_change()).cumprod()\n",
    "            corr = s.ewm(alpha=0.02, ignore_na=True, adjust=True).corr(t)\n",
    "            cor_df.loc[asset, var] = corr[-1]"
   ]
  },
  {
   "cell_type": "code",
   "execution_count": 63,
   "metadata": {},
   "outputs": [
    {
     "data": {
      "text/html": [
       "<div>\n",
       "<style scoped>\n",
       "    .dataframe tbody tr th:only-of-type {\n",
       "        vertical-align: middle;\n",
       "    }\n",
       "\n",
       "    .dataframe tbody tr th {\n",
       "        vertical-align: top;\n",
       "    }\n",
       "\n",
       "    .dataframe thead th {\n",
       "        text-align: right;\n",
       "    }\n",
       "</style>\n",
       "<table border=\"1\" class=\"dataframe\">\n",
       "  <thead>\n",
       "    <tr style=\"text-align: right;\">\n",
       "      <th></th>\n",
       "      <th>M2同比</th>\n",
       "      <th>M1同比</th>\n",
       "      <th>工业增加值同比</th>\n",
       "      <th>社融同比</th>\n",
       "      <th>PMI新订单</th>\n",
       "      <th>进出口同比</th>\n",
       "      <th>社消同比</th>\n",
       "    </tr>\n",
       "  </thead>\n",
       "  <tbody>\n",
       "    <tr>\n",
       "      <th>成长股</th>\n",
       "      <td>0.509106</td>\n",
       "      <td>0.943094</td>\n",
       "      <td>-0.722839</td>\n",
       "      <td>0.978198</td>\n",
       "      <td>0.915516</td>\n",
       "      <td>0.395664</td>\n",
       "      <td>0.731401</td>\n",
       "    </tr>\n",
       "    <tr>\n",
       "      <th>价值股</th>\n",
       "      <td>0.532729</td>\n",
       "      <td>0.932165</td>\n",
       "      <td>-0.703596</td>\n",
       "      <td>0.967139</td>\n",
       "      <td>0.907044</td>\n",
       "      <td>0.471685</td>\n",
       "      <td>0.72874</td>\n",
       "    </tr>\n",
       "    <tr>\n",
       "      <th>港股</th>\n",
       "      <td>0.55646</td>\n",
       "      <td>0.914011</td>\n",
       "      <td>-0.724752</td>\n",
       "      <td>0.93275</td>\n",
       "      <td>0.808232</td>\n",
       "      <td>0.42459</td>\n",
       "      <td>0.626066</td>\n",
       "    </tr>\n",
       "    <tr>\n",
       "      <th>黄金</th>\n",
       "      <td>-0.421301</td>\n",
       "      <td>-0.58996</td>\n",
       "      <td>0.313137</td>\n",
       "      <td>-0.543051</td>\n",
       "      <td>-0.806339</td>\n",
       "      <td>-0.769673</td>\n",
       "      <td>-0.55205</td>\n",
       "    </tr>\n",
       "    <tr>\n",
       "      <th>国债</th>\n",
       "      <td>-0.360937</td>\n",
       "      <td>-0.754245</td>\n",
       "      <td>0.495521</td>\n",
       "      <td>-0.807671</td>\n",
       "      <td>-0.864246</td>\n",
       "      <td>-0.614282</td>\n",
       "      <td>-0.840442</td>\n",
       "    </tr>\n",
       "    <tr>\n",
       "      <th>信用债</th>\n",
       "      <td>-0.293456</td>\n",
       "      <td>-0.866943</td>\n",
       "      <td>0.496451</td>\n",
       "      <td>-0.795929</td>\n",
       "      <td>-0.943959</td>\n",
       "      <td>-0.57484</td>\n",
       "      <td>-0.643136</td>\n",
       "    </tr>\n",
       "  </tbody>\n",
       "</table>\n",
       "</div>"
      ],
      "text/plain": [
       "         M2同比      M1同比   工业增加值同比      社融同比    PMI新订单     进出口同比      社消同比\n",
       "成长股  0.509106  0.943094 -0.722839  0.978198  0.915516  0.395664  0.731401\n",
       "价值股  0.532729  0.932165 -0.703596  0.967139  0.907044  0.471685   0.72874\n",
       "港股    0.55646  0.914011 -0.724752   0.93275  0.808232   0.42459  0.626066\n",
       "黄金  -0.421301  -0.58996  0.313137 -0.543051 -0.806339 -0.769673  -0.55205\n",
       "国债  -0.360937 -0.754245  0.495521 -0.807671 -0.864246 -0.614282 -0.840442\n",
       "信用债 -0.293456 -0.866943  0.496451 -0.795929 -0.943959  -0.57484 -0.643136"
      ]
     },
     "execution_count": 63,
     "metadata": {},
     "output_type": "execute_result"
    }
   ],
   "source": [
    "cor_df"
   ]
  },
  {
   "cell_type": "code",
   "execution_count": 64,
   "metadata": {},
   "outputs": [],
   "source": [
    "cor_df.to_excel('../data/macro_ewma_cor.xlsx')"
   ]
  },
  {
   "cell_type": "code",
   "execution_count": 65,
   "metadata": {},
   "outputs": [],
   "source": [
    "trend = {}\n",
    "for var in cor_df.columns:\n",
    "    if var in macro_df.columns:\n",
    "        t = macro_df[var]\n",
    "    ret = t.pct_change()\n",
    "    up, down = ret[ret > 0].sum(), -ret[ret < 0].sum()\n",
    "    smooth = 1e-2\n",
    "    if up > down:\n",
    "        trend[var] = (up + smooth) / (down + smooth)\n",
    "    else:\n",
    "        trend[var] = -(down + smooth) / (up + smooth)"
   ]
  },
  {
   "cell_type": "code",
   "execution_count": 66,
   "metadata": {},
   "outputs": [
    {
     "name": "stdout",
     "output_type": "stream",
     "text": [
      "PMI新订单 -1.3613650311328187\n",
      "M2同比 -1.6981870213312589\n",
      "工业增加值同比 -15.482979399893297\n",
      "社融同比 -26.32233468171197\n",
      "进出口同比 -1.6534194693260293\n",
      "M1同比 -10.508453769953086\n",
      "社消同比 -1.915862657969127\n"
     ]
    }
   ],
   "source": [
    "for k, v in trend.iteritems():\n",
    "    print k, v"
   ]
  },
  {
   "cell_type": "code",
   "execution_count": 67,
   "metadata": {},
   "outputs": [],
   "source": [
    "def sigmoid(x):\n",
    "    return 1. / (1 + np.exp(-x))"
   ]
  },
  {
   "cell_type": "code",
   "execution_count": 68,
   "metadata": {},
   "outputs": [],
   "source": [
    "board = pd.DataFrame(index=cor_df.index, columns=cor_df.columns)\n",
    "for var in cor_df.columns:\n",
    "#     print var\n",
    "    x = cor_df[var] * trend[var]\n",
    "    board[var] = sigmoid(x.astype(np.float32))"
   ]
  },
  {
   "cell_type": "code",
   "execution_count": 69,
   "metadata": {},
   "outputs": [],
   "source": [
    "trend_df = pd.DataFrame(trend, index=[u'变量趋势'])"
   ]
  },
  {
   "cell_type": "code",
   "execution_count": 70,
   "metadata": {},
   "outputs": [],
   "source": [
    "board = trend_df.append(board)"
   ]
  },
  {
   "cell_type": "code",
   "execution_count": 71,
   "metadata": {},
   "outputs": [],
   "source": [
    "board = board[cor_df.columns]"
   ]
  },
  {
   "cell_type": "code",
   "execution_count": 72,
   "metadata": {},
   "outputs": [
    {
     "data": {
      "text/html": [
       "<div>\n",
       "<style scoped>\n",
       "    .dataframe tbody tr th:only-of-type {\n",
       "        vertical-align: middle;\n",
       "    }\n",
       "\n",
       "    .dataframe tbody tr th {\n",
       "        vertical-align: top;\n",
       "    }\n",
       "\n",
       "    .dataframe thead th {\n",
       "        text-align: right;\n",
       "    }\n",
       "</style>\n",
       "<table border=\"1\" class=\"dataframe\">\n",
       "  <thead>\n",
       "    <tr style=\"text-align: right;\">\n",
       "      <th></th>\n",
       "      <th>M2同比</th>\n",
       "      <th>M1同比</th>\n",
       "      <th>工业增加值同比</th>\n",
       "      <th>社融同比</th>\n",
       "      <th>PMI新订单</th>\n",
       "      <th>进出口同比</th>\n",
       "      <th>社消同比</th>\n",
       "    </tr>\n",
       "  </thead>\n",
       "  <tbody>\n",
       "    <tr>\n",
       "      <th>变量趋势</th>\n",
       "      <td>-1.698187</td>\n",
       "      <td>-10.508454</td>\n",
       "      <td>-15.482979</td>\n",
       "      <td>-2.632233e+01</td>\n",
       "      <td>-1.361365</td>\n",
       "      <td>-1.653419</td>\n",
       "      <td>-1.915863</td>\n",
       "    </tr>\n",
       "    <tr>\n",
       "      <th>成长股</th>\n",
       "      <td>0.296388</td>\n",
       "      <td>0.000050</td>\n",
       "      <td>0.999986</td>\n",
       "      <td>6.570343e-12</td>\n",
       "      <td>0.223332</td>\n",
       "      <td>0.342044</td>\n",
       "      <td>0.197615</td>\n",
       "    </tr>\n",
       "    <tr>\n",
       "      <th>价值股</th>\n",
       "      <td>0.288091</td>\n",
       "      <td>0.000056</td>\n",
       "      <td>0.999981</td>\n",
       "      <td>8.790464e-12</td>\n",
       "      <td>0.225339</td>\n",
       "      <td>0.314343</td>\n",
       "      <td>0.198425</td>\n",
       "    </tr>\n",
       "    <tr>\n",
       "      <th>港股</th>\n",
       "      <td>0.279897</td>\n",
       "      <td>0.000067</td>\n",
       "      <td>0.999987</td>\n",
       "      <td>2.173380e-11</td>\n",
       "      <td>0.249684</td>\n",
       "      <td>0.331363</td>\n",
       "      <td>0.231572</td>\n",
       "    </tr>\n",
       "    <tr>\n",
       "      <th>黄金</th>\n",
       "      <td>0.671604</td>\n",
       "      <td>0.997974</td>\n",
       "      <td>0.007781</td>\n",
       "      <td>9.999994e-01</td>\n",
       "      <td>0.749833</td>\n",
       "      <td>0.781186</td>\n",
       "      <td>0.742242</td>\n",
       "    </tr>\n",
       "    <tr>\n",
       "      <th>国债</th>\n",
       "      <td>0.648611</td>\n",
       "      <td>0.999639</td>\n",
       "      <td>0.000465</td>\n",
       "      <td>1.000000e+00</td>\n",
       "      <td>0.764328</td>\n",
       "      <td>0.734127</td>\n",
       "      <td>0.833435</td>\n",
       "    </tr>\n",
       "    <tr>\n",
       "      <th>信用债</th>\n",
       "      <td>0.622070</td>\n",
       "      <td>0.999889</td>\n",
       "      <td>0.000459</td>\n",
       "      <td>1.000000e+00</td>\n",
       "      <td>0.783312</td>\n",
       "      <td>0.721206</td>\n",
       "      <td>0.774196</td>\n",
       "    </tr>\n",
       "  </tbody>\n",
       "</table>\n",
       "</div>"
      ],
      "text/plain": [
       "          M2同比       M1同比    工业增加值同比          社融同比    PMI新订单     进出口同比  \\\n",
       "变量趋势 -1.698187 -10.508454 -15.482979 -2.632233e+01 -1.361365 -1.653419   \n",
       "成长股   0.296388   0.000050   0.999986  6.570343e-12  0.223332  0.342044   \n",
       "价值股   0.288091   0.000056   0.999981  8.790464e-12  0.225339  0.314343   \n",
       "港股    0.279897   0.000067   0.999987  2.173380e-11  0.249684  0.331363   \n",
       "黄金    0.671604   0.997974   0.007781  9.999994e-01  0.749833  0.781186   \n",
       "国债    0.648611   0.999639   0.000465  1.000000e+00  0.764328  0.734127   \n",
       "信用债   0.622070   0.999889   0.000459  1.000000e+00  0.783312  0.721206   \n",
       "\n",
       "          社消同比  \n",
       "变量趋势 -1.915863  \n",
       "成长股   0.197615  \n",
       "价值股   0.198425  \n",
       "港股    0.231572  \n",
       "黄金    0.742242  \n",
       "国债    0.833435  \n",
       "信用债   0.774196  "
      ]
     },
     "execution_count": 72,
     "metadata": {},
     "output_type": "execute_result"
    }
   ],
   "source": [
    "board"
   ]
  },
  {
   "cell_type": "code",
   "execution_count": 73,
   "metadata": {},
   "outputs": [],
   "source": [
    "board.to_excel('../data/macro_dashboard.xlsx')"
   ]
  },
  {
   "cell_type": "code",
   "execution_count": null,
   "metadata": {},
   "outputs": [],
   "source": []
  }
 ],
 "metadata": {
  "kernelspec": {
   "display_name": "Python 2",
   "language": "python",
   "name": "python2"
  },
  "language_info": {
   "codemirror_mode": {
    "name": "ipython",
    "version": 2
   },
   "file_extension": ".py",
   "mimetype": "text/x-python",
   "name": "python",
   "nbconvert_exporter": "python",
   "pygments_lexer": "ipython2",
   "version": "2.7.14"
  }
 },
 "nbformat": 4,
 "nbformat_minor": 2
}
