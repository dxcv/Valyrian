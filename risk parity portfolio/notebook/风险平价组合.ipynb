{
 "cells": [
  {
   "cell_type": "markdown",
   "metadata": {},
   "source": [
    "# 风险平价组合"
   ]
  },
  {
   "cell_type": "code",
   "execution_count": 64,
   "metadata": {},
   "outputs": [],
   "source": [
    "import pandas as pd\n",
    "import numpy as np\n",
    "import matplotlib.pyplot as plt\n",
    "import xlsxwriter\n",
    "from scipy.optimize import minimize, basinhopping\n",
    "import empyrical\n",
    "%matplotlib inline"
   ]
  },
  {
   "cell_type": "code",
   "execution_count": 65,
   "metadata": {},
   "outputs": [],
   "source": [
    "DATA_DIR = '../data/'\n",
    "TOLERANCE = 1e-10"
   ]
  },
  {
   "cell_type": "code",
   "execution_count": 66,
   "metadata": {},
   "outputs": [],
   "source": [
    "def metric(daily_ret):\n",
    "    an_ret = empyrical.annual_return(daily_ret)\n",
    "    sharpe = empyrical.sharpe_ratio(daily_ret)\n",
    "    vol = empyrical.annual_volatility(daily_ret)\n",
    "    maxdraw = empyrical.max_drawdown(daily_ret)\n",
    "    print('Annual return: %.2f%%'%(an_ret*100))\n",
    "    print('Sharpe ratio: %.2f'%(sharpe))\n",
    "    print('Annual volatility: %.2f%%'%(vol*100))\n",
    "    print('Max drawdown: %.2f%%'%(maxdraw*100))"
   ]
  },
  {
   "cell_type": "markdown",
   "metadata": {},
   "source": [
    "# 读取数据"
   ]
  },
  {
   "cell_type": "code",
   "execution_count": 67,
   "metadata": {},
   "outputs": [],
   "source": [
    "fname = '%s/assets.xlsx'%(DATA_DIR)\n",
    "odf = pd.read_excel(fname, index_col=0)"
   ]
  },
  {
   "cell_type": "code",
   "execution_count": 68,
   "metadata": {},
   "outputs": [
    {
     "data": {
      "text/html": [
       "<div>\n",
       "<style scoped>\n",
       "    .dataframe tbody tr th:only-of-type {\n",
       "        vertical-align: middle;\n",
       "    }\n",
       "\n",
       "    .dataframe tbody tr th {\n",
       "        vertical-align: top;\n",
       "    }\n",
       "\n",
       "    .dataframe thead th {\n",
       "        text-align: right;\n",
       "    }\n",
       "</style>\n",
       "<table border=\"1\" class=\"dataframe\">\n",
       "  <thead>\n",
       "    <tr style=\"text-align: right;\">\n",
       "      <th></th>\n",
       "      <th>881001.WI</th>\n",
       "      <th>HSI.HI</th>\n",
       "      <th>SPX.GI</th>\n",
       "      <th>CBA00101.CS</th>\n",
       "      <th>AU9999.SGE</th>\n",
       "      <th>B.IPE</th>\n",
       "      <th>H11025.CSI</th>\n",
       "      <th>CCFI.WI</th>\n",
       "      <th>CBA00401.CS</th>\n",
       "      <th>CBA02701.CS</th>\n",
       "      <th>000300.SH</th>\n",
       "      <th>000906.SH</th>\n",
       "    </tr>\n",
       "  </thead>\n",
       "  <tbody>\n",
       "    <tr>\n",
       "      <th>2018-11-01</th>\n",
       "      <td>3359.2869</td>\n",
       "      <td>25416.00</td>\n",
       "      <td>2740.37</td>\n",
       "      <td>184.5338</td>\n",
       "      <td>274.85</td>\n",
       "      <td>72.75</td>\n",
       "      <td>1502.9764</td>\n",
       "      <td>1139.2211</td>\n",
       "      <td>181.7677</td>\n",
       "      <td>172.1626</td>\n",
       "      <td>3177.0338</td>\n",
       "      <td>3358.4891</td>\n",
       "    </tr>\n",
       "    <tr>\n",
       "      <th>2018-11-02</th>\n",
       "      <td>3468.1867</td>\n",
       "      <td>26486.35</td>\n",
       "      <td>2723.06</td>\n",
       "      <td>184.4406</td>\n",
       "      <td>274.34</td>\n",
       "      <td>72.62</td>\n",
       "      <td>1503.0974</td>\n",
       "      <td>1140.1038</td>\n",
       "      <td>181.5316</td>\n",
       "      <td>172.1548</td>\n",
       "      <td>3290.2455</td>\n",
       "      <td>3475.5765</td>\n",
       "    </tr>\n",
       "    <tr>\n",
       "      <th>2018-11-05</th>\n",
       "      <td>3462.2941</td>\n",
       "      <td>25934.39</td>\n",
       "      <td>2738.31</td>\n",
       "      <td>184.5189</td>\n",
       "      <td>275.52</td>\n",
       "      <td>72.71</td>\n",
       "      <td>1503.4507</td>\n",
       "      <td>1148.2160</td>\n",
       "      <td>181.6435</td>\n",
       "      <td>172.2024</td>\n",
       "      <td>3262.8351</td>\n",
       "      <td>3453.8770</td>\n",
       "    </tr>\n",
       "    <tr>\n",
       "      <th>2018-11-06</th>\n",
       "      <td>3450.4874</td>\n",
       "      <td>26120.96</td>\n",
       "      <td>2755.45</td>\n",
       "      <td>184.6294</td>\n",
       "      <td>274.86</td>\n",
       "      <td>71.65</td>\n",
       "      <td>1503.5717</td>\n",
       "      <td>1149.1610</td>\n",
       "      <td>181.8166</td>\n",
       "      <td>172.2458</td>\n",
       "      <td>3243.1504</td>\n",
       "      <td>3437.4196</td>\n",
       "    </tr>\n",
       "    <tr>\n",
       "      <th>2018-11-07</th>\n",
       "      <td>3433.2097</td>\n",
       "      <td>26147.69</td>\n",
       "      <td>2755.45</td>\n",
       "      <td>184.7824</td>\n",
       "      <td>275.22</td>\n",
       "      <td>72.00</td>\n",
       "      <td>1503.5717</td>\n",
       "      <td>1140.9266</td>\n",
       "      <td>182.0688</td>\n",
       "      <td>172.3143</td>\n",
       "      <td>3221.9101</td>\n",
       "      <td>3416.0185</td>\n",
       "    </tr>\n",
       "  </tbody>\n",
       "</table>\n",
       "</div>"
      ],
      "text/plain": [
       "            881001.WI    HSI.HI   SPX.GI  CBA00101.CS  AU9999.SGE  B.IPE  \\\n",
       "2018-11-01  3359.2869  25416.00  2740.37     184.5338      274.85  72.75   \n",
       "2018-11-02  3468.1867  26486.35  2723.06     184.4406      274.34  72.62   \n",
       "2018-11-05  3462.2941  25934.39  2738.31     184.5189      275.52  72.71   \n",
       "2018-11-06  3450.4874  26120.96  2755.45     184.6294      274.86  71.65   \n",
       "2018-11-07  3433.2097  26147.69  2755.45     184.7824      275.22  72.00   \n",
       "\n",
       "            H11025.CSI    CCFI.WI  CBA00401.CS  CBA02701.CS  000300.SH  \\\n",
       "2018-11-01   1502.9764  1139.2211     181.7677     172.1626  3177.0338   \n",
       "2018-11-02   1503.0974  1140.1038     181.5316     172.1548  3290.2455   \n",
       "2018-11-05   1503.4507  1148.2160     181.6435     172.2024  3262.8351   \n",
       "2018-11-06   1503.5717  1149.1610     181.8166     172.2458  3243.1504   \n",
       "2018-11-07   1503.5717  1140.9266     182.0688     172.3143  3221.9101   \n",
       "\n",
       "            000906.SH  \n",
       "2018-11-01  3358.4891  \n",
       "2018-11-02  3475.5765  \n",
       "2018-11-05  3453.8770  \n",
       "2018-11-06  3437.4196  \n",
       "2018-11-07  3416.0185  "
      ]
     },
     "execution_count": 68,
     "metadata": {},
     "output_type": "execute_result"
    }
   ],
   "source": [
    "odf.tail()"
   ]
  },
  {
   "cell_type": "markdown",
   "metadata": {},
   "source": [
    "# 标准风险平价"
   ]
  },
  {
   "cell_type": "code",
   "execution_count": 69,
   "metadata": {},
   "outputs": [],
   "source": [
    "def _allocation_risk(weights, covariances):\n",
    "    \n",
    "    # calculate the risk of the weights distribution\n",
    "    portfolio_risk = np.sqrt((weights * covariances * weights.T))[0, 0]\n",
    "    \n",
    "    # It returns the risk of the weights distribution\n",
    "    return portfolio_risk"
   ]
  },
  {
   "cell_type": "code",
   "execution_count": 70,
   "metadata": {},
   "outputs": [],
   "source": [
    "def _assets_risk_contribution_to_allocation_risk(weights, covariances):\n",
    "    \n",
    "    # calculate the risk of the weights distribution\n",
    "    portfolio_risk = _allocation_risk(weights, covariances)\n",
    "    \n",
    "    # calculate the contribution of each asset to the risk of the weights distribution\n",
    "    assets_risk_contribution = np.multiply(weights.T, covariances * weights.T) / portfolio_risk\n",
    "    \n",
    "    # It returns the contribution of each asset to the risk of the weights distribution\n",
    "    return assets_risk_contribution"
   ]
  },
  {
   "cell_type": "code",
   "execution_count": 71,
   "metadata": {},
   "outputs": [],
   "source": [
    "def _risk_budget_objective_error(weights, args):\n",
    "\n",
    "    # The covariance matrix occupies the first position in the variable\n",
    "    covariances = args[0]\n",
    "\n",
    "    # The desired contribution of each asset to the portfolio risk occupies the second position\n",
    "    assets_risk_budget = args[1]\n",
    "\n",
    "    # We convert the weights to a matrix\n",
    "    weights = np.matrix(weights)\n",
    "\n",
    "    # We calculate the risk of the weights distribution\n",
    "    portfolio_risk = _allocation_risk(weights, covariances)\n",
    "\n",
    "    # We calculate the contribution of each asset to the risk of the weights distribution\n",
    "    assets_risk_contribution = _assets_risk_contribution_to_allocation_risk(weights, covariances)\n",
    "\n",
    "    # We calculate the desired contribution of each asset to the risk of the weights distribution\n",
    "    assets_risk_target = np.asmatrix(np.multiply(portfolio_risk, assets_risk_budget))\n",
    "\n",
    "    # Error between the desired contribution and the calculated contribution of each asset\n",
    "    error = sum(np.square(assets_risk_contribution - assets_risk_target.T))[0, 0]\n",
    "\n",
    "    # It returns the calculated error\n",
    "    return error"
   ]
  },
  {
   "cell_type": "code",
   "execution_count": 72,
   "metadata": {},
   "outputs": [],
   "source": [
    "def _get_risk_parity_weights(covariances, assets_risk_budget, initial_weights):\n",
    "    # Restrictions to consider in the optimisation: only long positions whose\n",
    "    # sum equals 100%\n",
    "    constraints = ({'type': 'eq', 'fun': lambda x: np.sum(x) - 1.0},\n",
    "                   {'type': 'ineq', 'fun': lambda x: x})\n",
    "    # Optimisation process in scipy\n",
    "    optimize_result = minimize(fun=_risk_budget_objective_error,\n",
    "                               x0=initial_weights,\n",
    "                               args=[covariances, assets_risk_budget],\n",
    "                               method='SLSQP',\n",
    "                               constraints=constraints,\n",
    "                               tol=TOLERANCE,\n",
    "                               options={'disp': False})\n",
    "    # Recover the weights from the optimised object\n",
    "    weights = optimize_result.x\n",
    "\n",
    "    # It returns the optimised weights\n",
    "    return weights"
   ]
  },
  {
   "cell_type": "markdown",
   "metadata": {},
   "source": [
    "# 用样本协方差计算风险平价组合权重"
   ]
  },
  {
   "cell_type": "code",
   "execution_count": 73,
   "metadata": {},
   "outputs": [],
   "source": [
    "df = odf[['000300.SH', '000906.SH', 'HSI.HI', 'SPX.GI', 'CBA00101.CS', 'AU9999.SGE']]"
   ]
  },
  {
   "cell_type": "code",
   "execution_count": 74,
   "metadata": {},
   "outputs": [],
   "source": [
    "df = df.replace([0], np.NAN)"
   ]
  },
  {
   "cell_type": "code",
   "execution_count": 75,
   "metadata": {},
   "outputs": [],
   "source": [
    "ret_df = df.pct_change().dropna()"
   ]
  },
  {
   "cell_type": "markdown",
   "metadata": {},
   "source": [
    "### 过去一年协方差"
   ]
  },
  {
   "cell_type": "code",
   "execution_count": 76,
   "metadata": {},
   "outputs": [],
   "source": [
    "covariances = ret_df.iloc[-242:].cov()"
   ]
  },
  {
   "cell_type": "code",
   "execution_count": 77,
   "metadata": {},
   "outputs": [
    {
     "data": {
      "text/plain": [
       "0.18942387921686987"
      ]
     },
     "execution_count": 77,
     "metadata": {},
     "output_type": "execute_result"
    }
   ],
   "source": [
    "empyrical.annual_volatility(ret_df['SPX.GI'])"
   ]
  },
  {
   "cell_type": "markdown",
   "metadata": {},
   "source": [
    "### 计算权重"
   ]
  },
  {
   "cell_type": "code",
   "execution_count": 78,
   "metadata": {},
   "outputs": [],
   "source": [
    "n = df.shape[1]\n",
    "init_weights = np.array([1. / n] * n)\n",
    "assets_risk_budget = np.array([1./12, 1./12, 1./12, 1./12, 1./3, 1./3])\n",
    "# assets_risk_budget = np.array([1. / n] * n)"
   ]
  },
  {
   "cell_type": "code",
   "execution_count": 79,
   "metadata": {},
   "outputs": [
    {
     "data": {
      "text/plain": [
       "array([0.08333333, 0.08333333, 0.08333333, 0.08333333, 0.33333333,\n",
       "       0.33333333])"
      ]
     },
     "execution_count": 79,
     "metadata": {},
     "output_type": "execute_result"
    }
   ],
   "source": [
    "assets_risk_budget"
   ]
  },
  {
   "cell_type": "markdown",
   "metadata": {},
   "source": [
    "### 等权下的风险贡献"
   ]
  },
  {
   "cell_type": "code",
   "execution_count": 80,
   "metadata": {},
   "outputs": [],
   "source": [
    "rc = _assets_risk_contribution_to_allocation_risk(np.matrix(init_weights), covariances.values)"
   ]
  },
  {
   "cell_type": "code",
   "execution_count": 81,
   "metadata": {},
   "outputs": [
    {
     "data": {
      "text/plain": [
       "matrix([[ 2.09056847e-03],\n",
       "        [ 2.05719416e-03],\n",
       "        [ 1.75472128e-03],\n",
       "        [ 5.76402548e-04],\n",
       "        [-1.82105501e-05],\n",
       "        [ 4.55059264e-05]])"
      ]
     },
     "execution_count": 81,
     "metadata": {},
     "output_type": "execute_result"
    }
   ],
   "source": [
    "rc"
   ]
  },
  {
   "cell_type": "markdown",
   "metadata": {},
   "source": [
    "### 风险权重相等"
   ]
  },
  {
   "cell_type": "code",
   "execution_count": 82,
   "metadata": {},
   "outputs": [],
   "source": [
    "weights = _get_risk_parity_weights(covariances.values*1e6, assets_risk_budget, init_weights)"
   ]
  },
  {
   "cell_type": "code",
   "execution_count": 83,
   "metadata": {},
   "outputs": [
    {
     "data": {
      "text/plain": [
       "array([0.01297622, 0.01358547, 0.01529618, 0.02679051, 0.8024282 ,\n",
       "       0.12892341])"
      ]
     },
     "execution_count": 83,
     "metadata": {},
     "output_type": "execute_result"
    }
   ],
   "source": [
    "weights"
   ]
  },
  {
   "cell_type": "code",
   "execution_count": 84,
   "metadata": {},
   "outputs": [],
   "source": [
    "rc = _assets_risk_contribution_to_allocation_risk(np.matrix(weights), covariances.values)"
   ]
  },
  {
   "cell_type": "code",
   "execution_count": 85,
   "metadata": {},
   "outputs": [
    {
     "data": {
      "text/plain": [
       "matrix([[7.73102078e-05],\n",
       "        [7.73086050e-05],\n",
       "        [7.73105302e-05],\n",
       "        [7.73061300e-05],\n",
       "        [3.09240780e-04],\n",
       "        [3.09238816e-04]])"
      ]
     },
     "execution_count": 85,
     "metadata": {},
     "output_type": "execute_result"
    }
   ],
   "source": [
    "rc"
   ]
  },
  {
   "cell_type": "code",
   "execution_count": 86,
   "metadata": {},
   "outputs": [
    {
     "data": {
      "text/plain": [
       "True"
      ]
     },
     "execution_count": 86,
     "metadata": {},
     "output_type": "execute_result"
    }
   ],
   "source": [
    "abs((rc / rc.sum() - assets_risk_budget).sum()) < TOLERANCE"
   ]
  },
  {
   "cell_type": "markdown",
   "metadata": {},
   "source": [
    "# 回测"
   ]
  },
  {
   "cell_type": "code",
   "execution_count": 87,
   "metadata": {},
   "outputs": [],
   "source": [
    "new_df = df[(df.index >= ret_df.index[0]) & (df.index <= ret_df.index[-1])]"
   ]
  },
  {
   "cell_type": "code",
   "execution_count": 88,
   "metadata": {},
   "outputs": [
    {
     "data": {
      "text/html": [
       "<div>\n",
       "<style scoped>\n",
       "    .dataframe tbody tr th:only-of-type {\n",
       "        vertical-align: middle;\n",
       "    }\n",
       "\n",
       "    .dataframe tbody tr th {\n",
       "        vertical-align: top;\n",
       "    }\n",
       "\n",
       "    .dataframe thead th {\n",
       "        text-align: right;\n",
       "    }\n",
       "</style>\n",
       "<table border=\"1\" class=\"dataframe\">\n",
       "  <thead>\n",
       "    <tr style=\"text-align: right;\">\n",
       "      <th></th>\n",
       "      <th>000300.SH</th>\n",
       "      <th>000906.SH</th>\n",
       "      <th>HSI.HI</th>\n",
       "      <th>SPX.GI</th>\n",
       "      <th>CBA00101.CS</th>\n",
       "      <th>AU9999.SGE</th>\n",
       "    </tr>\n",
       "  </thead>\n",
       "  <tbody>\n",
       "    <tr>\n",
       "      <th>2005-01-05</th>\n",
       "      <td>992.564</td>\n",
       "      <td>995.576</td>\n",
       "      <td>13764.36</td>\n",
       "      <td>1183.74</td>\n",
       "      <td>105.9273</td>\n",
       "      <td>114.64</td>\n",
       "    </tr>\n",
       "    <tr>\n",
       "      <th>2005-01-06</th>\n",
       "      <td>983.174</td>\n",
       "      <td>986.216</td>\n",
       "      <td>13712.04</td>\n",
       "      <td>1187.89</td>\n",
       "      <td>105.5623</td>\n",
       "      <td>114.39</td>\n",
       "    </tr>\n",
       "    <tr>\n",
       "      <th>2005-01-07</th>\n",
       "      <td>983.958</td>\n",
       "      <td>987.693</td>\n",
       "      <td>13574.86</td>\n",
       "      <td>1186.19</td>\n",
       "      <td>105.7206</td>\n",
       "      <td>113.19</td>\n",
       "    </tr>\n",
       "    <tr>\n",
       "      <th>2005-01-10</th>\n",
       "      <td>993.879</td>\n",
       "      <td>997.186</td>\n",
       "      <td>13531.39</td>\n",
       "      <td>1190.25</td>\n",
       "      <td>105.6599</td>\n",
       "      <td>112.70</td>\n",
       "    </tr>\n",
       "    <tr>\n",
       "      <th>2005-01-11</th>\n",
       "      <td>997.135</td>\n",
       "      <td>1000.098</td>\n",
       "      <td>13509.25</td>\n",
       "      <td>1182.99</td>\n",
       "      <td>105.7978</td>\n",
       "      <td>113.00</td>\n",
       "    </tr>\n",
       "  </tbody>\n",
       "</table>\n",
       "</div>"
      ],
      "text/plain": [
       "            000300.SH  000906.SH    HSI.HI   SPX.GI  CBA00101.CS  AU9999.SGE\n",
       "2005-01-05    992.564    995.576  13764.36  1183.74     105.9273      114.64\n",
       "2005-01-06    983.174    986.216  13712.04  1187.89     105.5623      114.39\n",
       "2005-01-07    983.958    987.693  13574.86  1186.19     105.7206      113.19\n",
       "2005-01-10    993.879    997.186  13531.39  1190.25     105.6599      112.70\n",
       "2005-01-11    997.135   1000.098  13509.25  1182.99     105.7978      113.00"
      ]
     },
     "execution_count": 88,
     "metadata": {},
     "output_type": "execute_result"
    }
   ],
   "source": [
    "new_df.head()"
   ]
  },
  {
   "cell_type": "code",
   "execution_count": 89,
   "metadata": {},
   "outputs": [],
   "source": [
    "weight = pd.DataFrame(columns=new_df.columns, index=new_df.index)\n",
    "n, k = new_df.shape[1], 242\n",
    "wb = np.zeros(n)\n",
    "assets_risk_budget = np.array([1./12, 1./12, 1./12, 1./12, 1./3, 1./3])\n",
    "init_weights = np.array([1. / n] * n)\n",
    "for date in new_df.index:\n",
    "    weight.loc[date] = wb\n",
    "    if date.dayofweek == 4:\n",
    "        past_return = ret_df[ret_df.index <= date][-k:]\n",
    "        if past_return.shape[0] == k:\n",
    "            covariances = past_return.cov()\n",
    "            temp = wb.copy()\n",
    "            wb = _get_risk_parity_weights(covariances.values*1e7, assets_risk_budget, init_weights)\n",
    "            # check risk contribution\n",
    "            rc = _assets_risk_contribution_to_allocation_risk(np.matrix(weights), covariances.values)\n",
    "            if abs((rc / rc.sum() - assets_risk_budget).sum()) > TOLERANCE:\n",
    "                print(date)\n",
    "                wb = temp.copy()"
   ]
  },
  {
   "cell_type": "code",
   "execution_count": 90,
   "metadata": {},
   "outputs": [
    {
     "data": {
      "text/html": [
       "<div>\n",
       "<style scoped>\n",
       "    .dataframe tbody tr th:only-of-type {\n",
       "        vertical-align: middle;\n",
       "    }\n",
       "\n",
       "    .dataframe tbody tr th {\n",
       "        vertical-align: top;\n",
       "    }\n",
       "\n",
       "    .dataframe thead th {\n",
       "        text-align: right;\n",
       "    }\n",
       "</style>\n",
       "<table border=\"1\" class=\"dataframe\">\n",
       "  <thead>\n",
       "    <tr style=\"text-align: right;\">\n",
       "      <th></th>\n",
       "      <th>000300.SH</th>\n",
       "      <th>000906.SH</th>\n",
       "      <th>HSI.HI</th>\n",
       "      <th>SPX.GI</th>\n",
       "      <th>CBA00101.CS</th>\n",
       "      <th>AU9999.SGE</th>\n",
       "    </tr>\n",
       "  </thead>\n",
       "  <tbody>\n",
       "    <tr>\n",
       "      <th>2018-11-01</th>\n",
       "      <td>0.0130662</td>\n",
       "      <td>0.0136635</td>\n",
       "      <td>0.0154257</td>\n",
       "      <td>0.0270748</td>\n",
       "      <td>0.80181</td>\n",
       "      <td>0.128959</td>\n",
       "    </tr>\n",
       "    <tr>\n",
       "      <th>2018-11-02</th>\n",
       "      <td>0.0130662</td>\n",
       "      <td>0.0136635</td>\n",
       "      <td>0.0154257</td>\n",
       "      <td>0.0270748</td>\n",
       "      <td>0.80181</td>\n",
       "      <td>0.128959</td>\n",
       "    </tr>\n",
       "    <tr>\n",
       "      <th>2018-11-05</th>\n",
       "      <td>0.012884</td>\n",
       "      <td>0.013499</td>\n",
       "      <td>0.0151312</td>\n",
       "      <td>0.0268359</td>\n",
       "      <td>0.803387</td>\n",
       "      <td>0.128263</td>\n",
       "    </tr>\n",
       "    <tr>\n",
       "      <th>2018-11-06</th>\n",
       "      <td>0.012884</td>\n",
       "      <td>0.013499</td>\n",
       "      <td>0.0151312</td>\n",
       "      <td>0.0268359</td>\n",
       "      <td>0.803387</td>\n",
       "      <td>0.128263</td>\n",
       "    </tr>\n",
       "    <tr>\n",
       "      <th>2018-11-07</th>\n",
       "      <td>0.012884</td>\n",
       "      <td>0.013499</td>\n",
       "      <td>0.0151312</td>\n",
       "      <td>0.0268359</td>\n",
       "      <td>0.803387</td>\n",
       "      <td>0.128263</td>\n",
       "    </tr>\n",
       "  </tbody>\n",
       "</table>\n",
       "</div>"
      ],
      "text/plain": [
       "            000300.SH  000906.SH     HSI.HI     SPX.GI CBA00101.CS AU9999.SGE\n",
       "2018-11-01  0.0130662  0.0136635  0.0154257  0.0270748     0.80181   0.128959\n",
       "2018-11-02  0.0130662  0.0136635  0.0154257  0.0270748     0.80181   0.128959\n",
       "2018-11-05   0.012884   0.013499  0.0151312  0.0268359    0.803387   0.128263\n",
       "2018-11-06   0.012884   0.013499  0.0151312  0.0268359    0.803387   0.128263\n",
       "2018-11-07   0.012884   0.013499  0.0151312  0.0268359    0.803387   0.128263"
      ]
     },
     "execution_count": 90,
     "metadata": {},
     "output_type": "execute_result"
    }
   ],
   "source": [
    "weight.tail()"
   ]
  },
  {
   "cell_type": "code",
   "execution_count": 91,
   "metadata": {},
   "outputs": [],
   "source": [
    "portfolio_ret = (weight * ret_df).sum(axis=1)\n",
    "portfolio_ret = portfolio_ret[portfolio_ret != 0]"
   ]
  },
  {
   "cell_type": "code",
   "execution_count": 92,
   "metadata": {},
   "outputs": [],
   "source": [
    "weight_plot = weight.drop_duplicates().iloc[1:].astype(np.float32)"
   ]
  },
  {
   "cell_type": "code",
   "execution_count": 93,
   "metadata": {},
   "outputs": [
    {
     "data": {
      "image/png": "[encoded data removed]",
      "text/plain": [
       "<Figure size 1800x720 with 1 Axes>"
      ]
     },
     "metadata": {},
     "output_type": "display_data"
    }
   ],
   "source": [
    "fig, ax = plt.subplots(figsize=(25, 10))\n",
    "_ = ax.stackplot(weight_plot.index, \n",
    "                 weight_plot['000300.SH'],\n",
    "                 weight_plot['000906.SH'],\n",
    "                 weight_plot['HSI.HI'],\n",
    "                 weight_plot['SPX.GI'],\n",
    "                 weight_plot['CBA00101.CS'],\n",
    "                 weight_plot['AU9999.SGE'], \n",
    "                 labels=[u'沪深300', u'中证800', u'恒生指数', u'标普500', u'中债新综合', u'黄金'])\n",
    "ax.legend(loc='upper left', fontsize=15)\n",
    "ax.set_title(u'风险平价组合历史权重', fontsize=25)\n",
    "ax.set_ylabel(u'权重', fontsize=15)\n",
    "ax.set_xlabel(u'日期', fontsize=15)\n",
    "fig.savefig('../pic/portfolio_weight.jpg', dpi=200, bbox_inches='tight')"
   ]
  },
  {
   "cell_type": "code",
   "execution_count": 94,
   "metadata": {},
   "outputs": [
    {
     "name": "stdout",
     "output_type": "stream",
     "text": [
      "Annual return: 4.87%\n",
      "Sharpe ratio: 2.58\n",
      "Annual volatility: 1.85%\n",
      "Max drawdown: -3.53%\n"
     ]
    }
   ],
   "source": [
    "metric(portfolio_ret)"
   ]
  },
  {
   "cell_type": "code",
   "execution_count": 95,
   "metadata": {},
   "outputs": [
    {
     "data": {
      "image/png": "[encoded data removed]",
      "text/plain": [
       "<Figure size 1800x720 with 1 Axes>"
      ]
     },
     "metadata": {},
     "output_type": "display_data"
    }
   ],
   "source": [
    "fig, ax = plt.subplots(figsize=(25, 10))\n",
    "ax.plot((1 + portfolio_ret).cumprod(), color='blue',\n",
    "       label=u'年化收益率：4.87%\\n夏普率：2.58\\n年化波动率：1.85%\\n最大回撤：-3.53%')\n",
    "ax.set_title(u'风险平价组合历史净值', fontsize=25)\n",
    "ax.set_ylabel(u'净值', fontsize=15)\n",
    "ax.set_xlabel(u'日期', fontsize=15)\n",
    "ax.legend(loc='upper left', fontsize=15)\n",
    "fig.savefig('../pic/portfolio_return.jpg', dpi=200, bbox_inches='tight')"
   ]
  },
  {
   "cell_type": "markdown",
   "metadata": {},
   "source": [
    "# 今年以来风险平价组合与各类资产情况"
   ]
  },
  {
   "cell_type": "code",
   "execution_count": 96,
   "metadata": {},
   "outputs": [],
   "source": [
    "fname = u'../data/stats.xlsx'"
   ]
  },
  {
   "cell_type": "code",
   "execution_count": 97,
   "metadata": {},
   "outputs": [],
   "source": [
    "workbook = xlsxwriter.Workbook(fname)\n",
    "worksheet = workbook.add_worksheet()"
   ]
  },
  {
   "cell_type": "code",
   "execution_count": 98,
   "metadata": {},
   "outputs": [],
   "source": [
    "col_format = workbook.add_format({'bold': True, 'align': 'center', 'font_name': u'楷体', 'font_color': '#FFFFFF', 'bg_color': '#993333'})\n",
    "cell_format = workbook.add_format({'font_name': u'楷体'})\n",
    "percent_format = workbook.add_format({'font_name': u'楷体', 'num_format': '0.00%'})\n",
    "number_format = workbook.add_format({'font_name': u'楷体', 'num_format': '0.00'})"
   ]
  },
  {
   "cell_type": "code",
   "execution_count": 99,
   "metadata": {},
   "outputs": [
    {
     "data": {
      "text/plain": [
       "0"
      ]
     },
     "execution_count": 99,
     "metadata": {},
     "output_type": "execute_result"
    }
   ],
   "source": [
    "worksheet.write('A1', '', col_format)\n",
    "worksheet.write('B1', u'收益率(周)', col_format)\n",
    "worksheet.write('C1', u'收益率(月)', col_format)\n",
    "worksheet.write('D1', u'收益率(年)', col_format)\n",
    "worksheet.write('E1', u'波动率(年)', col_format)\n",
    "worksheet.write('F1', u'夏普率(年)', col_format)\n",
    "worksheet.write('G1', u'当前权重', col_format)\n",
    "worksheet.write('H1', u'风险贡献', col_format)"
   ]
  },
  {
   "cell_type": "code",
   "execution_count": 100,
   "metadata": {},
   "outputs": [],
   "source": [
    "weights = weight.iloc[-1]"
   ]
  },
  {
   "cell_type": "code",
   "execution_count": 101,
   "metadata": {},
   "outputs": [
    {
     "data": {
      "text/plain": [
       "0"
      ]
     },
     "execution_count": 101,
     "metadata": {},
     "output_type": "execute_result"
    }
   ],
   "source": [
    "worksheet.write('A2', u'沪深300', cell_format)\n",
    "s = ret_df[ret_df.index >= '2018-01-01']['000300.SH']\n",
    "retw = empyrical.cum_returns_final(s[-5:])\n",
    "retm = empyrical.cum_returns_final(s[-20:])\n",
    "ret = empyrical.cum_returns_final(s)\n",
    "vol = empyrical.annual_volatility(s)\n",
    "sh = empyrical.sharpe_ratio(s)\n",
    "w = weights['000300.SH']\n",
    "rc = assets_risk_budget[0]\n",
    "worksheet.write('B2', retw, percent_format)\n",
    "worksheet.write('C2', retm, percent_format)\n",
    "worksheet.write('D2', ret, percent_format)\n",
    "worksheet.write('E2', vol, percent_format)\n",
    "worksheet.write('F2', sh, number_format)\n",
    "worksheet.write('G2', w, percent_format)\n",
    "worksheet.write('H2', rc, percent_format)"
   ]
  },
  {
   "cell_type": "code",
   "execution_count": 102,
   "metadata": {},
   "outputs": [
    {
     "data": {
      "text/plain": [
       "0"
      ]
     },
     "execution_count": 102,
     "metadata": {},
     "output_type": "execute_result"
    }
   ],
   "source": [
    "worksheet.write('A3', u'中证800', cell_format)\n",
    "s = ret_df[ret_df.index >= '2018-01-01']['000906.SH']\n",
    "retw = empyrical.cum_returns_final(s[-5:])\n",
    "retm = empyrical.cum_returns_final(s[-20:])\n",
    "ret = empyrical.cum_returns_final(s)\n",
    "vol = empyrical.annual_volatility(s)\n",
    "sh = empyrical.sharpe_ratio(s)\n",
    "w = weights['000906.SH']\n",
    "rc = assets_risk_budget[1]\n",
    "worksheet.write('B3', retw, percent_format)\n",
    "worksheet.write('C3', retm, percent_format)\n",
    "worksheet.write('D3', ret, percent_format)\n",
    "worksheet.write('E3', vol, percent_format)\n",
    "worksheet.write('F3', sh, number_format)\n",
    "worksheet.write('G3', w, percent_format)\n",
    "worksheet.write('H3', rc, percent_format)"
   ]
  },
  {
   "cell_type": "code",
   "execution_count": 103,
   "metadata": {},
   "outputs": [
    {
     "data": {
      "text/plain": [
       "0"
      ]
     },
     "execution_count": 103,
     "metadata": {},
     "output_type": "execute_result"
    }
   ],
   "source": [
    "worksheet.write('A4', u'恒生指数', cell_format)\n",
    "s = ret_df[ret_df.index >= '2018-01-01']['HSI.HI']\n",
    "retw = empyrical.cum_returns_final(s[-5:])\n",
    "retm = empyrical.cum_returns_final(s[-20:])\n",
    "ret = empyrical.cum_returns_final(s)\n",
    "vol = empyrical.annual_volatility(s)\n",
    "sh = empyrical.sharpe_ratio(s)\n",
    "w = weights['HSI.HI']\n",
    "rc = assets_risk_budget[2]\n",
    "worksheet.write('B4', retw, percent_format)\n",
    "worksheet.write('C4', retm, percent_format)\n",
    "worksheet.write('D4', ret, percent_format)\n",
    "worksheet.write('E4', vol, percent_format)\n",
    "worksheet.write('F4', sh, number_format)\n",
    "worksheet.write('G4', w, percent_format)\n",
    "worksheet.write('H4', rc, percent_format)"
   ]
  },
  {
   "cell_type": "code",
   "execution_count": 104,
   "metadata": {},
   "outputs": [
    {
     "data": {
      "text/plain": [
       "0"
      ]
     },
     "execution_count": 104,
     "metadata": {},
     "output_type": "execute_result"
    }
   ],
   "source": [
    "worksheet.write('A5', u'标普500', cell_format)\n",
    "s = ret_df[ret_df.index >= '2018-01-01']['SPX.GI']\n",
    "retw = empyrical.cum_returns_final(s[-5:])\n",
    "retm = empyrical.cum_returns_final(s[-20:])\n",
    "ret = empyrical.cum_returns_final(s)\n",
    "vol = empyrical.annual_volatility(s)\n",
    "sh = empyrical.sharpe_ratio(s)\n",
    "w = weights['SPX.GI']\n",
    "rc = assets_risk_budget[3]\n",
    "worksheet.write('B5', retw, percent_format)\n",
    "worksheet.write('C5', retm, percent_format)\n",
    "worksheet.write('D5', ret, percent_format)\n",
    "worksheet.write('E5', vol, percent_format)\n",
    "worksheet.write('F5', sh, number_format)\n",
    "worksheet.write('G5', w, percent_format)\n",
    "worksheet.write('H5', rc, percent_format)"
   ]
  },
  {
   "cell_type": "code",
   "execution_count": 105,
   "metadata": {},
   "outputs": [
    {
     "data": {
      "text/plain": [
       "0"
      ]
     },
     "execution_count": 105,
     "metadata": {},
     "output_type": "execute_result"
    }
   ],
   "source": [
    "worksheet.write('A6', u'中债新综合', cell_format)\n",
    "s = ret_df[ret_df.index >= '2018-01-01']['CBA00101.CS']\n",
    "retw = empyrical.cum_returns_final(s[-5:])\n",
    "retm = empyrical.cum_returns_final(s[-20:])\n",
    "ret = empyrical.cum_returns_final(s)\n",
    "vol = empyrical.annual_volatility(s)\n",
    "sh = empyrical.sharpe_ratio(s)\n",
    "w = weights['CBA00101.CS']\n",
    "rc = assets_risk_budget[4]\n",
    "worksheet.write('B6', retw, percent_format)\n",
    "worksheet.write('C6', retm, percent_format)\n",
    "worksheet.write('D6', ret, percent_format)\n",
    "worksheet.write('E6', vol, percent_format)\n",
    "worksheet.write('F6', sh, number_format)\n",
    "worksheet.write('G6', w, percent_format)\n",
    "worksheet.write('H6', rc, percent_format)"
   ]
  },
  {
   "cell_type": "code",
   "execution_count": 106,
   "metadata": {},
   "outputs": [
    {
     "data": {
      "text/plain": [
       "0"
      ]
     },
     "execution_count": 106,
     "metadata": {},
     "output_type": "execute_result"
    }
   ],
   "source": [
    "worksheet.write('A7', u'黄金', cell_format)\n",
    "s = ret_df[ret_df.index >= '2018-01-01']['AU9999.SGE']\n",
    "retw = empyrical.cum_returns_final(s[-5:])\n",
    "retm = empyrical.cum_returns_final(s[-20:])\n",
    "ret = empyrical.cum_returns_final(s)\n",
    "vol = empyrical.annual_volatility(s)\n",
    "sh = empyrical.sharpe_ratio(s)\n",
    "w = weights['AU9999.SGE']\n",
    "rc = assets_risk_budget[5]\n",
    "worksheet.write('B7', retw, percent_format)\n",
    "worksheet.write('C7', retm, percent_format)\n",
    "worksheet.write('D7', ret, percent_format)\n",
    "worksheet.write('E7', vol, percent_format)\n",
    "worksheet.write('F7', sh, number_format)\n",
    "worksheet.write('G7', w, percent_format)\n",
    "worksheet.write('H7', rc, percent_format)"
   ]
  },
  {
   "cell_type": "code",
   "execution_count": 107,
   "metadata": {},
   "outputs": [
    {
     "data": {
      "text/plain": [
       "0"
      ]
     },
     "execution_count": 107,
     "metadata": {},
     "output_type": "execute_result"
    }
   ],
   "source": [
    "worksheet.write('A8', u'现金', cell_format)\n",
    "s = odf[odf.index >= '2018-01-01']['H11025.CSI'].pct_change()\n",
    "retw = empyrical.cum_returns_final(s[-5:])\n",
    "retm = empyrical.cum_returns_final(s[-20:])\n",
    "ret = empyrical.cum_returns_final(s)\n",
    "vol = empyrical.annual_volatility(s)\n",
    "sh = empyrical.sharpe_ratio(s)\n",
    "worksheet.write('B8', retw, percent_format)\n",
    "worksheet.write('C8', retm, percent_format)\n",
    "worksheet.write('D8', ret, percent_format)\n",
    "worksheet.write('E8', vol, percent_format)\n",
    "worksheet.write('F8', sh, number_format)\n",
    "worksheet.write('G8', 0, percent_format)\n",
    "worksheet.write('H8', 0, percent_format)"
   ]
  },
  {
   "cell_type": "code",
   "execution_count": 108,
   "metadata": {},
   "outputs": [
    {
     "data": {
      "text/plain": [
       "0"
      ]
     },
     "execution_count": 108,
     "metadata": {},
     "output_type": "execute_result"
    }
   ],
   "source": [
    "worksheet.write('A9', u'风险平价组合', cell_format)\n",
    "s = portfolio_ret[portfolio_ret.index >= '2018-01-01']\n",
    "retw = empyrical.cum_returns_final(s[-5:])\n",
    "retm = empyrical.cum_returns_final(s[-20:])\n",
    "ret = empyrical.cum_returns_final(s)\n",
    "vol = empyrical.annual_volatility(s)\n",
    "sh = empyrical.sharpe_ratio(s)\n",
    "worksheet.write('B9', retw, percent_format)\n",
    "worksheet.write('C9', retm, percent_format)\n",
    "worksheet.write('D9', ret, percent_format)\n",
    "worksheet.write('E9', vol, percent_format)\n",
    "worksheet.write('F9', sh, number_format)\n",
    "worksheet.write('G9', 1, percent_format)\n",
    "worksheet.write('H9', 1, percent_format)"
   ]
  },
  {
   "cell_type": "code",
   "execution_count": 109,
   "metadata": {},
   "outputs": [
    {
     "data": {
      "text/plain": [
       "0"
      ]
     },
     "execution_count": 109,
     "metadata": {},
     "output_type": "execute_result"
    }
   ],
   "source": [
    "worksheet.set_column(0, 0, 15)"
   ]
  },
  {
   "cell_type": "code",
   "execution_count": 110,
   "metadata": {},
   "outputs": [],
   "source": [
    "workbook.close()"
   ]
  },
  {
   "cell_type": "code",
   "execution_count": null,
   "metadata": {},
   "outputs": [],
   "source": []
  },
  {
   "cell_type": "code",
   "execution_count": null,
   "metadata": {},
   "outputs": [],
   "source": []
  },
  {
   "cell_type": "code",
   "execution_count": null,
   "metadata": {},
   "outputs": [],
   "source": []
  },
  {
   "cell_type": "code",
   "execution_count": null,
   "metadata": {},
   "outputs": [],
   "source": []
  },
  {
   "cell_type": "code",
   "execution_count": null,
   "metadata": {},
   "outputs": [],
   "source": []
  },
  {
   "cell_type": "code",
   "execution_count": null,
   "metadata": {},
   "outputs": [],
   "source": []
  },
  {
   "cell_type": "code",
   "execution_count": null,
   "metadata": {},
   "outputs": [],
   "source": []
  }
 ],
 "metadata": {
  "kernelspec": {
   "display_name": "Python 2",
   "language": "python",
   "name": "python2"
  },
  "language_info": {
   "codemirror_mode": {
    "name": "ipython",
    "version": 2
   },
   "file_extension": ".py",
   "mimetype": "text/x-python",
   "name": "python",
   "nbconvert_exporter": "python",
   "pygments_lexer": "ipython2",
   "version": "2.7.14"
  }
 },
 "nbformat": 4,
 "nbformat_minor": 2
}
