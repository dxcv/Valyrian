{
 "cells": [
  {
   "cell_type": "markdown",
   "metadata": {},
   "source": [
    "# 风险平价组合"
   ]
  },
  {
   "cell_type": "code",
   "execution_count": 1,
   "metadata": {},
   "outputs": [],
   "source": [
    "import pandas as pd\n",
    "import numpy as np\n",
    "import matplotlib.pyplot as plt\n",
    "import xlsxwriter\n",
    "from scipy.optimize import minimize, basinhopping\n",
    "import empyrical\n",
    "%matplotlib inline"
   ]
  },
  {
   "cell_type": "code",
   "execution_count": 2,
   "metadata": {},
   "outputs": [],
   "source": [
    "DATA_DIR = '../data/'\n",
    "TOLERANCE = 1e-10"
   ]
  },
  {
   "cell_type": "code",
   "execution_count": 3,
   "metadata": {},
   "outputs": [],
   "source": [
    "def metric(daily_ret):\n",
    "    an_ret = empyrical.annual_return(daily_ret)\n",
    "    sharpe = empyrical.sharpe_ratio(daily_ret)\n",
    "    vol = empyrical.annual_volatility(daily_ret)\n",
    "    maxdraw = empyrical.max_drawdown(daily_ret)\n",
    "    print('Annual return: %.2f%%'%(an_ret*100))\n",
    "    print('Sharpe ratio: %.2f'%(sharpe))\n",
    "    print('Annual volatility: %.2f%%'%(vol*100))\n",
    "    print('Max drawdown: %.2f%%'%(maxdraw*100))"
   ]
  },
  {
   "cell_type": "markdown",
   "metadata": {},
   "source": [
    "# 读取数据"
   ]
  },
  {
   "cell_type": "code",
   "execution_count": 4,
   "metadata": {},
   "outputs": [],
   "source": [
    "fname = '%s/assets.xlsx'%(DATA_DIR)\n",
    "odf = pd.read_excel(fname, index_col=0)"
   ]
  },
  {
   "cell_type": "code",
   "execution_count": 5,
   "metadata": {},
   "outputs": [
    {
     "data": {
      "text/html": [
       "<div>\n",
       "<style scoped>\n",
       "    .dataframe tbody tr th:only-of-type {\n",
       "        vertical-align: middle;\n",
       "    }\n",
       "\n",
       "    .dataframe tbody tr th {\n",
       "        vertical-align: top;\n",
       "    }\n",
       "\n",
       "    .dataframe thead th {\n",
       "        text-align: right;\n",
       "    }\n",
       "</style>\n",
       "<table border=\"1\" class=\"dataframe\">\n",
       "  <thead>\n",
       "    <tr style=\"text-align: right;\">\n",
       "      <th></th>\n",
       "      <th>881001.WI</th>\n",
       "      <th>HSI.HI</th>\n",
       "      <th>SPX.GI</th>\n",
       "      <th>CBA00101.CS</th>\n",
       "      <th>AU9999.SGE</th>\n",
       "      <th>B.IPE</th>\n",
       "      <th>H11025.CSI</th>\n",
       "      <th>CCFI.WI</th>\n",
       "    </tr>\n",
       "  </thead>\n",
       "  <tbody>\n",
       "    <tr>\n",
       "      <th>2018-09-11</th>\n",
       "      <td>3526.2641</td>\n",
       "      <td>26422.55</td>\n",
       "      <td>2887.89</td>\n",
       "      <td>181.9901</td>\n",
       "      <td>265.38</td>\n",
       "      <td>79.50</td>\n",
       "      <td>1496.6414</td>\n",
       "      <td>1150.2650</td>\n",
       "    </tr>\n",
       "    <tr>\n",
       "      <th>2018-09-12</th>\n",
       "      <td>3513.4459</td>\n",
       "      <td>26345.04</td>\n",
       "      <td>2888.92</td>\n",
       "      <td>182.0667</td>\n",
       "      <td>265.20</td>\n",
       "      <td>79.29</td>\n",
       "      <td>1496.7726</td>\n",
       "      <td>1140.2547</td>\n",
       "    </tr>\n",
       "    <tr>\n",
       "      <th>2018-09-13</th>\n",
       "      <td>3544.9272</td>\n",
       "      <td>27014.49</td>\n",
       "      <td>2904.18</td>\n",
       "      <td>182.1425</td>\n",
       "      <td>266.15</td>\n",
       "      <td>78.02</td>\n",
       "      <td>1496.9048</td>\n",
       "      <td>1142.5859</td>\n",
       "    </tr>\n",
       "    <tr>\n",
       "      <th>2018-09-14</th>\n",
       "      <td>3529.8022</td>\n",
       "      <td>27286.41</td>\n",
       "      <td>2904.98</td>\n",
       "      <td>182.2264</td>\n",
       "      <td>266.72</td>\n",
       "      <td>77.62</td>\n",
       "      <td>1497.0371</td>\n",
       "      <td>1141.8796</td>\n",
       "    </tr>\n",
       "    <tr>\n",
       "      <th>2018-09-17</th>\n",
       "      <td>3482.8986</td>\n",
       "      <td>26932.85</td>\n",
       "      <td>2888.80</td>\n",
       "      <td>182.3457</td>\n",
       "      <td>265.69</td>\n",
       "      <td>77.53</td>\n",
       "      <td>1497.0371</td>\n",
       "      <td>1143.1164</td>\n",
       "    </tr>\n",
       "  </tbody>\n",
       "</table>\n",
       "</div>"
      ],
      "text/plain": [
       "            881001.WI    HSI.HI   SPX.GI  CBA00101.CS  AU9999.SGE  B.IPE  \\\n",
       "2018-09-11  3526.2641  26422.55  2887.89     181.9901      265.38  79.50   \n",
       "2018-09-12  3513.4459  26345.04  2888.92     182.0667      265.20  79.29   \n",
       "2018-09-13  3544.9272  27014.49  2904.18     182.1425      266.15  78.02   \n",
       "2018-09-14  3529.8022  27286.41  2904.98     182.2264      266.72  77.62   \n",
       "2018-09-17  3482.8986  26932.85  2888.80     182.3457      265.69  77.53   \n",
       "\n",
       "            H11025.CSI    CCFI.WI  \n",
       "2018-09-11   1496.6414  1150.2650  \n",
       "2018-09-12   1496.7726  1140.2547  \n",
       "2018-09-13   1496.9048  1142.5859  \n",
       "2018-09-14   1497.0371  1141.8796  \n",
       "2018-09-17   1497.0371  1143.1164  "
      ]
     },
     "execution_count": 5,
     "metadata": {},
     "output_type": "execute_result"
    }
   ],
   "source": [
    "odf.tail()"
   ]
  },
  {
   "cell_type": "markdown",
   "metadata": {},
   "source": [
    "# 标准风险平价"
   ]
  },
  {
   "cell_type": "code",
   "execution_count": 6,
   "metadata": {},
   "outputs": [],
   "source": [
    "def _allocation_risk(weights, covariances):\n",
    "    \n",
    "    # calculate the risk of the weights distribution\n",
    "    portfolio_risk = np.sqrt((weights * covariances * weights.T))[0, 0]\n",
    "    \n",
    "    # It returns the risk of the weights distribution\n",
    "    return portfolio_risk"
   ]
  },
  {
   "cell_type": "code",
   "execution_count": 7,
   "metadata": {},
   "outputs": [],
   "source": [
    "def _assets_risk_contribution_to_allocation_risk(weights, covariances):\n",
    "    \n",
    "    # calculate the risk of the weights distribution\n",
    "    portfolio_risk = _allocation_risk(weights, covariances)\n",
    "    \n",
    "    # calculate the contribution of each asset to the risk of the weights distribution\n",
    "    assets_risk_contribution = np.multiply(weights.T, covariances * weights.T) / portfolio_risk\n",
    "    \n",
    "    # It returns the contribution of each asset to the risk of the weights distribution\n",
    "    return assets_risk_contribution"
   ]
  },
  {
   "cell_type": "code",
   "execution_count": 8,
   "metadata": {},
   "outputs": [],
   "source": [
    "def _risk_budget_objective_error(weights, args):\n",
    "\n",
    "    # The covariance matrix occupies the first position in the variable\n",
    "    covariances = args[0]\n",
    "\n",
    "    # The desired contribution of each asset to the portfolio risk occupies the second position\n",
    "    assets_risk_budget = args[1]\n",
    "\n",
    "    # We convert the weights to a matrix\n",
    "    weights = np.matrix(weights)\n",
    "\n",
    "    # We calculate the risk of the weights distribution\n",
    "    portfolio_risk = _allocation_risk(weights, covariances)\n",
    "\n",
    "    # We calculate the contribution of each asset to the risk of the weights distribution\n",
    "    assets_risk_contribution = _assets_risk_contribution_to_allocation_risk(weights, covariances)\n",
    "\n",
    "    # We calculate the desired contribution of each asset to the risk of the weights distribution\n",
    "    assets_risk_target = np.asmatrix(np.multiply(portfolio_risk, assets_risk_budget))\n",
    "\n",
    "    # Error between the desired contribution and the calculated contribution of each asset\n",
    "    error = sum(np.square(assets_risk_contribution - assets_risk_target.T))[0, 0]\n",
    "\n",
    "    # It returns the calculated error\n",
    "    return error"
   ]
  },
  {
   "cell_type": "code",
   "execution_count": 9,
   "metadata": {},
   "outputs": [],
   "source": [
    "def _get_risk_parity_weights(covariances, assets_risk_budget, initial_weights):\n",
    "    # Restrictions to consider in the optimisation: only long positions whose\n",
    "    # sum equals 100%\n",
    "    constraints = ({'type': 'eq', 'fun': lambda x: np.sum(x) - 1.0},\n",
    "                   {'type': 'ineq', 'fun': lambda x: x})\n",
    "    # Optimisation process in scipy\n",
    "    optimize_result = minimize(fun=_risk_budget_objective_error,\n",
    "                               x0=initial_weights,\n",
    "                               args=[covariances, assets_risk_budget],\n",
    "                               method='SLSQP',\n",
    "                               constraints=constraints,\n",
    "                               tol=TOLERANCE,\n",
    "                               options={'disp': False})\n",
    "    # Recover the weights from the optimised object\n",
    "    weights = optimize_result.x\n",
    "\n",
    "    # It returns the optimised weights\n",
    "    return weights"
   ]
  },
  {
   "cell_type": "markdown",
   "metadata": {},
   "source": [
    "# 用样本协方差计算风险平价组合权重"
   ]
  },
  {
   "cell_type": "code",
   "execution_count": 136,
   "metadata": {},
   "outputs": [],
   "source": [
    "df = odf[['881001.WI', 'HSI.HI', 'SPX.GI', 'CBA00101.CS', 'AU9999.SGE']]"
   ]
  },
  {
   "cell_type": "code",
   "execution_count": 137,
   "metadata": {},
   "outputs": [],
   "source": [
    "df = df.replace([0], np.NAN)"
   ]
  },
  {
   "cell_type": "code",
   "execution_count": 138,
   "metadata": {},
   "outputs": [],
   "source": [
    "ret_df = df.pct_change().dropna()"
   ]
  },
  {
   "cell_type": "markdown",
   "metadata": {},
   "source": [
    "### 过去一年协方差"
   ]
  },
  {
   "cell_type": "code",
   "execution_count": 139,
   "metadata": {},
   "outputs": [],
   "source": [
    "covariances = ret_df.iloc[-242:].cov()"
   ]
  },
  {
   "cell_type": "code",
   "execution_count": 146,
   "metadata": {},
   "outputs": [
    {
     "data": {
      "text/plain": [
       "0.18469345796504474"
      ]
     },
     "execution_count": 146,
     "metadata": {},
     "output_type": "execute_result"
    }
   ],
   "source": [
    "empyrical.annual_volatility(ret_df['SPX.GI'])"
   ]
  },
  {
   "cell_type": "markdown",
   "metadata": {},
   "source": [
    "### 计算权重"
   ]
  },
  {
   "cell_type": "code",
   "execution_count": 116,
   "metadata": {},
   "outputs": [],
   "source": [
    "n = df.shape[1]\n",
    "init_weights = np.array([1. / n] * n)\n",
    "assets_risk_budget = np.array([1./9, 1./9, 1./9, 1./3, 1./3])\n",
    "# assets_risk_budget = np.array([1. / n] * n)"
   ]
  },
  {
   "cell_type": "code",
   "execution_count": 117,
   "metadata": {},
   "outputs": [
    {
     "data": {
      "text/plain": [
       "array([0.16666667, 0.16666667, 0.16666667, 0.5       ])"
      ]
     },
     "execution_count": 117,
     "metadata": {},
     "output_type": "execute_result"
    }
   ],
   "source": [
    "assets_risk_budget"
   ]
  },
  {
   "cell_type": "markdown",
   "metadata": {},
   "source": [
    "### 等权下的风险贡献"
   ]
  },
  {
   "cell_type": "code",
   "execution_count": 118,
   "metadata": {},
   "outputs": [],
   "source": [
    "rc = _assets_risk_contribution_to_allocation_risk(np.matrix(init_weights), covariances.values)"
   ]
  },
  {
   "cell_type": "code",
   "execution_count": 119,
   "metadata": {},
   "outputs": [
    {
     "data": {
      "text/plain": [
       "matrix([[ 2.38184884e-03],\n",
       "        [ 2.35778373e-03],\n",
       "        [ 9.05537631e-04],\n",
       "        [-1.45972500e-05]])"
      ]
     },
     "execution_count": 119,
     "metadata": {},
     "output_type": "execute_result"
    }
   ],
   "source": [
    "rc"
   ]
  },
  {
   "cell_type": "markdown",
   "metadata": {},
   "source": [
    "### 风险权重相等"
   ]
  },
  {
   "cell_type": "code",
   "execution_count": 120,
   "metadata": {},
   "outputs": [],
   "source": [
    "weights = _get_risk_parity_weights(covariances.values*1e7, assets_risk_budget, init_weights)"
   ]
  },
  {
   "cell_type": "code",
   "execution_count": 121,
   "metadata": {},
   "outputs": [
    {
     "data": {
      "text/plain": [
       "array([0.02594107, 0.02547983, 0.04193917, 0.90663993])"
      ]
     },
     "execution_count": 121,
     "metadata": {},
     "output_type": "execute_result"
    }
   ],
   "source": [
    "weights"
   ]
  },
  {
   "cell_type": "code",
   "execution_count": 122,
   "metadata": {},
   "outputs": [],
   "source": [
    "rc = _assets_risk_contribution_to_allocation_risk(np.matrix(weights), covariances.values)"
   ]
  },
  {
   "cell_type": "code",
   "execution_count": 123,
   "metadata": {},
   "outputs": [
    {
     "data": {
      "text/plain": [
       "matrix([[0.00014483],\n",
       "        [0.00014483],\n",
       "        [0.00014483],\n",
       "        [0.00043448]])"
      ]
     },
     "execution_count": 123,
     "metadata": {},
     "output_type": "execute_result"
    }
   ],
   "source": [
    "rc"
   ]
  },
  {
   "cell_type": "code",
   "execution_count": 124,
   "metadata": {},
   "outputs": [
    {
     "data": {
      "text/plain": [
       "True"
      ]
     },
     "execution_count": 124,
     "metadata": {},
     "output_type": "execute_result"
    }
   ],
   "source": [
    "abs((rc / rc.sum() - assets_risk_budget).sum()) < TOLERANCE"
   ]
  },
  {
   "cell_type": "markdown",
   "metadata": {},
   "source": [
    "# 回测"
   ]
  },
  {
   "cell_type": "code",
   "execution_count": 125,
   "metadata": {},
   "outputs": [],
   "source": [
    "new_df = df[(df.index >= ret_df.index[0]) & (df.index <= ret_df.index[-1])]"
   ]
  },
  {
   "cell_type": "code",
   "execution_count": 126,
   "metadata": {},
   "outputs": [
    {
     "data": {
      "text/html": [
       "<div>\n",
       "<style scoped>\n",
       "    .dataframe tbody tr th:only-of-type {\n",
       "        vertical-align: middle;\n",
       "    }\n",
       "\n",
       "    .dataframe tbody tr th {\n",
       "        vertical-align: top;\n",
       "    }\n",
       "\n",
       "    .dataframe thead th {\n",
       "        text-align: right;\n",
       "    }\n",
       "</style>\n",
       "<table border=\"1\" class=\"dataframe\">\n",
       "  <thead>\n",
       "    <tr style=\"text-align: right;\">\n",
       "      <th></th>\n",
       "      <th>881001.WI</th>\n",
       "      <th>HSI.HI</th>\n",
       "      <th>SPX.GI</th>\n",
       "      <th>CBA00101.CS</th>\n",
       "    </tr>\n",
       "  </thead>\n",
       "  <tbody>\n",
       "    <tr>\n",
       "      <th>2002-01-07</th>\n",
       "      <td>1159.0706</td>\n",
       "      <td>11892.64</td>\n",
       "      <td>1164.89</td>\n",
       "      <td>100.0149</td>\n",
       "    </tr>\n",
       "    <tr>\n",
       "      <th>2002-01-08</th>\n",
       "      <td>1149.4117</td>\n",
       "      <td>11713.71</td>\n",
       "      <td>1160.71</td>\n",
       "      <td>99.8273</td>\n",
       "    </tr>\n",
       "    <tr>\n",
       "      <th>2002-01-09</th>\n",
       "      <td>1128.3730</td>\n",
       "      <td>11440.72</td>\n",
       "      <td>1155.14</td>\n",
       "      <td>100.0203</td>\n",
       "    </tr>\n",
       "    <tr>\n",
       "      <th>2002-01-10</th>\n",
       "      <td>1138.5033</td>\n",
       "      <td>11256.07</td>\n",
       "      <td>1156.55</td>\n",
       "      <td>99.9317</td>\n",
       "    </tr>\n",
       "    <tr>\n",
       "      <th>2002-01-11</th>\n",
       "      <td>1106.8322</td>\n",
       "      <td>11166.46</td>\n",
       "      <td>1145.60</td>\n",
       "      <td>100.2721</td>\n",
       "    </tr>\n",
       "  </tbody>\n",
       "</table>\n",
       "</div>"
      ],
      "text/plain": [
       "            881001.WI    HSI.HI   SPX.GI  CBA00101.CS\n",
       "2002-01-07  1159.0706  11892.64  1164.89     100.0149\n",
       "2002-01-08  1149.4117  11713.71  1160.71      99.8273\n",
       "2002-01-09  1128.3730  11440.72  1155.14     100.0203\n",
       "2002-01-10  1138.5033  11256.07  1156.55      99.9317\n",
       "2002-01-11  1106.8322  11166.46  1145.60     100.2721"
      ]
     },
     "execution_count": 126,
     "metadata": {},
     "output_type": "execute_result"
    }
   ],
   "source": [
    "new_df.head()"
   ]
  },
  {
   "cell_type": "code",
   "execution_count": 128,
   "metadata": {},
   "outputs": [],
   "source": [
    "weight = pd.DataFrame(columns=new_df.columns, index=new_df.index)\n",
    "n, k = new_df.shape[1], 242\n",
    "wb = np.zeros(n)\n",
    "assets_risk_budget = np.array([1./9, 1./9, 1./9, 1./3, 1./3])\n",
    "init_weights = np.array([1. / n] * n)\n",
    "for date in new_df.index:\n",
    "    weight.loc[date] = wb\n",
    "    if date.dayofweek == 4:\n",
    "        past_return = ret_df[ret_df.index <= date][-k:]\n",
    "        if past_return.shape[0] == k:\n",
    "            covariances = past_return.cov()\n",
    "            temp = wb.copy()\n",
    "            wb = _get_risk_parity_weights(covariances.values*1e7, assets_risk_budget, init_weights)\n",
    "            # check risk contribution\n",
    "            rc = _assets_risk_contribution_to_allocation_risk(np.matrix(weights), covariances.values)\n",
    "            if abs((rc / rc.sum() - assets_risk_budget).sum()) > TOLERANCE:\n",
    "                print(date)\n",
    "                wb = temp.copy()"
   ]
  },
  {
   "cell_type": "code",
   "execution_count": 135,
   "metadata": {},
   "outputs": [
    {
     "data": {
      "text/html": [
       "<div>\n",
       "<style scoped>\n",
       "    .dataframe tbody tr th:only-of-type {\n",
       "        vertical-align: middle;\n",
       "    }\n",
       "\n",
       "    .dataframe tbody tr th {\n",
       "        vertical-align: top;\n",
       "    }\n",
       "\n",
       "    .dataframe thead th {\n",
       "        text-align: right;\n",
       "    }\n",
       "</style>\n",
       "<table border=\"1\" class=\"dataframe\">\n",
       "  <thead>\n",
       "    <tr style=\"text-align: right;\">\n",
       "      <th></th>\n",
       "      <th>881001.WI</th>\n",
       "      <th>HSI.HI</th>\n",
       "      <th>SPX.GI</th>\n",
       "      <th>CBA00101.CS</th>\n",
       "    </tr>\n",
       "  </thead>\n",
       "  <tbody>\n",
       "    <tr>\n",
       "      <th>2018-09-11</th>\n",
       "      <td>0.0260216</td>\n",
       "      <td>0.0260316</td>\n",
       "      <td>0.0417223</td>\n",
       "      <td>0.906225</td>\n",
       "    </tr>\n",
       "    <tr>\n",
       "      <th>2018-09-12</th>\n",
       "      <td>0.0260216</td>\n",
       "      <td>0.0260316</td>\n",
       "      <td>0.0417223</td>\n",
       "      <td>0.906225</td>\n",
       "    </tr>\n",
       "    <tr>\n",
       "      <th>2018-09-13</th>\n",
       "      <td>0.0260216</td>\n",
       "      <td>0.0260316</td>\n",
       "      <td>0.0417223</td>\n",
       "      <td>0.906225</td>\n",
       "    </tr>\n",
       "    <tr>\n",
       "      <th>2018-09-14</th>\n",
       "      <td>0.0260216</td>\n",
       "      <td>0.0260316</td>\n",
       "      <td>0.0417223</td>\n",
       "      <td>0.906225</td>\n",
       "    </tr>\n",
       "    <tr>\n",
       "      <th>2018-09-17</th>\n",
       "      <td>0.0260024</td>\n",
       "      <td>0.0255561</td>\n",
       "      <td>0.0420498</td>\n",
       "      <td>0.906392</td>\n",
       "    </tr>\n",
       "  </tbody>\n",
       "</table>\n",
       "</div>"
      ],
      "text/plain": [
       "            881001.WI     HSI.HI     SPX.GI CBA00101.CS\n",
       "2018-09-11  0.0260216  0.0260316  0.0417223    0.906225\n",
       "2018-09-12  0.0260216  0.0260316  0.0417223    0.906225\n",
       "2018-09-13  0.0260216  0.0260316  0.0417223    0.906225\n",
       "2018-09-14  0.0260216  0.0260316  0.0417223    0.906225\n",
       "2018-09-17  0.0260024  0.0255561  0.0420498    0.906392"
      ]
     },
     "execution_count": 135,
     "metadata": {},
     "output_type": "execute_result"
    }
   ],
   "source": [
    "weight.tail()"
   ]
  },
  {
   "cell_type": "code",
   "execution_count": 129,
   "metadata": {},
   "outputs": [],
   "source": [
    "portfolio_ret = (weight * ret_df).sum(axis=1)\n",
    "portfolio_ret = portfolio_ret[portfolio_ret != 0]"
   ]
  },
  {
   "cell_type": "code",
   "execution_count": 130,
   "metadata": {},
   "outputs": [],
   "source": [
    "weight_plot = weight.drop_duplicates().iloc[1:].astype(np.float32)"
   ]
  },
  {
   "cell_type": "code",
   "execution_count": 132,
   "metadata": {},
   "outputs": [
    {
     "data": {
      "image/png": "[encoded data removed]",
      "text/plain": [
       "<Figure size 1800x720 with 1 Axes>"
      ]
     },
     "metadata": {},
     "output_type": "display_data"
    }
   ],
   "source": [
    "fig, ax = plt.subplots(figsize=(25, 10))\n",
    "_ = ax.stackplot(weight_plot.index, \n",
    "                 weight_plot['881001.WI'],\n",
    "                 weight_plot['HSI.HI'],\n",
    "                 weight_plot['SPX.GI'],\n",
    "                 weight_plot['CBA00101.CS'],\n",
    "                 weight_plot['AU9999.SGE'], \n",
    "                 labels=[u'万得全A', u'恒生指数', u'标普500', u'中债新综合', u'黄金'])\n",
    "ax.legend(loc='upper left', fontsize=15)\n",
    "ax.set_title(u'风险平价组合历史权重', fontsize=25)\n",
    "ax.set_ylabel(u'权重', fontsize=15)\n",
    "ax.set_xlabel(u'日期', fontsize=15)\n",
    "fig.savefig('../pic/portfolio_weight.jpg', dpi=200, bbox_inches='tight')"
   ]
  },
  {
   "cell_type": "code",
   "execution_count": 133,
   "metadata": {},
   "outputs": [
    {
     "name": "stdout",
     "output_type": "stream",
     "text": [
      "Annual return: 4.44%\n",
      "Sharpe ratio: 2.12\n",
      "Annual volatility: 2.05%\n",
      "Max drawdown: -4.71%\n"
     ]
    }
   ],
   "source": [
    "metric(portfolio_ret)"
   ]
  },
  {
   "cell_type": "code",
   "execution_count": 134,
   "metadata": {},
   "outputs": [
    {
     "data": {
      "image/png": "[encoded data removed]",
      "text/plain": [
       "<Figure size 1800x720 with 1 Axes>"
      ]
     },
     "metadata": {},
     "output_type": "display_data"
    }
   ],
   "source": [
    "fig, ax = plt.subplots(figsize=(25, 10))\n",
    "ax.plot((1 + portfolio_ret).cumprod(), color='blue')\n",
    "ax.set_title(u'风险平价组合历史净值', fontsize=25)\n",
    "ax.set_ylabel(u'净值', fontsize=15)\n",
    "ax.set_xlabel(u'日期', fontsize=15)\n",
    "fig.savefig('../pic/portfolio_return.jpg', dpi=200, bbox_inches='tight')"
   ]
  },
  {
   "cell_type": "markdown",
   "metadata": {},
   "source": [
    "# 今年以来风险平价组合与各类资产情况"
   ]
  },
  {
   "cell_type": "code",
   "execution_count": 89,
   "metadata": {},
   "outputs": [],
   "source": [
    "fname = u'../data/stats.xlsx'"
   ]
  },
  {
   "cell_type": "code",
   "execution_count": 90,
   "metadata": {},
   "outputs": [],
   "source": [
    "workbook = xlsxwriter.Workbook(fname)\n",
    "worksheet = workbook.add_worksheet()"
   ]
  },
  {
   "cell_type": "code",
   "execution_count": 91,
   "metadata": {},
   "outputs": [],
   "source": [
    "col_format = workbook.add_format({'bold': True, 'align': 'center', 'font_name': u'楷体', 'font_color': '#FFFFFF', 'bg_color': '#993333'})\n",
    "cell_format = workbook.add_format({'font_name': u'楷体'})\n",
    "percent_format = workbook.add_format({'font_name': u'楷体', 'num_format': '0.00%'})\n",
    "number_format = workbook.add_format({'font_name': u'楷体', 'num_format': '0.00'})"
   ]
  },
  {
   "cell_type": "code",
   "execution_count": 92,
   "metadata": {},
   "outputs": [
    {
     "data": {
      "text/plain": [
       "0"
      ]
     },
     "execution_count": 92,
     "metadata": {},
     "output_type": "execute_result"
    }
   ],
   "source": [
    "worksheet.write('A1', '', col_format)\n",
    "worksheet.write('B1', u'收益率', col_format)\n",
    "worksheet.write('C1', u'波动率', col_format)\n",
    "worksheet.write('D1', u'夏普率', col_format)\n",
    "worksheet.write('E1', u'当前权重', col_format)\n",
    "worksheet.write('F1', u'风险贡献', col_format)"
   ]
  },
  {
   "cell_type": "code",
   "execution_count": 93,
   "metadata": {},
   "outputs": [],
   "source": [
    "weights = weight.iloc[-1]"
   ]
  },
  {
   "cell_type": "code",
   "execution_count": 94,
   "metadata": {},
   "outputs": [
    {
     "data": {
      "text/plain": [
       "0"
      ]
     },
     "execution_count": 94,
     "metadata": {},
     "output_type": "execute_result"
    }
   ],
   "source": [
    "worksheet.write('A2', u'万得全A', cell_format)\n",
    "s = ret_df[ret_df.index >= '2018-01-01']['881001.WI']\n",
    "ret = empyrical.cum_returns_final(s)\n",
    "vol = empyrical.annual_volatility(s)\n",
    "sh = empyrical.sharpe_ratio(s)\n",
    "w = weights['881001.WI']\n",
    "rc = assets_risk_budget[0]\n",
    "worksheet.write('B2', ret, percent_format)\n",
    "worksheet.write('C2', vol, percent_format)\n",
    "worksheet.write('D2', sh, number_format)\n",
    "worksheet.write('E2', w, percent_format)\n",
    "worksheet.write('F2', rc, percent_format)"
   ]
  },
  {
   "cell_type": "code",
   "execution_count": 95,
   "metadata": {},
   "outputs": [
    {
     "data": {
      "text/plain": [
       "0"
      ]
     },
     "execution_count": 95,
     "metadata": {},
     "output_type": "execute_result"
    }
   ],
   "source": [
    "worksheet.write('A3', u'恒生指数', cell_format)\n",
    "s = ret_df[ret_df.index >= '2018-01-01']['HSI.HI']\n",
    "ret = empyrical.cum_returns_final(s)\n",
    "vol = empyrical.annual_volatility(s)\n",
    "sh = empyrical.sharpe_ratio(s)\n",
    "w = weights['HSI.HI']\n",
    "rc = assets_risk_budget[1]\n",
    "worksheet.write('B3', ret, percent_format)\n",
    "worksheet.write('C3', vol, percent_format)\n",
    "worksheet.write('D3', sh, number_format)\n",
    "worksheet.write('E3', w, percent_format)\n",
    "worksheet.write('F3', rc, percent_format)"
   ]
  },
  {
   "cell_type": "code",
   "execution_count": 96,
   "metadata": {},
   "outputs": [
    {
     "data": {
      "text/plain": [
       "0"
      ]
     },
     "execution_count": 96,
     "metadata": {},
     "output_type": "execute_result"
    }
   ],
   "source": [
    "worksheet.write('A4', u'标普500', cell_format)\n",
    "s = ret_df[ret_df.index >= '2018-01-01']['SPX.GI']\n",
    "ret = empyrical.cum_returns_final(s)\n",
    "vol = empyrical.annual_volatility(s)\n",
    "sh = empyrical.sharpe_ratio(s)\n",
    "w = weights['SPX.GI']\n",
    "rc = assets_risk_budget[2]\n",
    "worksheet.write('B4', ret, percent_format)\n",
    "worksheet.write('C4', vol, percent_format)\n",
    "worksheet.write('D4', sh, number_format)\n",
    "worksheet.write('E4', w, percent_format)\n",
    "worksheet.write('F4', rc, percent_format)"
   ]
  },
  {
   "cell_type": "code",
   "execution_count": 97,
   "metadata": {},
   "outputs": [
    {
     "data": {
      "text/plain": [
       "0"
      ]
     },
     "execution_count": 97,
     "metadata": {},
     "output_type": "execute_result"
    }
   ],
   "source": [
    "worksheet.write('A5', u'中债新综合', cell_format)\n",
    "s = ret_df[ret_df.index >= '2018-01-01']['CBA00101.CS']\n",
    "ret = empyrical.cum_returns_final(s)\n",
    "vol = empyrical.annual_volatility(s)\n",
    "sh = empyrical.sharpe_ratio(s)\n",
    "w = weights['CBA00101.CS']\n",
    "rc = assets_risk_budget[3]\n",
    "worksheet.write('B5', ret, percent_format)\n",
    "worksheet.write('C5', vol, percent_format)\n",
    "worksheet.write('D5', sh, number_format)\n",
    "worksheet.write('E5', w, percent_format)\n",
    "worksheet.write('F5', rc, percent_format)"
   ]
  },
  {
   "cell_type": "code",
   "execution_count": 98,
   "metadata": {},
   "outputs": [
    {
     "data": {
      "text/plain": [
       "0"
      ]
     },
     "execution_count": 98,
     "metadata": {},
     "output_type": "execute_result"
    }
   ],
   "source": [
    "worksheet.write('A6', u'黄金', cell_format)\n",
    "s = ret_df[ret_df.index >= '2018-01-01']['AU9999.SGE']\n",
    "ret = empyrical.cum_returns_final(s)\n",
    "vol = empyrical.annual_volatility(s)\n",
    "w = weights['AU9999.SGE']\n",
    "sh = empyrical.sharpe_ratio(s)\n",
    "rc = assets_risk_budget[4]\n",
    "worksheet.write('B6', ret, percent_format)\n",
    "worksheet.write('C6', vol, percent_format)\n",
    "worksheet.write('D6', sh, number_format)\n",
    "worksheet.write('E6', w, percent_format)\n",
    "worksheet.write('F6', rc, percent_format)"
   ]
  },
  {
   "cell_type": "code",
   "execution_count": 99,
   "metadata": {},
   "outputs": [
    {
     "data": {
      "text/plain": [
       "0"
      ]
     },
     "execution_count": 99,
     "metadata": {},
     "output_type": "execute_result"
    }
   ],
   "source": [
    "worksheet.write('A7', u'现金', cell_format)\n",
    "s = odf[odf.index >= '2018-01-01']['H11025.CSI'].pct_change()\n",
    "ret = empyrical.cum_returns_final(s)\n",
    "vol = empyrical.annual_volatility(s)\n",
    "sh = empyrical.sharpe_ratio(s)\n",
    "worksheet.write('B7', ret, percent_format)\n",
    "worksheet.write('C7', vol, percent_format)\n",
    "worksheet.write('D7', sh, number_format)\n",
    "worksheet.write('E7', 0, percent_format)\n",
    "worksheet.write('F7', 0, percent_format)"
   ]
  },
  {
   "cell_type": "code",
   "execution_count": 100,
   "metadata": {},
   "outputs": [
    {
     "data": {
      "text/plain": [
       "0"
      ]
     },
     "execution_count": 100,
     "metadata": {},
     "output_type": "execute_result"
    }
   ],
   "source": [
    "worksheet.write('A8', u'风险平价组合', cell_format)\n",
    "s = portfolio_ret[portfolio_ret.index >= '2018-01-01']\n",
    "ret = empyrical.cum_returns_final(s)\n",
    "vol = empyrical.annual_volatility(s)\n",
    "sh = empyrical.sharpe_ratio(s)\n",
    "worksheet.write('B8', ret, percent_format)\n",
    "worksheet.write('C8', vol, percent_format)\n",
    "worksheet.write('D8', sh, number_format)\n",
    "worksheet.write('E8', 1, percent_format)\n",
    "worksheet.write('F8', 1, percent_format)"
   ]
  },
  {
   "cell_type": "code",
   "execution_count": 101,
   "metadata": {},
   "outputs": [
    {
     "data": {
      "text/plain": [
       "0"
      ]
     },
     "execution_count": 101,
     "metadata": {},
     "output_type": "execute_result"
    }
   ],
   "source": [
    "worksheet.set_column(0, 0, 15)"
   ]
  },
  {
   "cell_type": "code",
   "execution_count": 102,
   "metadata": {},
   "outputs": [],
   "source": [
    "workbook.close()"
   ]
  },
  {
   "cell_type": "code",
   "execution_count": null,
   "metadata": {},
   "outputs": [],
   "source": []
  },
  {
   "cell_type": "code",
   "execution_count": null,
   "metadata": {},
   "outputs": [],
   "source": []
  },
  {
   "cell_type": "code",
   "execution_count": null,
   "metadata": {},
   "outputs": [],
   "source": []
  },
  {
   "cell_type": "code",
   "execution_count": null,
   "metadata": {},
   "outputs": [],
   "source": []
  },
  {
   "cell_type": "code",
   "execution_count": null,
   "metadata": {},
   "outputs": [],
   "source": []
  },
  {
   "cell_type": "code",
   "execution_count": 145,
   "metadata": {},
   "outputs": [],
   "source": []
  },
  {
   "cell_type": "code",
   "execution_count": null,
   "metadata": {},
   "outputs": [],
   "source": []
  }
 ],
 "metadata": {
  "kernelspec": {
   "display_name": "Python 2",
   "language": "python",
   "name": "python2"
  },
  "language_info": {
   "codemirror_mode": {
    "name": "ipython",
    "version": 2
   },
   "file_extension": ".py",
   "mimetype": "text/x-python",
   "name": "python",
   "nbconvert_exporter": "python",
   "pygments_lexer": "ipython2",
   "version": "2.7.14"
  }
 },
 "nbformat": 4,
 "nbformat_minor": 2
}
