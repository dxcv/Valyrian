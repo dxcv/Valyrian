{
 "cells": [
  {
   "cell_type": "markdown",
   "metadata": {},
   "source": [
    "# 纯股债风险平价组合"
   ]
  },
  {
   "cell_type": "code",
   "execution_count": 87,
   "metadata": {},
   "outputs": [],
   "source": [
    "import pandas as pd\n",
    "import numpy as np\n",
    "import matplotlib.pyplot as plt\n",
    "import xlsxwriter\n",
    "from scipy.optimize import minimize, basinhopping\n",
    "import empyrical\n",
    "%matplotlib inline"
   ]
  },
  {
   "cell_type": "code",
   "execution_count": 88,
   "metadata": {},
   "outputs": [],
   "source": [
    "DATA_DIR = '../data/'\n",
    "TOLERANCE = 1e-10"
   ]
  },
  {
   "cell_type": "code",
   "execution_count": 89,
   "metadata": {},
   "outputs": [],
   "source": [
    "def metric(daily_ret):\n",
    "    an_ret = empyrical.annual_return(daily_ret)\n",
    "    sharpe = empyrical.sharpe_ratio(daily_ret, risk_free=0.015/365)\n",
    "    vol = empyrical.annual_volatility(daily_ret)\n",
    "    maxdraw = empyrical.max_drawdown(daily_ret)\n",
    "    print('Annual return: %.2f%%'%(an_ret*100))\n",
    "    print('Sharpe ratio: %.2f'%(sharpe))\n",
    "    print('Annual volatility: %.2f%%'%(vol*100))\n",
    "    print('Max drawdown: %.2f%%'%(maxdraw*100))"
   ]
  },
  {
   "cell_type": "markdown",
   "metadata": {},
   "source": [
    "# 读取数据"
   ]
  },
  {
   "cell_type": "code",
   "execution_count": 90,
   "metadata": {},
   "outputs": [],
   "source": [
    "fname = '%s/assets.xlsx'%(DATA_DIR)\n",
    "odf = pd.read_excel(fname, index_col=0)"
   ]
  },
  {
   "cell_type": "code",
   "execution_count": 91,
   "metadata": {},
   "outputs": [
    {
     "data": {
      "text/html": [
       "<div>\n",
       "<style scoped>\n",
       "    .dataframe tbody tr th:only-of-type {\n",
       "        vertical-align: middle;\n",
       "    }\n",
       "\n",
       "    .dataframe tbody tr th {\n",
       "        vertical-align: top;\n",
       "    }\n",
       "\n",
       "    .dataframe thead th {\n",
       "        text-align: right;\n",
       "    }\n",
       "</style>\n",
       "<table border=\"1\" class=\"dataframe\">\n",
       "  <thead>\n",
       "    <tr style=\"text-align: right;\">\n",
       "      <th></th>\n",
       "      <th>881001.WI</th>\n",
       "      <th>HSI.HI</th>\n",
       "      <th>SPX.GI</th>\n",
       "      <th>CBA00101.CS</th>\n",
       "      <th>AU9999.SGE</th>\n",
       "      <th>B.IPE</th>\n",
       "      <th>H11025.CSI</th>\n",
       "      <th>CCFI.WI</th>\n",
       "      <th>CBA00401.CS</th>\n",
       "      <th>CBA02701.CS</th>\n",
       "      <th>000300.SH</th>\n",
       "      <th>000905.SH</th>\n",
       "      <th>000906.SH</th>\n",
       "      <th>000921.CSI</th>\n",
       "      <th>H00804.CSI</th>\n",
       "    </tr>\n",
       "  </thead>\n",
       "  <tbody>\n",
       "    <tr>\n",
       "      <th>2019-02-28</th>\n",
       "      <td>3928.2468</td>\n",
       "      <td>28633.18</td>\n",
       "      <td>2784.49</td>\n",
       "      <td>189.3338</td>\n",
       "      <td>286.02</td>\n",
       "      <td>66.28</td>\n",
       "      <td>1517.4788</td>\n",
       "      <td>1076.2718</td>\n",
       "      <td>187.0680</td>\n",
       "      <td>176.1590</td>\n",
       "      <td>3669.3703</td>\n",
       "      <td>5025.2913</td>\n",
       "      <td>3889.8856</td>\n",
       "      <td>3968.6833</td>\n",
       "      <td>12281.1598</td>\n",
       "    </tr>\n",
       "    <tr>\n",
       "      <th>2019-03-01</th>\n",
       "      <td>3988.7126</td>\n",
       "      <td>28812.17</td>\n",
       "      <td>2803.69</td>\n",
       "      <td>189.2418</td>\n",
       "      <td>284.49</td>\n",
       "      <td>65.00</td>\n",
       "      <td>1517.5963</td>\n",
       "      <td>1094.3259</td>\n",
       "      <td>186.9298</td>\n",
       "      <td>176.1300</td>\n",
       "      <td>3749.7143</td>\n",
       "      <td>5067.2250</td>\n",
       "      <td>3962.3652</td>\n",
       "      <td>4061.7369</td>\n",
       "      <td>12399.5331</td>\n",
       "    </tr>\n",
       "    <tr>\n",
       "      <th>2019-03-04</th>\n",
       "      <td>4052.0983</td>\n",
       "      <td>28959.59</td>\n",
       "      <td>2792.81</td>\n",
       "      <td>189.2119</td>\n",
       "      <td>280.71</td>\n",
       "      <td>65.55</td>\n",
       "      <td>1517.9392</td>\n",
       "      <td>1085.7210</td>\n",
       "      <td>186.8968</td>\n",
       "      <td>176.0778</td>\n",
       "      <td>3794.1040</td>\n",
       "      <td>5158.2467</td>\n",
       "      <td>4015.0568</td>\n",
       "      <td>4103.4113</td>\n",
       "      <td>12623.9701</td>\n",
       "    </tr>\n",
       "    <tr>\n",
       "      <th>2019-03-05</th>\n",
       "      <td>4118.7246</td>\n",
       "      <td>28961.60</td>\n",
       "      <td>2789.65</td>\n",
       "      <td>189.1511</td>\n",
       "      <td>279.50</td>\n",
       "      <td>65.57</td>\n",
       "      <td>1518.0556</td>\n",
       "      <td>1077.1835</td>\n",
       "      <td>186.8195</td>\n",
       "      <td>176.0505</td>\n",
       "      <td>3816.0132</td>\n",
       "      <td>5295.2878</td>\n",
       "      <td>4058.2327</td>\n",
       "      <td>4116.9255</td>\n",
       "      <td>12927.8819</td>\n",
       "    </tr>\n",
       "    <tr>\n",
       "      <th>2019-03-06</th>\n",
       "      <td>4180.0182</td>\n",
       "      <td>29037.60</td>\n",
       "      <td>2771.45</td>\n",
       "      <td>189.1328</td>\n",
       "      <td>281.25</td>\n",
       "      <td>65.93</td>\n",
       "      <td>1518.1720</td>\n",
       "      <td>1077.9731</td>\n",
       "      <td>186.8384</td>\n",
       "      <td>176.0186</td>\n",
       "      <td>3848.0903</td>\n",
       "      <td>5390.0294</td>\n",
       "      <td>4101.7081</td>\n",
       "      <td>4160.2576</td>\n",
       "      <td>13246.0833</td>\n",
       "    </tr>\n",
       "  </tbody>\n",
       "</table>\n",
       "</div>"
      ],
      "text/plain": [
       "            881001.WI    HSI.HI   SPX.GI  CBA00101.CS  AU9999.SGE  B.IPE  \\\n",
       "2019-02-28  3928.2468  28633.18  2784.49     189.3338      286.02  66.28   \n",
       "2019-03-01  3988.7126  28812.17  2803.69     189.2418      284.49  65.00   \n",
       "2019-03-04  4052.0983  28959.59  2792.81     189.2119      280.71  65.55   \n",
       "2019-03-05  4118.7246  28961.60  2789.65     189.1511      279.50  65.57   \n",
       "2019-03-06  4180.0182  29037.60  2771.45     189.1328      281.25  65.93   \n",
       "\n",
       "            H11025.CSI    CCFI.WI  CBA00401.CS  CBA02701.CS  000300.SH  \\\n",
       "2019-02-28   1517.4788  1076.2718     187.0680     176.1590  3669.3703   \n",
       "2019-03-01   1517.5963  1094.3259     186.9298     176.1300  3749.7143   \n",
       "2019-03-04   1517.9392  1085.7210     186.8968     176.0778  3794.1040   \n",
       "2019-03-05   1518.0556  1077.1835     186.8195     176.0505  3816.0132   \n",
       "2019-03-06   1518.1720  1077.9731     186.8384     176.0186  3848.0903   \n",
       "\n",
       "            000905.SH  000906.SH  000921.CSI  H00804.CSI  \n",
       "2019-02-28  5025.2913  3889.8856   3968.6833  12281.1598  \n",
       "2019-03-01  5067.2250  3962.3652   4061.7369  12399.5331  \n",
       "2019-03-04  5158.2467  4015.0568   4103.4113  12623.9701  \n",
       "2019-03-05  5295.2878  4058.2327   4116.9255  12927.8819  \n",
       "2019-03-06  5390.0294  4101.7081   4160.2576  13246.0833  "
      ]
     },
     "execution_count": 91,
     "metadata": {},
     "output_type": "execute_result"
    }
   ],
   "source": [
    "odf.tail()"
   ]
  },
  {
   "cell_type": "markdown",
   "metadata": {},
   "source": [
    "# 标准风险平价"
   ]
  },
  {
   "cell_type": "code",
   "execution_count": 92,
   "metadata": {},
   "outputs": [],
   "source": [
    "def _allocation_risk(weights, covariances):\n",
    "    \n",
    "    # calculate the risk of the weights distribution\n",
    "    portfolio_risk = np.sqrt((weights * covariances * weights.T))[0, 0]\n",
    "    \n",
    "    # It returns the risk of the weights distribution\n",
    "    return portfolio_risk"
   ]
  },
  {
   "cell_type": "code",
   "execution_count": 93,
   "metadata": {},
   "outputs": [],
   "source": [
    "def _assets_risk_contribution_to_allocation_risk(weights, covariances):\n",
    "    \n",
    "    # calculate the risk of the weights distribution\n",
    "    portfolio_risk = _allocation_risk(weights, covariances)\n",
    "    \n",
    "    # calculate the contribution of each asset to the risk of the weights distribution\n",
    "    assets_risk_contribution = np.multiply(weights.T, covariances * weights.T) / portfolio_risk\n",
    "    \n",
    "    # It returns the contribution of each asset to the risk of the weights distribution\n",
    "    return assets_risk_contribution"
   ]
  },
  {
   "cell_type": "code",
   "execution_count": 94,
   "metadata": {},
   "outputs": [],
   "source": [
    "def _risk_budget_objective_error(weights, args):\n",
    "\n",
    "    # The covariance matrix occupies the first position in the variable\n",
    "    covariances = args[0]\n",
    "\n",
    "    # The desired contribution of each asset to the portfolio risk occupies the second position\n",
    "    assets_risk_budget = args[1]\n",
    "\n",
    "    # We convert the weights to a matrix\n",
    "    weights = np.matrix(weights)\n",
    "\n",
    "    # We calculate the risk of the weights distribution\n",
    "    portfolio_risk = _allocation_risk(weights, covariances)\n",
    "\n",
    "    # We calculate the contribution of each asset to the risk of the weights distribution\n",
    "    assets_risk_contribution = _assets_risk_contribution_to_allocation_risk(weights, covariances)\n",
    "\n",
    "    # We calculate the desired contribution of each asset to the risk of the weights distribution\n",
    "    assets_risk_target = np.asmatrix(np.multiply(portfolio_risk, assets_risk_budget))\n",
    "\n",
    "    # Error between the desired contribution and the calculated contribution of each asset\n",
    "    error = sum(np.square(assets_risk_contribution - assets_risk_target.T))[0, 0]\n",
    "\n",
    "    # It returns the calculated error\n",
    "    return error"
   ]
  },
  {
   "cell_type": "code",
   "execution_count": 95,
   "metadata": {},
   "outputs": [],
   "source": [
    "def _get_risk_parity_weights(covariances, assets_risk_budget, initial_weights):\n",
    "    # Restrictions to consider in the optimisation: only long positions whose\n",
    "    # sum equals 100%\n",
    "    constraints = ({'type': 'eq', 'fun': lambda x: np.sum(x) - 1.0},\n",
    "                   {'type': 'ineq', 'fun': lambda x: x})\n",
    "    # Optimisation process in scipy\n",
    "    optimize_result = minimize(fun=_risk_budget_objective_error,\n",
    "                               x0=initial_weights,\n",
    "                               args=[covariances, assets_risk_budget],\n",
    "                               method='SLSQP',\n",
    "                               constraints=constraints,\n",
    "                               tol=TOLERANCE,\n",
    "                               options={'disp': False})\n",
    "    # Recover the weights from the optimised object\n",
    "    weights = optimize_result.x\n",
    "\n",
    "    # It returns the optimised weights\n",
    "    return weights"
   ]
  },
  {
   "cell_type": "markdown",
   "metadata": {},
   "source": [
    "# 用样本协方差计算风险平价组合权重"
   ]
  },
  {
   "cell_type": "code",
   "execution_count": 96,
   "metadata": {},
   "outputs": [],
   "source": [
    "df = odf[['000906.SH', 'CBA00101.CS']]"
   ]
  },
  {
   "cell_type": "code",
   "execution_count": 97,
   "metadata": {},
   "outputs": [],
   "source": [
    "df = df.replace([0], np.NAN)"
   ]
  },
  {
   "cell_type": "code",
   "execution_count": 98,
   "metadata": {},
   "outputs": [],
   "source": [
    "ret_df = df.pct_change().dropna()"
   ]
  },
  {
   "cell_type": "markdown",
   "metadata": {},
   "source": [
    "### 过去一年协方差"
   ]
  },
  {
   "cell_type": "code",
   "execution_count": 99,
   "metadata": {},
   "outputs": [],
   "source": [
    "covariances = ret_df.iloc[-242:].cov()"
   ]
  },
  {
   "cell_type": "code",
   "execution_count": 100,
   "metadata": {},
   "outputs": [
    {
     "data": {
      "text/html": [
       "<div>\n",
       "<style scoped>\n",
       "    .dataframe tbody tr th:only-of-type {\n",
       "        vertical-align: middle;\n",
       "    }\n",
       "\n",
       "    .dataframe tbody tr th {\n",
       "        vertical-align: top;\n",
       "    }\n",
       "\n",
       "    .dataframe thead th {\n",
       "        text-align: right;\n",
       "    }\n",
       "</style>\n",
       "<table border=\"1\" class=\"dataframe\">\n",
       "  <thead>\n",
       "    <tr style=\"text-align: right;\">\n",
       "      <th></th>\n",
       "      <th>000906.SH</th>\n",
       "      <th>CBA00101.CS</th>\n",
       "    </tr>\n",
       "  </thead>\n",
       "  <tbody>\n",
       "    <tr>\n",
       "      <th>000906.SH</th>\n",
       "      <td>198.368269</td>\n",
       "      <td>-2.147242</td>\n",
       "    </tr>\n",
       "    <tr>\n",
       "      <th>CBA00101.CS</th>\n",
       "      <td>-2.147242</td>\n",
       "      <td>0.513558</td>\n",
       "    </tr>\n",
       "  </tbody>\n",
       "</table>\n",
       "</div>"
      ],
      "text/plain": [
       "              000906.SH  CBA00101.CS\n",
       "000906.SH    198.368269    -2.147242\n",
       "CBA00101.CS   -2.147242     0.513558"
      ]
     },
     "execution_count": 100,
     "metadata": {},
     "output_type": "execute_result"
    }
   ],
   "source": [
    "covariances*1e6"
   ]
  },
  {
   "cell_type": "markdown",
   "metadata": {},
   "source": [
    "### 计算权重"
   ]
  },
  {
   "cell_type": "code",
   "execution_count": 101,
   "metadata": {},
   "outputs": [],
   "source": [
    "n = df.shape[1]\n",
    "init_weights = np.array([1. / n] * n)\n",
    "assets_risk_budget = np.array([1./2, 1./2])\n",
    "# assets_risk_budget = np.array([1. / n] * n)"
   ]
  },
  {
   "cell_type": "code",
   "execution_count": 102,
   "metadata": {},
   "outputs": [
    {
     "data": {
      "text/plain": [
       "array([0.5, 0.5])"
      ]
     },
     "execution_count": 102,
     "metadata": {},
     "output_type": "execute_result"
    }
   ],
   "source": [
    "assets_risk_budget"
   ]
  },
  {
   "cell_type": "markdown",
   "metadata": {},
   "source": [
    "### 等权下的风险贡献"
   ]
  },
  {
   "cell_type": "code",
   "execution_count": 103,
   "metadata": {},
   "outputs": [],
   "source": [
    "rc = _assets_risk_contribution_to_allocation_risk(np.matrix(init_weights), covariances.values)"
   ]
  },
  {
   "cell_type": "code",
   "execution_count": 104,
   "metadata": {},
   "outputs": [
    {
     "data": {
      "text/plain": [
       "matrix([[ 7.03328562e-03],\n",
       "        [-5.85572403e-05]])"
      ]
     },
     "execution_count": 104,
     "metadata": {},
     "output_type": "execute_result"
    }
   ],
   "source": [
    "rc"
   ]
  },
  {
   "cell_type": "markdown",
   "metadata": {},
   "source": [
    "### 风险权重相等"
   ]
  },
  {
   "cell_type": "code",
   "execution_count": 105,
   "metadata": {},
   "outputs": [],
   "source": [
    "weights = _get_risk_parity_weights(covariances.values*1e4, assets_risk_budget, init_weights)"
   ]
  },
  {
   "cell_type": "code",
   "execution_count": 106,
   "metadata": {},
   "outputs": [
    {
     "data": {
      "text/plain": [
       "array([-1.08420217e-19,  1.00000000e+00])"
      ]
     },
     "execution_count": 106,
     "metadata": {},
     "output_type": "execute_result"
    }
   ],
   "source": [
    "weights"
   ]
  },
  {
   "cell_type": "code",
   "execution_count": 107,
   "metadata": {},
   "outputs": [],
   "source": [
    "rc = _assets_risk_contribution_to_allocation_risk(np.matrix(weights), covariances.values)"
   ]
  },
  {
   "cell_type": "code",
   "execution_count": 108,
   "metadata": {},
   "outputs": [
    {
     "data": {
      "text/plain": [
       "matrix([[3.24860073e-22],\n",
       "        [7.16629785e-04]])"
      ]
     },
     "execution_count": 108,
     "metadata": {},
     "output_type": "execute_result"
    }
   ],
   "source": [
    "rc"
   ]
  },
  {
   "cell_type": "code",
   "execution_count": 109,
   "metadata": {},
   "outputs": [
    {
     "data": {
      "text/plain": [
       "matrix([[-0.5,  0.5]])"
      ]
     },
     "execution_count": 109,
     "metadata": {},
     "output_type": "execute_result"
    }
   ],
   "source": [
    "(rc / rc.sum()).reshape(-1) - assets_risk_budget"
   ]
  },
  {
   "cell_type": "code",
   "execution_count": 110,
   "metadata": {},
   "outputs": [
    {
     "data": {
      "text/plain": [
       "True"
      ]
     },
     "execution_count": 110,
     "metadata": {},
     "output_type": "execute_result"
    }
   ],
   "source": [
    "abs((rc / rc.sum() - assets_risk_budget).sum()) < TOLERANCE"
   ]
  },
  {
   "cell_type": "markdown",
   "metadata": {},
   "source": [
    "# 回测"
   ]
  },
  {
   "cell_type": "code",
   "execution_count": 111,
   "metadata": {},
   "outputs": [],
   "source": [
    "new_df = df[(df.index >= ret_df.index[0]) & (df.index <= ret_df.index[-1])]"
   ]
  },
  {
   "cell_type": "code",
   "execution_count": 112,
   "metadata": {},
   "outputs": [
    {
     "data": {
      "text/html": [
       "<div>\n",
       "<style scoped>\n",
       "    .dataframe tbody tr th:only-of-type {\n",
       "        vertical-align: middle;\n",
       "    }\n",
       "\n",
       "    .dataframe tbody tr th {\n",
       "        vertical-align: top;\n",
       "    }\n",
       "\n",
       "    .dataframe thead th {\n",
       "        text-align: right;\n",
       "    }\n",
       "</style>\n",
       "<table border=\"1\" class=\"dataframe\">\n",
       "  <thead>\n",
       "    <tr style=\"text-align: right;\">\n",
       "      <th></th>\n",
       "      <th>000906.SH</th>\n",
       "      <th>CBA00101.CS</th>\n",
       "    </tr>\n",
       "  </thead>\n",
       "  <tbody>\n",
       "    <tr>\n",
       "      <th>2005-01-05</th>\n",
       "      <td>995.576</td>\n",
       "      <td>105.9273</td>\n",
       "    </tr>\n",
       "    <tr>\n",
       "      <th>2005-01-06</th>\n",
       "      <td>986.216</td>\n",
       "      <td>105.5623</td>\n",
       "    </tr>\n",
       "    <tr>\n",
       "      <th>2005-01-07</th>\n",
       "      <td>987.693</td>\n",
       "      <td>105.7206</td>\n",
       "    </tr>\n",
       "    <tr>\n",
       "      <th>2005-01-10</th>\n",
       "      <td>997.186</td>\n",
       "      <td>105.6599</td>\n",
       "    </tr>\n",
       "    <tr>\n",
       "      <th>2005-01-11</th>\n",
       "      <td>1000.098</td>\n",
       "      <td>105.7978</td>\n",
       "    </tr>\n",
       "  </tbody>\n",
       "</table>\n",
       "</div>"
      ],
      "text/plain": [
       "            000906.SH  CBA00101.CS\n",
       "2005-01-05    995.576     105.9273\n",
       "2005-01-06    986.216     105.5623\n",
       "2005-01-07    987.693     105.7206\n",
       "2005-01-10    997.186     105.6599\n",
       "2005-01-11   1000.098     105.7978"
      ]
     },
     "execution_count": 112,
     "metadata": {},
     "output_type": "execute_result"
    }
   ],
   "source": [
    "new_df.head()"
   ]
  },
  {
   "cell_type": "code",
   "execution_count": 113,
   "metadata": {},
   "outputs": [],
   "source": [
    "weight = pd.DataFrame(columns=new_df.columns, index=new_df.index)\n",
    "n, k = new_df.shape[1], 242\n",
    "wb = np.zeros(n)\n",
    "assets_risk_budget = np.array([1./2, 1./2])\n",
    "init_weights = np.array([1. / n] * n)\n",
    "for date in new_df.index:\n",
    "    weight.loc[date] = wb\n",
    "    if date.dayofweek == 4:\n",
    "        past_return = ret_df[ret_df.index <= date][-k:]\n",
    "        if past_return.shape[0] == k:\n",
    "            covariances = past_return.cov()\n",
    "            temp = wb.copy()\n",
    "            wb = _get_risk_parity_weights(covariances.values*1e4, assets_risk_budget, init_weights)\n",
    "            # check risk contribution\n",
    "            rc = _assets_risk_contribution_to_allocation_risk(np.matrix(weights), covariances.values)\n",
    "            if abs((rc / rc.sum() - assets_risk_budget).sum()) > TOLERANCE:\n",
    "                print(date)\n",
    "                wb = temp.copy()"
   ]
  },
  {
   "cell_type": "code",
   "execution_count": 114,
   "metadata": {},
   "outputs": [],
   "source": [
    "portfolio_ret = (weight * ret_df).sum(axis=1)\n",
    "portfolio_ret = portfolio_ret[portfolio_ret != 0]"
   ]
  },
  {
   "cell_type": "code",
   "execution_count": 115,
   "metadata": {},
   "outputs": [],
   "source": [
    "weight_plot = weight.drop_duplicates().iloc[1:].astype(np.float32)"
   ]
  },
  {
   "cell_type": "code",
   "execution_count": 116,
   "metadata": {},
   "outputs": [
    {
     "data": {
      "image/png": "[encoded data removed]",
      "text/plain": [
       "<Figure size 1800x720 with 1 Axes>"
      ]
     },
     "metadata": {},
     "output_type": "display_data"
    }
   ],
   "source": [
    "fig, ax = plt.subplots(figsize=(25, 10))\n",
    "_ = ax.stackplot(weight_plot.index, \n",
    "                 weight_plot['000906.SH'],\n",
    "                 weight_plot['CBA00101.CS'], \n",
    "                 labels=[u'中证800', u'中债新综合'])\n",
    "ax.legend(loc='upper left', fontsize=15)\n",
    "ax.set_title(u'风险平价组合历史权重', fontsize=25)\n",
    "ax.set_ylabel(u'权重', fontsize=15)\n",
    "ax.set_xlabel(u'日期', fontsize=15)\n",
    "fig.savefig('../pic/stock-bond-base_portfolio_weight.jpg', dpi=200, bbox_inches='tight')"
   ]
  },
  {
   "cell_type": "code",
   "execution_count": 117,
   "metadata": {},
   "outputs": [
    {
     "name": "stdout",
     "output_type": "stream",
     "text": [
      "Annual return: 4.97%\n",
      "Sharpe ratio: 2.37\n",
      "Annual volatility: 1.62%\n",
      "Max drawdown: -3.64%\n"
     ]
    }
   ],
   "source": [
    "metric(portfolio_ret)"
   ]
  },
  {
   "cell_type": "code",
   "execution_count": 119,
   "metadata": {},
   "outputs": [
    {
     "data": {
      "image/png": "[encoded data removed]",
      "text/plain": [
       "<Figure size 1800x720 with 1 Axes>"
      ]
     },
     "metadata": {},
     "output_type": "display_data"
    }
   ],
   "source": [
    "fig, ax = plt.subplots(figsize=(25, 10))\n",
    "ax.plot((1 + portfolio_ret).cumprod(), color='blue', \n",
    "        label=u'年化收益率：4.97%\\n夏普率：2.37\\n年化波动率：1.62%\\n最大回撤：-3.64%')\n",
    "ax.set_title(u'股债风险平价组合历史净值', fontsize=25)\n",
    "ax.set_ylabel(u'净值', fontsize=15)\n",
    "ax.set_xlabel(u'日期', fontsize=15)\n",
    "ax.legend(loc='upper left', fontsize=15)\n",
    "fig.savefig('../pic/stock-bond-base_portfolio_return.jpg', dpi=200, bbox_inches='tight')"
   ]
  },
  {
   "cell_type": "markdown",
   "metadata": {},
   "source": [
    "# 今年以来风险平价组合与各类资产情况"
   ]
  },
  {
   "cell_type": "code",
   "execution_count": 120,
   "metadata": {},
   "outputs": [],
   "source": [
    "fname = u'../data/stock-bond-base_stats.xlsx'"
   ]
  },
  {
   "cell_type": "code",
   "execution_count": 121,
   "metadata": {},
   "outputs": [],
   "source": [
    "workbook = xlsxwriter.Workbook(fname)\n",
    "worksheet = workbook.add_worksheet()"
   ]
  },
  {
   "cell_type": "code",
   "execution_count": 122,
   "metadata": {},
   "outputs": [],
   "source": [
    "col_format = workbook.add_format({'bold': True, 'align': 'center', 'font_name': u'楷体', 'font_color': '#FFFFFF', 'bg_color': '#993333'})\n",
    "cell_format = workbook.add_format({'font_name': u'楷体'})\n",
    "percent_format = workbook.add_format({'font_name': u'楷体', 'num_format': '0.00%'})\n",
    "number_format = workbook.add_format({'font_name': u'楷体', 'num_format': '0.00'})"
   ]
  },
  {
   "cell_type": "code",
   "execution_count": 123,
   "metadata": {},
   "outputs": [
    {
     "data": {
      "text/plain": [
       "0"
      ]
     },
     "execution_count": 123,
     "metadata": {},
     "output_type": "execute_result"
    }
   ],
   "source": [
    "worksheet.write('A1', '', col_format)\n",
    "worksheet.write('B1', u'收益率(周)', col_format)\n",
    "worksheet.write('C1', u'收益率(月)', col_format)\n",
    "worksheet.write('D1', u'收益率(年)', col_format)\n",
    "worksheet.write('E1', u'波动率(年)', col_format)\n",
    "worksheet.write('F1', u'夏普率(年)', col_format)\n",
    "worksheet.write('G1', u'当前权重', col_format)\n",
    "worksheet.write('H1', u'风险贡献', col_format)"
   ]
  },
  {
   "cell_type": "code",
   "execution_count": 124,
   "metadata": {},
   "outputs": [],
   "source": [
    "weights = weight.iloc[-1]"
   ]
  },
  {
   "cell_type": "code",
   "execution_count": 125,
   "metadata": {},
   "outputs": [
    {
     "data": {
      "text/plain": [
       "0"
      ]
     },
     "execution_count": 125,
     "metadata": {},
     "output_type": "execute_result"
    }
   ],
   "source": [
    "worksheet.write('A2', u'中证800', cell_format)\n",
    "s = ret_df[ret_df.index >= '2019-01-01']['000906.SH']\n",
    "retw = empyrical.cum_returns_final(s[-5:])\n",
    "retm = empyrical.cum_returns_final(s[-20:])\n",
    "ret = empyrical.cum_returns_final(s)\n",
    "vol = empyrical.annual_volatility(s)\n",
    "# sh = (empyrical.cum_returns_final(s) - \n",
    "#      empyrical.cum_returns_final(odf[odf.index >= '2019-01-01']['H11025.CSI'].pct_change())) / vol\n",
    "sh = empyrical.sharpe_ratio(s, risk_free=0.015/365)\n",
    "w = weights['000906.SH']\n",
    "rc = assets_risk_budget[0]\n",
    "worksheet.write('B2', retw, percent_format)\n",
    "worksheet.write('C2', retm, percent_format)\n",
    "worksheet.write('D2', ret, percent_format)\n",
    "worksheet.write('E2', vol, percent_format)\n",
    "worksheet.write('F2', sh, number_format)\n",
    "worksheet.write('G2', w, percent_format)\n",
    "worksheet.write('H2', rc, percent_format)"
   ]
  },
  {
   "cell_type": "code",
   "execution_count": 126,
   "metadata": {},
   "outputs": [
    {
     "data": {
      "text/plain": [
       "0"
      ]
     },
     "execution_count": 126,
     "metadata": {},
     "output_type": "execute_result"
    }
   ],
   "source": [
    "worksheet.write('A3', u'中债新综合', cell_format)\n",
    "s = ret_df[ret_df.index >= '2019-01-01']['CBA00101.CS']\n",
    "retw = empyrical.cum_returns_final(s[-5:])\n",
    "retm = empyrical.cum_returns_final(s[-20:])\n",
    "ret = empyrical.cum_returns_final(s)\n",
    "vol = empyrical.annual_volatility(s)\n",
    "# sh = (empyrical.cum_returns_final(s) - \n",
    "#      empyrical.cum_returns_final(odf[odf.index >= '2019-01-01']['H11025.CSI'].pct_change())) / vol\n",
    "sh = empyrical.sharpe_ratio(s, risk_free=0.015/365)\n",
    "w = weights['CBA00101.CS']\n",
    "rc = assets_risk_budget[1]\n",
    "worksheet.write('B3', retw, percent_format)\n",
    "worksheet.write('C3', retm, percent_format)\n",
    "worksheet.write('D3', ret, percent_format)\n",
    "worksheet.write('E3', vol, percent_format)\n",
    "worksheet.write('F3', sh, number_format)\n",
    "worksheet.write('G3', w, percent_format)\n",
    "worksheet.write('H3', rc, percent_format)"
   ]
  },
  {
   "cell_type": "code",
   "execution_count": 127,
   "metadata": {},
   "outputs": [
    {
     "data": {
      "text/plain": [
       "0"
      ]
     },
     "execution_count": 127,
     "metadata": {},
     "output_type": "execute_result"
    }
   ],
   "source": [
    "worksheet.write('A4', u'现金', cell_format)\n",
    "s = odf[odf.index >= '2019-01-01']['H11025.CSI'].pct_change()\n",
    "retw = empyrical.cum_returns_final(s[-5:])\n",
    "retm = empyrical.cum_returns_final(s[-20:])\n",
    "ret = empyrical.cum_returns_final(s)\n",
    "vol = empyrical.annual_volatility(s)\n",
    "# sh = empyrical.cum_returns_final(s) / vol\n",
    "sh = empyrical.sharpe_ratio(s, risk_free=0.015/365)\n",
    "worksheet.write('B4', retw, percent_format)\n",
    "worksheet.write('C4', retm, percent_format)\n",
    "worksheet.write('D4', ret, percent_format)\n",
    "worksheet.write('E4', vol, percent_format)\n",
    "worksheet.write('F4', sh, number_format)\n",
    "worksheet.write('G4', 0, percent_format)\n",
    "worksheet.write('H4', 0, percent_format)"
   ]
  },
  {
   "cell_type": "code",
   "execution_count": 128,
   "metadata": {},
   "outputs": [
    {
     "data": {
      "text/plain": [
       "0"
      ]
     },
     "execution_count": 128,
     "metadata": {},
     "output_type": "execute_result"
    }
   ],
   "source": [
    "worksheet.write('A5', u'风险平价组合', cell_format)\n",
    "s = portfolio_ret[portfolio_ret.index >= '2019-01-01']\n",
    "retw = empyrical.cum_returns_final(s[-5:])\n",
    "retm = empyrical.cum_returns_final(s[-20:])\n",
    "ret = empyrical.cum_returns_final(s)\n",
    "vol = empyrical.annual_volatility(s)\n",
    "# sh = (empyrical.cum_returns_final(s) - \n",
    "#      empyrical.cum_returns_final(odf[odf.index >= '2019-01-01']['H11025.CSI'].pct_change())) / vol\n",
    "sh = empyrical.sharpe_ratio(s, risk_free=0.015/365)\n",
    "worksheet.write('B5', retw, percent_format)\n",
    "worksheet.write('C5', retm, percent_format)\n",
    "worksheet.write('D5', ret, percent_format)\n",
    "worksheet.write('E5', vol, percent_format)\n",
    "worksheet.write('F5', sh, number_format)\n",
    "worksheet.write('G5', 1, percent_format)\n",
    "worksheet.write('H5', 1, percent_format)"
   ]
  },
  {
   "cell_type": "code",
   "execution_count": 129,
   "metadata": {},
   "outputs": [
    {
     "data": {
      "text/plain": [
       "0"
      ]
     },
     "execution_count": 129,
     "metadata": {},
     "output_type": "execute_result"
    }
   ],
   "source": [
    "worksheet.set_column(0, 0, 15)"
   ]
  },
  {
   "cell_type": "code",
   "execution_count": 130,
   "metadata": {},
   "outputs": [],
   "source": [
    "workbook.close()"
   ]
  },
  {
   "cell_type": "code",
   "execution_count": null,
   "metadata": {},
   "outputs": [],
   "source": []
  },
  {
   "cell_type": "code",
   "execution_count": null,
   "metadata": {},
   "outputs": [],
   "source": []
  },
  {
   "cell_type": "code",
   "execution_count": null,
   "metadata": {},
   "outputs": [],
   "source": []
  },
  {
   "cell_type": "code",
   "execution_count": null,
   "metadata": {},
   "outputs": [],
   "source": []
  },
  {
   "cell_type": "code",
   "execution_count": null,
   "metadata": {},
   "outputs": [],
   "source": []
  },
  {
   "cell_type": "code",
   "execution_count": null,
   "metadata": {},
   "outputs": [],
   "source": []
  },
  {
   "cell_type": "code",
   "execution_count": null,
   "metadata": {},
   "outputs": [],
   "source": []
  }
 ],
 "metadata": {
  "kernelspec": {
   "display_name": "Python 2",
   "language": "python",
   "name": "python2"
  },
  "language_info": {
   "codemirror_mode": {
    "name": "ipython",
    "version": 2
   },
   "file_extension": ".py",
   "mimetype": "text/x-python",
   "name": "python",
   "nbconvert_exporter": "python",
   "pygments_lexer": "ipython2",
   "version": "2.7.14"
  }
 },
 "nbformat": 4,
 "nbformat_minor": 2
}
