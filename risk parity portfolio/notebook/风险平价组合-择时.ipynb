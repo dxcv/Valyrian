{
 "cells": [
  {
   "cell_type": "markdown",
   "metadata": {},
   "source": [
    "# 风险平价组合-择时\n",
    "\n",
    "根据一些择时指标在风险平价组合的基础上进行择时操作以提升收益率"
   ]
  },
  {
   "cell_type": "code",
   "execution_count": 1,
   "metadata": {},
   "outputs": [],
   "source": [
    "import pandas as pd\n",
    "import numpy as np\n",
    "import matplotlib.pyplot as plt\n",
    "import xlsxwriter\n",
    "from scipy.optimize import minimize, basinhopping\n",
    "import empyrical\n",
    "%matplotlib inline"
   ]
  },
  {
   "cell_type": "code",
   "execution_count": 2,
   "metadata": {},
   "outputs": [],
   "source": [
    "DATA_DIR = '../data/'\n",
    "TOLERANCE = 1e-10"
   ]
  },
  {
   "cell_type": "code",
   "execution_count": 3,
   "metadata": {},
   "outputs": [],
   "source": [
    "def metric(daily_ret):\n",
    "    an_ret = empyrical.annual_return(daily_ret)\n",
    "    sharpe = empyrical.sharpe_ratio(daily_ret)\n",
    "    vol = empyrical.annual_volatility(daily_ret)\n",
    "    maxdraw = empyrical.max_drawdown(daily_ret)\n",
    "    print('Annual return: %.2f%%'%(an_ret*100))\n",
    "    print('Sharpe ratio: %.2f'%(sharpe))\n",
    "    print('Annual volatility: %.2f%%'%(vol*100))\n",
    "    print('Max drawdown: %.2f%%'%(maxdraw*100))"
   ]
  },
  {
   "cell_type": "markdown",
   "metadata": {},
   "source": [
    "# 读取数据"
   ]
  },
  {
   "cell_type": "code",
   "execution_count": 4,
   "metadata": {},
   "outputs": [],
   "source": [
    "fname = '%s/assets.xlsx'%(DATA_DIR)\n",
    "odf = pd.read_excel(fname, index_col=0)"
   ]
  },
  {
   "cell_type": "code",
   "execution_count": 5,
   "metadata": {},
   "outputs": [
    {
     "data": {
      "text/html": [
       "<div>\n",
       "<style scoped>\n",
       "    .dataframe tbody tr th:only-of-type {\n",
       "        vertical-align: middle;\n",
       "    }\n",
       "\n",
       "    .dataframe tbody tr th {\n",
       "        vertical-align: top;\n",
       "    }\n",
       "\n",
       "    .dataframe thead th {\n",
       "        text-align: right;\n",
       "    }\n",
       "</style>\n",
       "<table border=\"1\" class=\"dataframe\">\n",
       "  <thead>\n",
       "    <tr style=\"text-align: right;\">\n",
       "      <th></th>\n",
       "      <th>881001.WI</th>\n",
       "      <th>HSI.HI</th>\n",
       "      <th>SPX.GI</th>\n",
       "      <th>CBA00101.CS</th>\n",
       "      <th>AU9999.SGE</th>\n",
       "      <th>B.IPE</th>\n",
       "      <th>H11025.CSI</th>\n",
       "      <th>CCFI.WI</th>\n",
       "      <th>CBA00401.CS</th>\n",
       "      <th>CBA02701.CS</th>\n",
       "    </tr>\n",
       "  </thead>\n",
       "  <tbody>\n",
       "    <tr>\n",
       "      <th>2018-10-16</th>\n",
       "      <td>3246.2767</td>\n",
       "      <td>25462.26</td>\n",
       "      <td>2809.92</td>\n",
       "      <td>183.5372</td>\n",
       "      <td>274.25</td>\n",
       "      <td>81.56</td>\n",
       "      <td>1501.0483</td>\n",
       "      <td>1165.6896</td>\n",
       "      <td>180.4601</td>\n",
       "      <td>171.5733</td>\n",
       "    </tr>\n",
       "    <tr>\n",
       "      <th>2018-10-17</th>\n",
       "      <td>3268.2958</td>\n",
       "      <td>25462.26</td>\n",
       "      <td>2809.21</td>\n",
       "      <td>183.5771</td>\n",
       "      <td>273.74</td>\n",
       "      <td>80.36</td>\n",
       "      <td>1501.1719</td>\n",
       "      <td>1185.4492</td>\n",
       "      <td>180.4989</td>\n",
       "      <td>171.6014</td>\n",
       "    </tr>\n",
       "    <tr>\n",
       "      <th>2018-10-18</th>\n",
       "      <td>3179.5353</td>\n",
       "      <td>25454.55</td>\n",
       "      <td>2768.78</td>\n",
       "      <td>183.7196</td>\n",
       "      <td>273.65</td>\n",
       "      <td>78.77</td>\n",
       "      <td>1501.2935</td>\n",
       "      <td>1167.0738</td>\n",
       "      <td>180.7241</td>\n",
       "      <td>171.6561</td>\n",
       "    </tr>\n",
       "    <tr>\n",
       "      <th>2018-10-19</th>\n",
       "      <td>3263.7825</td>\n",
       "      <td>25561.40</td>\n",
       "      <td>2767.78</td>\n",
       "      <td>183.7705</td>\n",
       "      <td>274.20</td>\n",
       "      <td>79.54</td>\n",
       "      <td>1501.4176</td>\n",
       "      <td>1155.1030</td>\n",
       "      <td>180.7736</td>\n",
       "      <td>171.6891</td>\n",
       "    </tr>\n",
       "    <tr>\n",
       "      <th>2018-10-22</th>\n",
       "      <td>3412.7501</td>\n",
       "      <td>26153.15</td>\n",
       "      <td>2755.88</td>\n",
       "      <td>183.7849</td>\n",
       "      <td>274.70</td>\n",
       "      <td>79.57</td>\n",
       "      <td>1501.4176</td>\n",
       "      <td>1161.2828</td>\n",
       "      <td>180.7003</td>\n",
       "      <td>171.7606</td>\n",
       "    </tr>\n",
       "  </tbody>\n",
       "</table>\n",
       "</div>"
      ],
      "text/plain": [
       "            881001.WI    HSI.HI   SPX.GI  CBA00101.CS  AU9999.SGE  B.IPE  \\\n",
       "2018-10-16  3246.2767  25462.26  2809.92     183.5372      274.25  81.56   \n",
       "2018-10-17  3268.2958  25462.26  2809.21     183.5771      273.74  80.36   \n",
       "2018-10-18  3179.5353  25454.55  2768.78     183.7196      273.65  78.77   \n",
       "2018-10-19  3263.7825  25561.40  2767.78     183.7705      274.20  79.54   \n",
       "2018-10-22  3412.7501  26153.15  2755.88     183.7849      274.70  79.57   \n",
       "\n",
       "            H11025.CSI    CCFI.WI  CBA00401.CS  CBA02701.CS  \n",
       "2018-10-16   1501.0483  1165.6896     180.4601     171.5733  \n",
       "2018-10-17   1501.1719  1185.4492     180.4989     171.6014  \n",
       "2018-10-18   1501.2935  1167.0738     180.7241     171.6561  \n",
       "2018-10-19   1501.4176  1155.1030     180.7736     171.6891  \n",
       "2018-10-22   1501.4176  1161.2828     180.7003     171.7606  "
      ]
     },
     "execution_count": 5,
     "metadata": {},
     "output_type": "execute_result"
    }
   ],
   "source": [
    "odf.tail()"
   ]
  },
  {
   "cell_type": "markdown",
   "metadata": {},
   "source": [
    "# 标准风险平价"
   ]
  },
  {
   "cell_type": "code",
   "execution_count": 6,
   "metadata": {},
   "outputs": [],
   "source": [
    "def _allocation_risk(weights, covariances):\n",
    "    \n",
    "    # calculate the risk of the weights distribution\n",
    "    portfolio_risk = np.sqrt((weights * covariances * weights.T))[0, 0]\n",
    "    \n",
    "    # It returns the risk of the weights distribution\n",
    "    return portfolio_risk"
   ]
  },
  {
   "cell_type": "code",
   "execution_count": 7,
   "metadata": {},
   "outputs": [],
   "source": [
    "def _assets_risk_contribution_to_allocation_risk(weights, covariances):\n",
    "    \n",
    "    # calculate the risk of the weights distribution\n",
    "    portfolio_risk = _allocation_risk(weights, covariances)\n",
    "    \n",
    "    # calculate the contribution of each asset to the risk of the weights distribution\n",
    "    assets_risk_contribution = np.multiply(weights.T, covariances * weights.T) / portfolio_risk\n",
    "    \n",
    "    # It returns the contribution of each asset to the risk of the weights distribution\n",
    "    return assets_risk_contribution"
   ]
  },
  {
   "cell_type": "code",
   "execution_count": 8,
   "metadata": {},
   "outputs": [],
   "source": [
    "def _risk_budget_objective_error(weights, args):\n",
    "\n",
    "    # The covariance matrix occupies the first position in the variable\n",
    "    covariances = args[0]\n",
    "\n",
    "    # The desired contribution of each asset to the portfolio risk occupies the second position\n",
    "    assets_risk_budget = args[1]\n",
    "\n",
    "    # We convert the weights to a matrix\n",
    "    weights = np.matrix(weights)\n",
    "\n",
    "    # We calculate the risk of the weights distribution\n",
    "    portfolio_risk = _allocation_risk(weights, covariances)\n",
    "\n",
    "    # We calculate the contribution of each asset to the risk of the weights distribution\n",
    "    assets_risk_contribution = _assets_risk_contribution_to_allocation_risk(weights, covariances)\n",
    "\n",
    "    # We calculate the desired contribution of each asset to the risk of the weights distribution\n",
    "    assets_risk_target = np.asmatrix(np.multiply(portfolio_risk, assets_risk_budget))\n",
    "\n",
    "    # Error between the desired contribution and the calculated contribution of each asset\n",
    "    error = sum(np.square(assets_risk_contribution - assets_risk_target.T))[0, 0]\n",
    "\n",
    "    # It returns the calculated error\n",
    "    return error"
   ]
  },
  {
   "cell_type": "code",
   "execution_count": 9,
   "metadata": {},
   "outputs": [],
   "source": [
    "def _get_risk_parity_weights(covariances, assets_risk_budget, initial_weights):\n",
    "    # Restrictions to consider in the optimisation: only long positions whose\n",
    "    # sum equals 100%\n",
    "    constraints = ({'type': 'eq', 'fun': lambda x: np.sum(x) - 1.0},\n",
    "                   {'type': 'ineq', 'fun': lambda x: x})\n",
    "    # Optimisation process in scipy\n",
    "    optimize_result = minimize(fun=_risk_budget_objective_error,\n",
    "                               x0=initial_weights,\n",
    "                               args=[covariances, assets_risk_budget],\n",
    "                               method='SLSQP',\n",
    "                               constraints=constraints,\n",
    "                               tol=TOLERANCE,\n",
    "                               options={'disp': False})\n",
    "    # Recover the weights from the optimised object\n",
    "    weights = optimize_result.x\n",
    "\n",
    "    # It returns the optimised weights\n",
    "    return weights"
   ]
  },
  {
   "cell_type": "markdown",
   "metadata": {},
   "source": [
    "# 用样本协方差计算风险平价组合权重"
   ]
  },
  {
   "cell_type": "code",
   "execution_count": 11,
   "metadata": {},
   "outputs": [],
   "source": [
    "df = odf[['881001.WI', 'HSI.HI', 'SPX.GI', 'CBA00401.CS', 'CBA02701.CS']]"
   ]
  },
  {
   "cell_type": "code",
   "execution_count": 75,
   "metadata": {},
   "outputs": [],
   "source": [
    "df = df.replace([0], np.NAN)"
   ]
  },
  {
   "cell_type": "code",
   "execution_count": 76,
   "metadata": {},
   "outputs": [],
   "source": [
    "ret_df = df.pct_change().dropna()"
   ]
  },
  {
   "cell_type": "markdown",
   "metadata": {},
   "source": [
    "### 过去一年协方差"
   ]
  },
  {
   "cell_type": "code",
   "execution_count": 77,
   "metadata": {},
   "outputs": [],
   "source": [
    "covariances = ret_df.iloc[-242:].cov()"
   ]
  },
  {
   "cell_type": "code",
   "execution_count": 78,
   "metadata": {},
   "outputs": [
    {
     "data": {
      "text/plain": [
       "0.20013630623278839"
      ]
     },
     "execution_count": 78,
     "metadata": {},
     "output_type": "execute_result"
    }
   ],
   "source": [
    "empyrical.annual_volatility(ret_df['SPX.GI'])"
   ]
  },
  {
   "cell_type": "markdown",
   "metadata": {},
   "source": [
    "### 计算权重"
   ]
  },
  {
   "cell_type": "code",
   "execution_count": 79,
   "metadata": {},
   "outputs": [],
   "source": [
    "n = df.shape[1]\n",
    "init_weights = np.array([1. / n] * n)\n",
    "assets_risk_budget = np.array([1./6, 1./6, 1./6, 1./4, 1./4])\n",
    "# assets_risk_budget = np.array([1. / n] * n)"
   ]
  },
  {
   "cell_type": "code",
   "execution_count": 80,
   "metadata": {},
   "outputs": [
    {
     "data": {
      "text/plain": [
       "array([0.16666667, 0.16666667, 0.16666667, 0.25      , 0.25      ])"
      ]
     },
     "execution_count": 80,
     "metadata": {},
     "output_type": "execute_result"
    }
   ],
   "source": [
    "assets_risk_budget"
   ]
  },
  {
   "cell_type": "markdown",
   "metadata": {},
   "source": [
    "### 等权下的风险贡献"
   ]
  },
  {
   "cell_type": "code",
   "execution_count": 82,
   "metadata": {},
   "outputs": [],
   "source": [
    "rc = _assets_risk_contribution_to_allocation_risk(np.matrix(init_weights), covariances.values)"
   ]
  },
  {
   "cell_type": "code",
   "execution_count": 83,
   "metadata": {},
   "outputs": [
    {
     "data": {
      "text/plain": [
       "matrix([[ 2.12009782e-03],\n",
       "        [ 2.06418629e-03],\n",
       "        [ 8.14506847e-04],\n",
       "        [-2.82180408e-05],\n",
       "        [-1.89712031e-06]])"
      ]
     },
     "execution_count": 83,
     "metadata": {},
     "output_type": "execute_result"
    }
   ],
   "source": [
    "rc"
   ]
  },
  {
   "cell_type": "markdown",
   "metadata": {},
   "source": [
    "### 风险权重相等"
   ]
  },
  {
   "cell_type": "code",
   "execution_count": 84,
   "metadata": {},
   "outputs": [],
   "source": [
    "weights = _get_risk_parity_weights(covariances.values*1e7, assets_risk_budget, init_weights)"
   ]
  },
  {
   "cell_type": "code",
   "execution_count": 85,
   "metadata": {},
   "outputs": [
    {
     "data": {
      "text/plain": [
       "array([0.02116624, 0.02119659, 0.03591011, 0.31264692, 0.60908013])"
      ]
     },
     "execution_count": 85,
     "metadata": {},
     "output_type": "execute_result"
    }
   ],
   "source": [
    "weights"
   ]
  },
  {
   "cell_type": "code",
   "execution_count": 86,
   "metadata": {},
   "outputs": [],
   "source": [
    "rc = _assets_risk_contribution_to_allocation_risk(np.matrix(weights), covariances.values)"
   ]
  },
  {
   "cell_type": "code",
   "execution_count": 87,
   "metadata": {},
   "outputs": [
    {
     "data": {
      "text/plain": [
       "matrix([[0.16666658],\n",
       "        [0.16666662],\n",
       "        [0.16666676],\n",
       "        [0.24999986],\n",
       "        [0.25000019]])"
      ]
     },
     "execution_count": 87,
     "metadata": {},
     "output_type": "execute_result"
    }
   ],
   "source": [
    "rc / rc.sum()"
   ]
  },
  {
   "cell_type": "code",
   "execution_count": 88,
   "metadata": {},
   "outputs": [
    {
     "data": {
      "text/plain": [
       "True"
      ]
     },
     "execution_count": 88,
     "metadata": {},
     "output_type": "execute_result"
    }
   ],
   "source": [
    "abs((rc / rc.sum() - assets_risk_budget).sum()) < TOLERANCE"
   ]
  },
  {
   "cell_type": "markdown",
   "metadata": {},
   "source": [
    "# 读入流动性指标"
   ]
  },
  {
   "cell_type": "markdown",
   "metadata": {},
   "source": [
    "### A股"
   ]
  },
  {
   "cell_type": "code",
   "execution_count": 102,
   "metadata": {},
   "outputs": [],
   "source": [
    "st_li_df = pd.read_excel('D:/workspace/zjsxzy_in_js/website/everyday-update/data/amihud_liquidity.xlsx')"
   ]
  },
  {
   "cell_type": "code",
   "execution_count": 103,
   "metadata": {},
   "outputs": [],
   "source": [
    "st_li_df['z'] = st_li_df['wdqa_corwin and schultz'].rolling(243).apply(lambda x: (x[-1] - x.mean()) / x.std())"
   ]
  },
  {
   "cell_type": "code",
   "execution_count": 141,
   "metadata": {},
   "outputs": [],
   "source": [
    "bd_li_df = pd.read_excel('D:/Data/risk/bond_liquidity.xlsx', index_col=0)"
   ]
  },
  {
   "cell_type": "code",
   "execution_count": 142,
   "metadata": {},
   "outputs": [],
   "source": [
    "bd_li_df['z'] = bd_li_df['ILLIQUIDITY'].rolling(window=243).apply(lambda x: (x[-1] - x.mean()) / x.std())"
   ]
  },
  {
   "cell_type": "markdown",
   "metadata": {},
   "source": [
    "# 回测"
   ]
  },
  {
   "cell_type": "markdown",
   "metadata": {},
   "source": [
    "## 基础风险平价"
   ]
  },
  {
   "cell_type": "code",
   "execution_count": 214,
   "metadata": {},
   "outputs": [],
   "source": [
    "def get_assets_risk_budget(st_li=0, hk_li=0, us_li=0, bd_li=0):\n",
    "    assets_risk_budget = np.array([1./6, 1./6, 1./6, 1./4, 1./4])\n",
    "    if st_li > 2:\n",
    "        assets_risk_budget[0] /= st_li\n",
    "    if bd_li > 2:\n",
    "        assets_risk_budget[3] /= (bd_li*5)\n",
    "        assets_risk_budget[4] /= (bd_li*5)\n",
    "    assets_risk_budget = assets_risk_budget / assets_risk_budget.sum()\n",
    "    return assets_risk_budget"
   ]
  },
  {
   "cell_type": "code",
   "execution_count": 176,
   "metadata": {},
   "outputs": [],
   "source": [
    "new_df = df[(df.index >= ret_df.index[0]) & (df.index <= ret_df.index[-1])]"
   ]
  },
  {
   "cell_type": "code",
   "execution_count": 177,
   "metadata": {},
   "outputs": [
    {
     "data": {
      "text/html": [
       "<div>\n",
       "<style scoped>\n",
       "    .dataframe tbody tr th:only-of-type {\n",
       "        vertical-align: middle;\n",
       "    }\n",
       "\n",
       "    .dataframe tbody tr th {\n",
       "        vertical-align: top;\n",
       "    }\n",
       "\n",
       "    .dataframe thead th {\n",
       "        text-align: right;\n",
       "    }\n",
       "</style>\n",
       "<table border=\"1\" class=\"dataframe\">\n",
       "  <thead>\n",
       "    <tr style=\"text-align: right;\">\n",
       "      <th></th>\n",
       "      <th>881001.WI</th>\n",
       "      <th>HSI.HI</th>\n",
       "      <th>SPX.GI</th>\n",
       "      <th>CBA00301.CS</th>\n",
       "      <th>CBA02701.CS</th>\n",
       "    </tr>\n",
       "  </thead>\n",
       "  <tbody>\n",
       "    <tr>\n",
       "      <th>2007-01-05</th>\n",
       "      <td>1474.4288</td>\n",
       "      <td>20211.28</td>\n",
       "      <td>1409.71</td>\n",
       "      <td>116.012</td>\n",
       "      <td>100.1303</td>\n",
       "    </tr>\n",
       "    <tr>\n",
       "      <th>2007-01-08</th>\n",
       "      <td>1522.0564</td>\n",
       "      <td>20029.66</td>\n",
       "      <td>1412.84</td>\n",
       "      <td>116.006</td>\n",
       "      <td>100.1622</td>\n",
       "    </tr>\n",
       "    <tr>\n",
       "      <th>2007-01-09</th>\n",
       "      <td>1564.7432</td>\n",
       "      <td>19898.08</td>\n",
       "      <td>1412.11</td>\n",
       "      <td>116.053</td>\n",
       "      <td>100.0889</td>\n",
       "    </tr>\n",
       "    <tr>\n",
       "      <th>2007-01-10</th>\n",
       "      <td>1603.9025</td>\n",
       "      <td>19568.34</td>\n",
       "      <td>1414.85</td>\n",
       "      <td>116.124</td>\n",
       "      <td>100.1315</td>\n",
       "    </tr>\n",
       "    <tr>\n",
       "      <th>2007-01-11</th>\n",
       "      <td>1595.1082</td>\n",
       "      <td>19385.37</td>\n",
       "      <td>1423.82</td>\n",
       "      <td>116.148</td>\n",
       "      <td>100.1900</td>\n",
       "    </tr>\n",
       "  </tbody>\n",
       "</table>\n",
       "</div>"
      ],
      "text/plain": [
       "            881001.WI    HSI.HI   SPX.GI  CBA00301.CS  CBA02701.CS\n",
       "2007-01-05  1474.4288  20211.28  1409.71      116.012     100.1303\n",
       "2007-01-08  1522.0564  20029.66  1412.84      116.006     100.1622\n",
       "2007-01-09  1564.7432  19898.08  1412.11      116.053     100.0889\n",
       "2007-01-10  1603.9025  19568.34  1414.85      116.124     100.1315\n",
       "2007-01-11  1595.1082  19385.37  1423.82      116.148     100.1900"
      ]
     },
     "execution_count": 177,
     "metadata": {},
     "output_type": "execute_result"
    }
   ],
   "source": [
    "new_df.head()"
   ]
  },
  {
   "cell_type": "code",
   "execution_count": 185,
   "metadata": {},
   "outputs": [
    {
     "name": "stderr",
     "output_type": "stream",
     "text": [
      "C:\\Users\\zhangyang01\\AppData\\Local\\Continuum\\anaconda2\\lib\\site-packages\\ipykernel_launcher.py:7: RuntimeWarning: invalid value encountered in divide\n",
      "  import sys\n"
     ]
    }
   ],
   "source": [
    "weight = pd.DataFrame(columns=new_df.columns, index=new_df.index)\n",
    "n, k = new_df.shape[1], 242\n",
    "wb = np.zeros(n)\n",
    "init_weights = np.array([1. / n] * n)\n",
    "for date in new_df.index:\n",
    "    weight.loc[date] = wb\n",
    "    if date.dayofweek == 4: # 周五调仓\n",
    "        past_return = ret_df[ret_df.index <= date][-k:]\n",
    "        if past_return.shape[0] == k:\n",
    "            covariances = past_return.cov()\n",
    "            temp = wb.copy()\n",
    "            # calculate risk budget\n",
    "            assets_risk_budget = get_assets_risk_budget()\n",
    "            # calculate weight\n",
    "            wb = _get_risk_parity_weights(covariances.values*1e7, assets_risk_budget, init_weights)\n",
    "    rc = _assets_risk_contribution_to_allocation_risk(np.matrix(wb), covariances.values)\n",
    "    if abs((rc / rc.sum() - assets_risk_budget).sum()) > TOLERANCE:\n",
    "        print(date)\n",
    "        wb = temp.copy()"
   ]
  },
  {
   "cell_type": "code",
   "execution_count": 186,
   "metadata": {},
   "outputs": [
    {
     "data": {
      "text/html": [
       "<div>\n",
       "<style scoped>\n",
       "    .dataframe tbody tr th:only-of-type {\n",
       "        vertical-align: middle;\n",
       "    }\n",
       "\n",
       "    .dataframe tbody tr th {\n",
       "        vertical-align: top;\n",
       "    }\n",
       "\n",
       "    .dataframe thead th {\n",
       "        text-align: right;\n",
       "    }\n",
       "</style>\n",
       "<table border=\"1\" class=\"dataframe\">\n",
       "  <thead>\n",
       "    <tr style=\"text-align: right;\">\n",
       "      <th></th>\n",
       "      <th>881001.WI</th>\n",
       "      <th>HSI.HI</th>\n",
       "      <th>SPX.GI</th>\n",
       "      <th>CBA00301.CS</th>\n",
       "      <th>CBA02701.CS</th>\n",
       "    </tr>\n",
       "  </thead>\n",
       "  <tbody>\n",
       "    <tr>\n",
       "      <th>2018-10-09</th>\n",
       "      <td>0.0230061</td>\n",
       "      <td>0.0232878</td>\n",
       "      <td>0.0395033</td>\n",
       "      <td>0.310849</td>\n",
       "      <td>0.603354</td>\n",
       "    </tr>\n",
       "    <tr>\n",
       "      <th>2018-10-10</th>\n",
       "      <td>0.0230061</td>\n",
       "      <td>0.0232878</td>\n",
       "      <td>0.0395033</td>\n",
       "      <td>0.310849</td>\n",
       "      <td>0.603354</td>\n",
       "    </tr>\n",
       "    <tr>\n",
       "      <th>2018-10-11</th>\n",
       "      <td>0.0230061</td>\n",
       "      <td>0.0232878</td>\n",
       "      <td>0.0395033</td>\n",
       "      <td>0.310849</td>\n",
       "      <td>0.603354</td>\n",
       "    </tr>\n",
       "    <tr>\n",
       "      <th>2018-10-12</th>\n",
       "      <td>0.0230061</td>\n",
       "      <td>0.0232878</td>\n",
       "      <td>0.0395033</td>\n",
       "      <td>0.310849</td>\n",
       "      <td>0.603354</td>\n",
       "    </tr>\n",
       "    <tr>\n",
       "      <th>2018-10-15</th>\n",
       "      <td>0.021315</td>\n",
       "      <td>0.0213474</td>\n",
       "      <td>0.0361451</td>\n",
       "      <td>0.313336</td>\n",
       "      <td>0.607857</td>\n",
       "    </tr>\n",
       "  </tbody>\n",
       "</table>\n",
       "</div>"
      ],
      "text/plain": [
       "            881001.WI     HSI.HI     SPX.GI CBA00301.CS CBA02701.CS\n",
       "2018-10-09  0.0230061  0.0232878  0.0395033    0.310849    0.603354\n",
       "2018-10-10  0.0230061  0.0232878  0.0395033    0.310849    0.603354\n",
       "2018-10-11  0.0230061  0.0232878  0.0395033    0.310849    0.603354\n",
       "2018-10-12  0.0230061  0.0232878  0.0395033    0.310849    0.603354\n",
       "2018-10-15   0.021315  0.0213474  0.0361451    0.313336    0.607857"
      ]
     },
     "execution_count": 186,
     "metadata": {},
     "output_type": "execute_result"
    }
   ],
   "source": [
    "weight.tail()"
   ]
  },
  {
   "cell_type": "code",
   "execution_count": 187,
   "metadata": {},
   "outputs": [],
   "source": [
    "portfolio_ret = (weight * ret_df).sum(axis=1)\n",
    "portfolio_ret = portfolio_ret[portfolio_ret != 0]"
   ]
  },
  {
   "cell_type": "code",
   "execution_count": 188,
   "metadata": {},
   "outputs": [],
   "source": [
    "weight_plot = weight.drop_duplicates().iloc[1:].astype(np.float32)"
   ]
  },
  {
   "cell_type": "code",
   "execution_count": 189,
   "metadata": {},
   "outputs": [
    {
     "data": {
      "text/plain": [
       "Text(0.5,0,u'\\u65e5\\u671f')"
      ]
     },
     "execution_count": 189,
     "metadata": {},
     "output_type": "execute_result"
    },
    {
     "data": {
      "image/png": "[encoded data removed]",
      "text/plain": [
       "<Figure size 1152x648 with 1 Axes>"
      ]
     },
     "metadata": {},
     "output_type": "display_data"
    }
   ],
   "source": [
    "fig, ax = plt.subplots(figsize=(16, 9))\n",
    "_ = ax.stackplot(weight_plot.index, \n",
    "                 weight_plot['881001.WI'],\n",
    "                 weight_plot['HSI.HI'],\n",
    "                 weight_plot['SPX.GI'],\n",
    "                 weight_plot['CBA00301.CS'],\n",
    "                 weight_plot['CBA02701.CS'], \n",
    "                 labels=[u'万得全A', u'恒生指数', u'标普500', u'中债利率债', u'中债信用债'])\n",
    "ax.legend(loc='upper left', fontsize=15)\n",
    "ax.set_title(u'风险平价组合历史权重', fontsize=25)\n",
    "ax.set_ylabel(u'权重', fontsize=15)\n",
    "ax.set_xlabel(u'日期', fontsize=15)"
   ]
  },
  {
   "cell_type": "code",
   "execution_count": 190,
   "metadata": {},
   "outputs": [
    {
     "name": "stdout",
     "output_type": "stream",
     "text": [
      "Annual return: 5.15%\n",
      "Sharpe ratio: 2.74\n",
      "Annual volatility: 1.84%\n",
      "Max drawdown: -3.20%\n"
     ]
    }
   ],
   "source": [
    "metric(portfolio_ret)"
   ]
  },
  {
   "cell_type": "code",
   "execution_count": 191,
   "metadata": {},
   "outputs": [
    {
     "data": {
      "text/plain": [
       "Text(0.5,0,u'\\u65e5\\u671f')"
      ]
     },
     "execution_count": 191,
     "metadata": {},
     "output_type": "execute_result"
    },
    {
     "data": {
      "image/png": "[encoded data removed]",
      "text/plain": [
       "<Figure size 1800x720 with 1 Axes>"
      ]
     },
     "metadata": {},
     "output_type": "display_data"
    }
   ],
   "source": [
    "fig, ax = plt.subplots(figsize=(25, 10))\n",
    "ax.plot((1 + portfolio_ret).cumprod(), color='blue')\n",
    "ax.set_title(u'风险平价组合历史净值', fontsize=25)\n",
    "ax.set_ylabel(u'净值', fontsize=15)\n",
    "ax.set_xlabel(u'日期', fontsize=15)"
   ]
  },
  {
   "cell_type": "markdown",
   "metadata": {},
   "source": [
    "## 择时后的风险平价"
   ]
  },
  {
   "cell_type": "code",
   "execution_count": 215,
   "metadata": {},
   "outputs": [
    {
     "name": "stderr",
     "output_type": "stream",
     "text": [
      "C:\\Users\\zhangyang01\\AppData\\Local\\Continuum\\anaconda2\\lib\\site-packages\\ipykernel_launcher.py:7: RuntimeWarning: invalid value encountered in divide\n",
      "  import sys\n"
     ]
    },
    {
     "name": "stdout",
     "output_type": "stream",
     "text": [
      "2013-04-26 00:00:00 2.308187618683588 [0.04470233 0.04985168 0.07106452 0.45571965 0.37866183]\n",
      "2013-05-03 00:00:00 5.257507425635018 [0.05474722 0.06170303 0.08617229 0.47917193 0.31820553]\n",
      "2013-05-10 00:00:00 2.159272856465956 [0.04410023 0.05108581 0.07036126 0.45622594 0.37822676]\n",
      "2013-05-17 00:00:00 2.1910324271151387 [0.04126542 0.0495055  0.06616909 0.48282616 0.36023383]\n",
      "2013-05-24 00:00:00 3.8178771936376146 [0.04794829 0.05611302 0.07769008 0.47634065 0.34190796]\n",
      "2013-05-31 00:00:00 2.9877146194613924 [0.04370938 0.05198938 0.0709202  0.47161897 0.36176207]\n",
      "2013-06-07 00:00:00 2.5067093568128436 [0.04299672 0.05188052 0.07257125 0.46194012 0.37061138]\n",
      "2013-06-14 00:00:00 2.9005992745686973 [0.01143862 0.05866813 0.07410563 0.44638303 0.40940459]\n",
      "2013-06-21 00:00:00 2.501202890892167 [0.02276638 0.08829947 0.1128403  0.33965415 0.4364397 ]\n",
      "2013-06-28 00:00:00 3.118677952907864 [0.0189293  0.11119049 0.14589042 0.31476391 0.40922588]\n",
      "2013-07-12 00:00:00 3.263116075296021 [0.02285524 0.11012911 0.15139142 0.31454912 0.40107511]\n",
      "2013-08-02 00:00:00 2.9167643353409294 [0.07197976 0.09631599 0.14792517 0.31315443 0.37062465]\n",
      "2013-08-09 00:00:00 2.0448754421550945 [0.06338464 0.08364015 0.13020226 0.32638449 0.39638847]\n",
      "2013-08-16 00:00:00 3.625905025805181 [0.08218462 0.10918859 0.16958645 0.29906569 0.33997465]\n",
      "2013-08-30 00:00:00 3.146051305841545 [0.07909192 0.10320041 0.16016351 0.29987752 0.35766666]\n",
      "2013-09-27 00:00:00 2.3993969645350868 [0.0726599  0.09616742 0.14716318 0.3103849  0.37362459]\n",
      "2013-10-25 00:00:00 2.3237892378432146 [0.07318524 0.09594041 0.15174117 0.30434237 0.37479081]\n",
      "2013-11-01 00:00:00 2.603987400071909 [0.07653575 0.09978473 0.16007853 0.29876581 0.36483516]\n",
      "2013-11-15 00:00:00 2.452499485154423 [0.04704704 0.10795118 0.16549888 0.28523106 0.39427184]\n",
      "2013-11-22 00:00:00 2.6307453439872917 [0.07894859 0.10249934 0.17163086 0.27671701 0.37020419]\n",
      "2013-11-29 00:00:00 3.5549601570616383 [0.08909166 0.11663099 0.1990948  0.24981903 0.34536351]\n",
      "2013-12-06 00:00:00 2.509690105292722 [0.02695579 0.11830558 0.17465353 0.27391974 0.40616537]\n",
      "2013-12-13 00:00:00 2.4820850264020584 [0.07920961 0.1037867  0.1726023  0.26053378 0.3838676 ]\n",
      "2013-12-20 00:00:00 2.139727372066523 [0.07565531 0.09787461 0.16201076 0.26855575 0.39590357]\n",
      "2013-12-27 00:00:00 2.9843365920962017 [0.08639085 0.11132185 0.18869102 0.24608313 0.36751314]\n",
      "2014-01-03 00:00:00 2.2181444424966275 [0.0771103  0.09798068 0.1672701  0.26262846 0.39501047]\n",
      "2014-01-17 00:00:00 2.1248320951725304 [0.07432083 0.0979304  0.16941311 0.25453248 0.40380319]\n",
      "2014-10-24 00:00:00 2.0972825758515974 [0.05137564 0.10949399 0.159737   0.26671843 0.41267494]\n",
      "2014-10-31 00:00:00 2.6982235646983552 [0.05306115 0.12185399 0.1762103  0.26093109 0.38794347]\n",
      "2014-11-07 00:00:00 2.211950476548959 [0.08422856 0.1033696  0.16355533 0.2659405  0.38290601]\n",
      "2014-12-12 00:00:00 3.3988409998242513 [0.07734945 0.1567103  0.24241828 0.26561389 0.25790808]\n",
      "2016-01-15 00:00:00 2.786964511302217 [0.03081761 0.06727147 0.09524307 0.30808069 0.49858716]\n",
      "2016-04-29 00:00:00 2.7444692895514606 [0.02683881 0.05677768 0.08541067 0.31291992 0.51805292]\n",
      "2016-07-29 00:00:00 2.440446436410498 [0.03028281 0.05324633 0.07447717 0.32105064 0.52094306]\n",
      "2016-08-26 00:00:00 2.1765583742924686 [0.03433152 0.05322706 0.08096314 0.31920983 0.51226844]\n",
      "2016-10-21 00:00:00 2.1756912841600244 [0.03756787 0.05820014 0.09122504 0.28724496 0.52576199]\n",
      "2016-10-28 00:00:00 2.355404721119188 [0.03923947 0.06051023 0.09509864 0.28917905 0.51597261]\n",
      "2016-11-04 00:00:00 3.180592633207289 [0.04275998 0.06577576 0.10277744 0.27457273 0.51411409]\n",
      "2016-12-02 00:00:00 2.1068339721204556 [0.04149261 0.06217975 0.09796761 0.29326876 0.50509127]\n",
      "2016-12-09 00:00:00 4.467653461103419 [0.05845479 0.08777256 0.13816484 0.24959059 0.46601722]\n",
      "2016-12-16 00:00:00 2.697746718230928 [0.05669725 0.08488394 0.13838668 0.25365805 0.46637408]\n",
      "2016-12-23 00:00:00 3.7584661587737496 [0.06660627 0.09986144 0.16341543 0.23422026 0.4358966 ]\n",
      "2016-12-30 00:00:00 3.613680733091335 [0.06926199 0.09900234 0.16413754 0.24941075 0.41818738]\n",
      "2017-01-13 00:00:00 2.5943919554636445 [0.07318481 0.09218488 0.16492535 0.24919256 0.42051241]\n",
      "2017-03-17 00:00:00 2.384286296601395 [0.09684427 0.096728   0.176893   0.22622907 0.40330566]\n",
      "2017-03-24 00:00:00 2.2726765435589824 [0.09680839 0.09628252 0.17445249 0.22770069 0.4047559 ]\n",
      "2017-04-28 00:00:00 2.0910169782641534 [0.10056793 0.09629527 0.17471525 0.23756431 0.39085724]\n",
      "2017-06-16 00:00:00 2.5350698493575914 [0.13207386 0.11734823 0.20051928 0.20873676 0.34132187]\n",
      "2017-12-15 00:00:00 2.2510673309003355 [0.10083967 0.09686265 0.18877439 0.27851292 0.33501037]\n",
      "2018-03-02 00:00:00 2.9780526022833556 [0.09248278 0.08555785 0.1434574  0.29751458 0.38098739]\n",
      "2018-03-09 00:00:00 2.3611979178477425 [0.08219829 0.07598513 0.12692715 0.30286325 0.41202619]\n",
      "2018-03-30 00:00:00 2.105802052009617 [0.01814214 0.07452535 0.09726831 0.35176201 0.45830218]\n",
      "2018-04-20 00:00:00 2.8625855772228035 [0.08777459 0.0818991  0.12368851 0.31395262 0.39268519]\n",
      "2018-05-11 00:00:00 2.3000139522627983 [0.07688059 0.07110667 0.10855333 0.31051439 0.43294501]\n",
      "2018-05-18 00:00:00 3.1622216895614206 [0.08768443 0.0797568  0.12450275 0.31370441 0.39435161]\n",
      "2018-05-25 00:00:00 3.7065777413715795 [0.09196385 0.08290475 0.13012894 0.32015631 0.37484616]\n",
      "2018-06-15 00:00:00 2.282418884319929 [0.0728271  0.06588754 0.10578951 0.34097238 0.41452347]\n",
      "2018-06-22 00:00:00 2.282418884319929 [0.01543141 0.07909358 0.10710112 0.34421659 0.4541573 ]\n",
      "2018-06-29 00:00:00 2.849110189008807 [0.07102388 0.06751372 0.10947799 0.34919667 0.40278775]\n"
     ]
    }
   ],
   "source": [
    "weight = pd.DataFrame(columns=new_df.columns, index=new_df.index)\n",
    "n, k = new_df.shape[1], 242\n",
    "wb = np.zeros(n)\n",
    "init_weights = np.array([1. / n] * n)\n",
    "for date in new_df.index:\n",
    "    weight.loc[date] = wb\n",
    "    if date.dayofweek == 4: # 周五调仓\n",
    "        if date in st_li_df.index:\n",
    "            st_li = st_li_df[st_li_df.index <= date]['z'][-5:].max()\n",
    "        else:\n",
    "            st_li = 0\n",
    "        if date in bd_li_df.index:\n",
    "            bd_li = bd_li_df[bd_li_df.index <= date]['z'][-5:].max()\n",
    "        else:\n",
    "            bd_li = 0\n",
    "        past_return = ret_df[ret_df.index <= date][-k:]\n",
    "        if past_return.shape[0] == k:\n",
    "            covariances = past_return.cov()\n",
    "            temp = wb.copy()\n",
    "            # calculate risk budget\n",
    "            assets_risk_budget = get_assets_risk_budget(st_li=st_li, bd_li=bd_li)\n",
    "            # calculate weight\n",
    "            wb = _get_risk_parity_weights(covariances.values*1e7, assets_risk_budget, init_weights)\n",
    "        if bd_li > 2:\n",
    "            print date, bd_li, wb\n",
    "        rc = _assets_risk_contribution_to_allocation_risk(np.matrix(wb), covariances.values)\n",
    "        if abs((rc / rc.sum() - assets_risk_budget).sum()) > TOLERANCE:\n",
    "            print(date)\n",
    "            wb = temp.copy()"
   ]
  },
  {
   "cell_type": "code",
   "execution_count": 216,
   "metadata": {},
   "outputs": [],
   "source": [
    "portfolio_ret1 = (weight * ret_df).sum(axis=1)\n",
    "portfolio_ret1 = portfolio_ret1[portfolio_ret1 != 0]"
   ]
  },
  {
   "cell_type": "code",
   "execution_count": 217,
   "metadata": {},
   "outputs": [
    {
     "name": "stdout",
     "output_type": "stream",
     "text": [
      "Annual return: 5.21%\n",
      "Sharpe ratio: 2.56\n",
      "Annual volatility: 1.99%\n",
      "Max drawdown: -3.05%\n"
     ]
    }
   ],
   "source": [
    "metric(portfolio_ret1)"
   ]
  },
  {
   "cell_type": "code",
   "execution_count": 218,
   "metadata": {},
   "outputs": [
    {
     "data": {
      "text/plain": [
       "Text(0.5,0,u'\\u65e5\\u671f')"
      ]
     },
     "execution_count": 218,
     "metadata": {},
     "output_type": "execute_result"
    },
    {
     "data": {
      "image/png": "[encoded data removed]",
      "text/plain": [
       "<Figure size 1800x720 with 1 Axes>"
      ]
     },
     "metadata": {},
     "output_type": "display_data"
    }
   ],
   "source": [
    "fig, ax = plt.subplots(figsize=(25, 10))\n",
    "ax.plot((1 + portfolio_ret).cumprod(), color='blue', label=u'基础RP')\n",
    "ax.plot((1 + portfolio_ret1).cumprod(), color='red', label=u'择时RP')\n",
    "ax.legend()\n",
    "ax.set_title(u'风险平价组合历史净值', fontsize=25)\n",
    "ax.set_ylabel(u'净值', fontsize=15)\n",
    "ax.set_xlabel(u'日期', fontsize=15)"
   ]
  },
  {
   "cell_type": "code",
   "execution_count": null,
   "metadata": {},
   "outputs": [],
   "source": []
  }
 ],
 "metadata": {
  "kernelspec": {
   "display_name": "Python 2",
   "language": "python",
   "name": "python2"
  },
  "language_info": {
   "codemirror_mode": {
    "name": "ipython",
    "version": 2
   },
   "file_extension": ".py",
   "mimetype": "text/x-python",
   "name": "python",
   "nbconvert_exporter": "python",
   "pygments_lexer": "ipython2",
   "version": "2.7.14"
  }
 },
 "nbformat": 4,
 "nbformat_minor": 2
}
